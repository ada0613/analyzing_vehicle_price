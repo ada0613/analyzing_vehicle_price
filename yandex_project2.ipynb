{
 "cells": [
  {
   "cell_type": "markdown",
   "metadata": {},
   "source": [
    "# Research on car sales ads\n",
    "\n",
    "You're an analyst at Crankshaft List. Hundreds of free advertisements for vehicles are published on your site every day.\n",
    "\n",
    "You need to study data collected over the last few years and determine which factors influence the price of a vehicle. "
   ]
  },
  {
   "cell_type": "markdown",
   "metadata": {},
   "source": [
    "## Open the data file and study the general information. "
   ]
  },
  {
   "cell_type": "code",
   "execution_count": 1,
   "metadata": {},
   "outputs": [],
   "source": [
    "# import pandas\n",
    "import pandas as pd\n",
    "# import numpy\n",
    "import numpy as np\n",
    "# matplotlib for visualization\n",
    "import matplotlib.pyplot as plt\n",
    "# change datetime\n",
    "import datetime\n",
    "import seaborn as sns"
   ]
  },
  {
   "cell_type": "code",
   "execution_count": 2,
   "metadata": {
    "scrolled": true
   },
   "outputs": [
    {
     "name": "stdout",
     "output_type": "stream",
     "text": [
      "Read the data successfully. \n"
     ]
    }
   ],
   "source": [
    "# read the data\n",
    "try: \n",
    "    df = pd.read_csv('/datasets/vehicles_us.csv')\n",
    "except:\n",
    "    print('Somethong went wrong.')\n",
    "else:\n",
    "    print(\"Read the data successfully. \")"
   ]
  },
  {
   "cell_type": "markdown",
   "metadata": {},
   "source": [
    "#### <font color='Purple'>Student's commentary:</font> Done <a class=\"tocSkip\">"
   ]
  },
  {
   "cell_type": "code",
   "execution_count": 3,
   "metadata": {},
   "outputs": [
    {
     "data": {
      "text/html": [
       "<div>\n",
       "<style scoped>\n",
       "    .dataframe tbody tr th:only-of-type {\n",
       "        vertical-align: middle;\n",
       "    }\n",
       "\n",
       "    .dataframe tbody tr th {\n",
       "        vertical-align: top;\n",
       "    }\n",
       "\n",
       "    .dataframe thead th {\n",
       "        text-align: right;\n",
       "    }\n",
       "</style>\n",
       "<table border=\"1\" class=\"dataframe\">\n",
       "  <thead>\n",
       "    <tr style=\"text-align: right;\">\n",
       "      <th></th>\n",
       "      <th>price</th>\n",
       "      <th>model_year</th>\n",
       "      <th>model</th>\n",
       "      <th>condition</th>\n",
       "      <th>cylinders</th>\n",
       "      <th>fuel</th>\n",
       "      <th>odometer</th>\n",
       "      <th>transmission</th>\n",
       "      <th>type</th>\n",
       "      <th>paint_color</th>\n",
       "      <th>is_4wd</th>\n",
       "      <th>date_posted</th>\n",
       "      <th>days_listed</th>\n",
       "    </tr>\n",
       "  </thead>\n",
       "  <tbody>\n",
       "    <tr>\n",
       "      <td>0</td>\n",
       "      <td>9400</td>\n",
       "      <td>2011.0</td>\n",
       "      <td>bmw x5</td>\n",
       "      <td>good</td>\n",
       "      <td>6.0</td>\n",
       "      <td>gas</td>\n",
       "      <td>145000.0</td>\n",
       "      <td>automatic</td>\n",
       "      <td>SUV</td>\n",
       "      <td>NaN</td>\n",
       "      <td>1.0</td>\n",
       "      <td>2018-06-23</td>\n",
       "      <td>19</td>\n",
       "    </tr>\n",
       "    <tr>\n",
       "      <td>1</td>\n",
       "      <td>25500</td>\n",
       "      <td>NaN</td>\n",
       "      <td>ford f-150</td>\n",
       "      <td>good</td>\n",
       "      <td>6.0</td>\n",
       "      <td>gas</td>\n",
       "      <td>88705.0</td>\n",
       "      <td>automatic</td>\n",
       "      <td>pickup</td>\n",
       "      <td>white</td>\n",
       "      <td>1.0</td>\n",
       "      <td>2018-10-19</td>\n",
       "      <td>50</td>\n",
       "    </tr>\n",
       "    <tr>\n",
       "      <td>2</td>\n",
       "      <td>5500</td>\n",
       "      <td>2013.0</td>\n",
       "      <td>hyundai sonata</td>\n",
       "      <td>like new</td>\n",
       "      <td>4.0</td>\n",
       "      <td>gas</td>\n",
       "      <td>110000.0</td>\n",
       "      <td>automatic</td>\n",
       "      <td>sedan</td>\n",
       "      <td>red</td>\n",
       "      <td>NaN</td>\n",
       "      <td>2019-02-07</td>\n",
       "      <td>79</td>\n",
       "    </tr>\n",
       "    <tr>\n",
       "      <td>3</td>\n",
       "      <td>1500</td>\n",
       "      <td>2003.0</td>\n",
       "      <td>ford f-150</td>\n",
       "      <td>fair</td>\n",
       "      <td>8.0</td>\n",
       "      <td>gas</td>\n",
       "      <td>NaN</td>\n",
       "      <td>automatic</td>\n",
       "      <td>pickup</td>\n",
       "      <td>NaN</td>\n",
       "      <td>NaN</td>\n",
       "      <td>2019-03-22</td>\n",
       "      <td>9</td>\n",
       "    </tr>\n",
       "    <tr>\n",
       "      <td>4</td>\n",
       "      <td>14900</td>\n",
       "      <td>2017.0</td>\n",
       "      <td>chrysler 200</td>\n",
       "      <td>excellent</td>\n",
       "      <td>4.0</td>\n",
       "      <td>gas</td>\n",
       "      <td>80903.0</td>\n",
       "      <td>automatic</td>\n",
       "      <td>sedan</td>\n",
       "      <td>black</td>\n",
       "      <td>NaN</td>\n",
       "      <td>2019-04-02</td>\n",
       "      <td>28</td>\n",
       "    </tr>\n",
       "  </tbody>\n",
       "</table>\n",
       "</div>"
      ],
      "text/plain": [
       "   price  model_year           model  condition  cylinders fuel  odometer  \\\n",
       "0   9400      2011.0          bmw x5       good        6.0  gas  145000.0   \n",
       "1  25500         NaN      ford f-150       good        6.0  gas   88705.0   \n",
       "2   5500      2013.0  hyundai sonata   like new        4.0  gas  110000.0   \n",
       "3   1500      2003.0      ford f-150       fair        8.0  gas       NaN   \n",
       "4  14900      2017.0    chrysler 200  excellent        4.0  gas   80903.0   \n",
       "\n",
       "  transmission    type paint_color  is_4wd date_posted  days_listed  \n",
       "0    automatic     SUV         NaN     1.0  2018-06-23           19  \n",
       "1    automatic  pickup       white     1.0  2018-10-19           50  \n",
       "2    automatic   sedan         red     NaN  2019-02-07           79  \n",
       "3    automatic  pickup         NaN     NaN  2019-03-22            9  \n",
       "4    automatic   sedan       black     NaN  2019-04-02           28  "
      ]
     },
     "execution_count": 3,
     "metadata": {},
     "output_type": "execute_result"
    }
   ],
   "source": [
    "# using head() to see the first few rows of the dataframe\n",
    "df.head()"
   ]
  },
  {
   "cell_type": "code",
   "execution_count": 4,
   "metadata": {
    "scrolled": true
   },
   "outputs": [
    {
     "name": "stdout",
     "output_type": "stream",
     "text": [
      "<class 'pandas.core.frame.DataFrame'>\n",
      "RangeIndex: 51525 entries, 0 to 51524\n",
      "Data columns (total 13 columns):\n",
      "price           51525 non-null int64\n",
      "model_year      47906 non-null float64\n",
      "model           51525 non-null object\n",
      "condition       51525 non-null object\n",
      "cylinders       46265 non-null float64\n",
      "fuel            51525 non-null object\n",
      "odometer        43633 non-null float64\n",
      "transmission    51525 non-null object\n",
      "type            51525 non-null object\n",
      "paint_color     42258 non-null object\n",
      "is_4wd          25572 non-null float64\n",
      "date_posted     51525 non-null object\n",
      "days_listed     51525 non-null int64\n",
      "dtypes: float64(4), int64(2), object(7)\n",
      "memory usage: 5.1+ MB\n"
     ]
    }
   ],
   "source": [
    "# see the datatype using info()\n",
    "df.info()"
   ]
  },
  {
   "cell_type": "code",
   "execution_count": 5,
   "metadata": {},
   "outputs": [
    {
     "data": {
      "text/plain": [
       "(51525, 13)"
      ]
     },
     "execution_count": 5,
     "metadata": {},
     "output_type": "execute_result"
    }
   ],
   "source": [
    "# see the shape of the data\n",
    "df.shape"
   ]
  },
  {
   "cell_type": "code",
   "execution_count": 6,
   "metadata": {},
   "outputs": [
    {
     "data": {
      "text/plain": [
       "price               0\n",
       "model_year       3619\n",
       "model               0\n",
       "condition           0\n",
       "cylinders        5260\n",
       "fuel                0\n",
       "odometer         7892\n",
       "transmission        0\n",
       "type                0\n",
       "paint_color      9267\n",
       "is_4wd          25953\n",
       "date_posted         0\n",
       "days_listed         0\n",
       "dtype: int64"
      ]
     },
     "execution_count": 6,
     "metadata": {},
     "output_type": "execute_result"
    }
   ],
   "source": [
    "# check the missing value\n",
    "df.isnull().sum()"
   ]
  },
  {
   "cell_type": "markdown",
   "metadata": {},
   "source": [
    "### Conclusion"
   ]
  },
  {
   "cell_type": "markdown",
   "metadata": {},
   "source": [
    "After doing some general analysis of the dataset, we observe that there are some float data type that we need to covert to integer; the data has 51525 rows and 13 columns; 'model_year', 'cylinders', 'odometer', 'paint_color', and 'is4wd' has missing data."
   ]
  },
  {
   "cell_type": "markdown",
   "metadata": {},
   "source": [
    "## Data preprocessing"
   ]
  },
  {
   "cell_type": "markdown",
   "metadata": {},
   "source": [
    "### Processing Missing Values"
   ]
  },
  {
   "cell_type": "code",
   "execution_count": 7,
   "metadata": {},
   "outputs": [
    {
     "data": {
      "text/plain": [
       "price            0.000000\n",
       "model_year       7.023775\n",
       "model            0.000000\n",
       "condition        0.000000\n",
       "cylinders       10.208637\n",
       "fuel             0.000000\n",
       "odometer        15.316836\n",
       "transmission     0.000000\n",
       "type             0.000000\n",
       "paint_color     17.985444\n",
       "is_4wd          50.369723\n",
       "date_posted      0.000000\n",
       "days_listed      0.000000\n",
       "dtype: float64"
      ]
     },
     "execution_count": 7,
     "metadata": {},
     "output_type": "execute_result"
    }
   ],
   "source": [
    "# caculate the percentage of missing value \n",
    "df.isnull().sum() * 100 / len(df)\n"
   ]
  },
  {
   "cell_type": "markdown",
   "metadata": {},
   "source": [
    "We noticed there are 5 columns have missing values. In 'is4wd', particularly, half of the values are missing."
   ]
  },
  {
   "cell_type": "code",
   "execution_count": 8,
   "metadata": {},
   "outputs": [
    {
     "data": {
      "text/html": [
       "<div>\n",
       "<style scoped>\n",
       "    .dataframe tbody tr th:only-of-type {\n",
       "        vertical-align: middle;\n",
       "    }\n",
       "\n",
       "    .dataframe tbody tr th {\n",
       "        vertical-align: top;\n",
       "    }\n",
       "\n",
       "    .dataframe thead th {\n",
       "        text-align: right;\n",
       "    }\n",
       "</style>\n",
       "<table border=\"1\" class=\"dataframe\">\n",
       "  <thead>\n",
       "    <tr style=\"text-align: right;\">\n",
       "      <th></th>\n",
       "      <th>price</th>\n",
       "      <th>model_year</th>\n",
       "      <th>cylinders</th>\n",
       "      <th>odometer</th>\n",
       "      <th>is_4wd</th>\n",
       "      <th>days_listed</th>\n",
       "    </tr>\n",
       "  </thead>\n",
       "  <tbody>\n",
       "    <tr>\n",
       "      <td>count</td>\n",
       "      <td>51525.000000</td>\n",
       "      <td>47906.000000</td>\n",
       "      <td>46265.000000</td>\n",
       "      <td>43633.000000</td>\n",
       "      <td>25572.0</td>\n",
       "      <td>51525.00000</td>\n",
       "    </tr>\n",
       "    <tr>\n",
       "      <td>mean</td>\n",
       "      <td>12132.464920</td>\n",
       "      <td>2009.750470</td>\n",
       "      <td>6.125235</td>\n",
       "      <td>115553.461738</td>\n",
       "      <td>1.0</td>\n",
       "      <td>39.55476</td>\n",
       "    </tr>\n",
       "    <tr>\n",
       "      <td>std</td>\n",
       "      <td>10040.803015</td>\n",
       "      <td>6.282065</td>\n",
       "      <td>1.660360</td>\n",
       "      <td>65094.611341</td>\n",
       "      <td>0.0</td>\n",
       "      <td>28.20427</td>\n",
       "    </tr>\n",
       "    <tr>\n",
       "      <td>min</td>\n",
       "      <td>1.000000</td>\n",
       "      <td>1908.000000</td>\n",
       "      <td>3.000000</td>\n",
       "      <td>0.000000</td>\n",
       "      <td>1.0</td>\n",
       "      <td>0.00000</td>\n",
       "    </tr>\n",
       "    <tr>\n",
       "      <td>25%</td>\n",
       "      <td>5000.000000</td>\n",
       "      <td>2006.000000</td>\n",
       "      <td>4.000000</td>\n",
       "      <td>70000.000000</td>\n",
       "      <td>1.0</td>\n",
       "      <td>19.00000</td>\n",
       "    </tr>\n",
       "    <tr>\n",
       "      <td>50%</td>\n",
       "      <td>9000.000000</td>\n",
       "      <td>2011.000000</td>\n",
       "      <td>6.000000</td>\n",
       "      <td>113000.000000</td>\n",
       "      <td>1.0</td>\n",
       "      <td>33.00000</td>\n",
       "    </tr>\n",
       "    <tr>\n",
       "      <td>75%</td>\n",
       "      <td>16839.000000</td>\n",
       "      <td>2014.000000</td>\n",
       "      <td>8.000000</td>\n",
       "      <td>155000.000000</td>\n",
       "      <td>1.0</td>\n",
       "      <td>53.00000</td>\n",
       "    </tr>\n",
       "    <tr>\n",
       "      <td>max</td>\n",
       "      <td>375000.000000</td>\n",
       "      <td>2019.000000</td>\n",
       "      <td>12.000000</td>\n",
       "      <td>990000.000000</td>\n",
       "      <td>1.0</td>\n",
       "      <td>271.00000</td>\n",
       "    </tr>\n",
       "  </tbody>\n",
       "</table>\n",
       "</div>"
      ],
      "text/plain": [
       "               price    model_year     cylinders       odometer   is_4wd  \\\n",
       "count   51525.000000  47906.000000  46265.000000   43633.000000  25572.0   \n",
       "mean    12132.464920   2009.750470      6.125235  115553.461738      1.0   \n",
       "std     10040.803015      6.282065      1.660360   65094.611341      0.0   \n",
       "min         1.000000   1908.000000      3.000000       0.000000      1.0   \n",
       "25%      5000.000000   2006.000000      4.000000   70000.000000      1.0   \n",
       "50%      9000.000000   2011.000000      6.000000  113000.000000      1.0   \n",
       "75%     16839.000000   2014.000000      8.000000  155000.000000      1.0   \n",
       "max    375000.000000   2019.000000     12.000000  990000.000000      1.0   \n",
       "\n",
       "       days_listed  \n",
       "count  51525.00000  \n",
       "mean      39.55476  \n",
       "std       28.20427  \n",
       "min        0.00000  \n",
       "25%       19.00000  \n",
       "50%       33.00000  \n",
       "75%       53.00000  \n",
       "max      271.00000  "
      ]
     },
     "execution_count": 8,
     "metadata": {},
     "output_type": "execute_result"
    }
   ],
   "source": [
    "# see the statistical info of our data\n",
    "df.describe()"
   ]
  },
  {
   "cell_type": "code",
   "execution_count": 9,
   "metadata": {},
   "outputs": [
    {
     "data": {
      "text/plain": [
       "array([1., 0.])"
      ]
     },
     "execution_count": 9,
     "metadata": {},
     "output_type": "execute_result"
    }
   ],
   "source": [
    "# we replace missing values in 'is_4wd' with 0.\n",
    "df['is_4wd'].fillna(0, inplace = True)\n",
    "df['is_4wd'].unique()"
   ]
  },
  {
   "cell_type": "code",
   "execution_count": 10,
   "metadata": {},
   "outputs": [],
   "source": [
    "# drop missing values in 'model_year' and 'cylinders'\n",
    "df = df.dropna(subset=['model_year', 'cylinders']).reset_index(drop=True)\n"
   ]
  },
  {
   "cell_type": "code",
   "execution_count": 11,
   "metadata": {},
   "outputs": [
    {
     "data": {
      "image/png": "[encoded data removed]",
      "text/plain": [
       "<Figure size 432x288 with 1 Axes>"
      ]
     },
     "metadata": {
      "needs_background": "light"
     },
     "output_type": "display_data"
    }
   ],
   "source": [
    "# using plots to determine how to deal with missing values in 'odometer' column\n",
    "sns.boxplot(df.odometer);"
   ]
  },
  {
   "cell_type": "markdown",
   "metadata": {},
   "source": [
    "From the boxplot we can see that the odometer data is skewed, there are several or large numbers of data points that act as outliers. Outliers data points will have a significant impact on the mean and hence, we will use median for replacing the missing values. "
   ]
  },
  {
   "cell_type": "code",
   "execution_count": 12,
   "metadata": {},
   "outputs": [],
   "source": [
    "# replace missing values in 'odometer' with the median value\n",
    "df['odometer'] = df['odometer'].fillna(df['odometer'].median())"
   ]
  },
  {
   "cell_type": "code",
   "execution_count": 13,
   "metadata": {},
   "outputs": [],
   "source": [
    "# fill missing values in 'paint_color' with 'others'\n",
    "df['paint_color'] = df['paint_color'].fillna(value = 'others')"
   ]
  },
  {
   "cell_type": "code",
   "execution_count": 14,
   "metadata": {
    "scrolled": true
   },
   "outputs": [
    {
     "data": {
      "text/plain": [
       "price           0\n",
       "model_year      0\n",
       "model           0\n",
       "condition       0\n",
       "cylinders       0\n",
       "fuel            0\n",
       "odometer        0\n",
       "transmission    0\n",
       "type            0\n",
       "paint_color     0\n",
       "is_4wd          0\n",
       "date_posted     0\n",
       "days_listed     0\n",
       "dtype: int64"
      ]
     },
     "execution_count": 14,
     "metadata": {},
     "output_type": "execute_result"
    }
   ],
   "source": [
    "# now we don't have missing values\n",
    "df.isnull().sum()"
   ]
  },
  {
   "cell_type": "markdown",
   "metadata": {},
   "source": [
    "- In 'is_4wd' column, we can imply that 0 means not 4wd and 1 means is 4wd. We can assume the missing value in 'is_4wd' means vehicles are not 4wd.\n",
    "- Since the number of missing values in 'model_year' and 'cylinders' is less than 10%, we would drop missing values in this columns. \n",
    "- The 'odometer' column contains significant outliers, as the standard deviation is huge, so we will replace the missing value with the median of the column.\n",
    "- We will replace the missing values in 'paint_color' with 'others', because median value does not exist in categorical variables."
   ]
  },
  {
   "cell_type": "markdown",
   "metadata": {},
   "source": [
    "### Conclusion"
   ]
  },
  {
   "cell_type": "markdown",
   "metadata": {},
   "source": [
    "We identified the missing values of this dataset by using different method to handling them. For categorical value, we replace missing value with the median value; for quantitative value, we replace missing value with 'others'. Moreover, for column with small portion of missing values, we drop them. Lastly, for column with boolean values (0:False 1: True), we replace missing values with 0s. "
   ]
  },
  {
   "cell_type": "markdown",
   "metadata": {},
   "source": [
    "### Change Data Type"
   ]
  },
  {
   "cell_type": "code",
   "execution_count": 15,
   "metadata": {
    "scrolled": true
   },
   "outputs": [
    {
     "data": {
      "text/plain": [
       "price             int64\n",
       "model_year      float64\n",
       "model            object\n",
       "condition        object\n",
       "cylinders       float64\n",
       "fuel             object\n",
       "odometer        float64\n",
       "transmission     object\n",
       "type             object\n",
       "paint_color      object\n",
       "is_4wd          float64\n",
       "date_posted      object\n",
       "days_listed       int64\n",
       "dtype: object"
      ]
     },
     "execution_count": 15,
     "metadata": {},
     "output_type": "execute_result"
    }
   ],
   "source": [
    "# see the data types\n",
    "df.dtypes"
   ]
  },
  {
   "cell_type": "markdown",
   "metadata": {},
   "source": [
    "We need to convert columns ('model_year', 'cylinders', 'odometer', 'is_4wd') with floats to integers."
   ]
  },
  {
   "cell_type": "code",
   "execution_count": 16,
   "metadata": {},
   "outputs": [],
   "source": [
    "# convert these columns to integers.\n",
    "df['model_year'] = df['model_year'].astype('int64')\n",
    "df['cylinders'] = df['cylinders'].astype('int64')\n",
    "df['odometer'] = df['odometer'].astype('int64')\n",
    "df['is_4wd'] = df['is_4wd'].astype('bool')"
   ]
  },
  {
   "cell_type": "code",
   "execution_count": 17,
   "metadata": {
    "scrolled": true
   },
   "outputs": [
    {
     "data": {
      "text/plain": [
       "price            int64\n",
       "model_year       int64\n",
       "model           object\n",
       "condition       object\n",
       "cylinders        int64\n",
       "fuel            object\n",
       "odometer         int64\n",
       "transmission    object\n",
       "type            object\n",
       "paint_color     object\n",
       "is_4wd            bool\n",
       "date_posted     object\n",
       "days_listed      int64\n",
       "dtype: object"
      ]
     },
     "execution_count": 17,
     "metadata": {},
     "output_type": "execute_result"
    }
   ],
   "source": [
    "# now we don't have columns with float data types.\n",
    "df.dtypes"
   ]
  },
  {
   "cell_type": "markdown",
   "metadata": {},
   "source": [
    "### Conclusion"
   ]
  },
  {
   "cell_type": "markdown",
   "metadata": {},
   "source": [
    "We convert columns with float data types to integers using .astype() method."
   ]
  },
  {
   "cell_type": "markdown",
   "metadata": {},
   "source": [
    "## Make calculations and add them to the table"
   ]
  },
  {
   "cell_type": "markdown",
   "metadata": {},
   "source": [
    "### Replace string values with a numeric scale"
   ]
  },
  {
   "cell_type": "code",
   "execution_count": 18,
   "metadata": {},
   "outputs": [],
   "source": [
    "# In the condition column, replace string values with a numeric scale: \n",
    "# new = 5 like new = 4 excellent = 3 good = 2 fair = 1 salvage = 0\n",
    "df['condition'] = df['condition'].replace(['new', 'like new', 'excellent', 'good', 'fair', 'salvage'], [5, 4, 3, 2, 1, 0])"
   ]
  },
  {
   "cell_type": "markdown",
   "metadata": {},
   "source": [
    "### Calculate and add day of the week, month, and year the ad was placed"
   ]
  },
  {
   "cell_type": "code",
   "execution_count": 19,
   "metadata": {},
   "outputs": [],
   "source": [
    "# first change 'date_posted' to the datetime format\n",
    "df['date_posted'] = pd.to_datetime(df['date_posted'], format='%Y-%m-%d')\n"
   ]
  },
  {
   "cell_type": "code",
   "execution_count": 20,
   "metadata": {},
   "outputs": [
    {
     "data": {
      "text/html": [
       "<div>\n",
       "<style scoped>\n",
       "    .dataframe tbody tr th:only-of-type {\n",
       "        vertical-align: middle;\n",
       "    }\n",
       "\n",
       "    .dataframe tbody tr th {\n",
       "        vertical-align: top;\n",
       "    }\n",
       "\n",
       "    .dataframe thead th {\n",
       "        text-align: right;\n",
       "    }\n",
       "</style>\n",
       "<table border=\"1\" class=\"dataframe\">\n",
       "  <thead>\n",
       "    <tr style=\"text-align: right;\">\n",
       "      <th></th>\n",
       "      <th>price</th>\n",
       "      <th>model_year</th>\n",
       "      <th>model</th>\n",
       "      <th>condition</th>\n",
       "      <th>cylinders</th>\n",
       "      <th>fuel</th>\n",
       "      <th>odometer</th>\n",
       "      <th>transmission</th>\n",
       "      <th>type</th>\n",
       "      <th>paint_color</th>\n",
       "      <th>is_4wd</th>\n",
       "      <th>date_posted</th>\n",
       "      <th>days_listed</th>\n",
       "      <th>dayofweek</th>\n",
       "      <th>week</th>\n",
       "      <th>month</th>\n",
       "      <th>year</th>\n",
       "    </tr>\n",
       "  </thead>\n",
       "  <tbody>\n",
       "    <tr>\n",
       "      <td>0</td>\n",
       "      <td>9400</td>\n",
       "      <td>2011</td>\n",
       "      <td>bmw x5</td>\n",
       "      <td>2</td>\n",
       "      <td>6</td>\n",
       "      <td>gas</td>\n",
       "      <td>145000</td>\n",
       "      <td>automatic</td>\n",
       "      <td>SUV</td>\n",
       "      <td>others</td>\n",
       "      <td>True</td>\n",
       "      <td>2018-06-23</td>\n",
       "      <td>19</td>\n",
       "      <td>Saturday</td>\n",
       "      <td>25</td>\n",
       "      <td>June</td>\n",
       "      <td>2018</td>\n",
       "    </tr>\n",
       "    <tr>\n",
       "      <td>1</td>\n",
       "      <td>5500</td>\n",
       "      <td>2013</td>\n",
       "      <td>hyundai sonata</td>\n",
       "      <td>4</td>\n",
       "      <td>4</td>\n",
       "      <td>gas</td>\n",
       "      <td>110000</td>\n",
       "      <td>automatic</td>\n",
       "      <td>sedan</td>\n",
       "      <td>red</td>\n",
       "      <td>False</td>\n",
       "      <td>2019-02-07</td>\n",
       "      <td>79</td>\n",
       "      <td>Thursday</td>\n",
       "      <td>6</td>\n",
       "      <td>February</td>\n",
       "      <td>2019</td>\n",
       "    </tr>\n",
       "    <tr>\n",
       "      <td>2</td>\n",
       "      <td>1500</td>\n",
       "      <td>2003</td>\n",
       "      <td>ford f-150</td>\n",
       "      <td>1</td>\n",
       "      <td>8</td>\n",
       "      <td>gas</td>\n",
       "      <td>113000</td>\n",
       "      <td>automatic</td>\n",
       "      <td>pickup</td>\n",
       "      <td>others</td>\n",
       "      <td>False</td>\n",
       "      <td>2019-03-22</td>\n",
       "      <td>9</td>\n",
       "      <td>Friday</td>\n",
       "      <td>12</td>\n",
       "      <td>March</td>\n",
       "      <td>2019</td>\n",
       "    </tr>\n",
       "    <tr>\n",
       "      <td>3</td>\n",
       "      <td>14900</td>\n",
       "      <td>2017</td>\n",
       "      <td>chrysler 200</td>\n",
       "      <td>3</td>\n",
       "      <td>4</td>\n",
       "      <td>gas</td>\n",
       "      <td>80903</td>\n",
       "      <td>automatic</td>\n",
       "      <td>sedan</td>\n",
       "      <td>black</td>\n",
       "      <td>False</td>\n",
       "      <td>2019-04-02</td>\n",
       "      <td>28</td>\n",
       "      <td>Tuesday</td>\n",
       "      <td>14</td>\n",
       "      <td>April</td>\n",
       "      <td>2019</td>\n",
       "    </tr>\n",
       "    <tr>\n",
       "      <td>4</td>\n",
       "      <td>14990</td>\n",
       "      <td>2014</td>\n",
       "      <td>chrysler 300</td>\n",
       "      <td>3</td>\n",
       "      <td>6</td>\n",
       "      <td>gas</td>\n",
       "      <td>57954</td>\n",
       "      <td>automatic</td>\n",
       "      <td>sedan</td>\n",
       "      <td>black</td>\n",
       "      <td>True</td>\n",
       "      <td>2018-06-20</td>\n",
       "      <td>15</td>\n",
       "      <td>Wednesday</td>\n",
       "      <td>25</td>\n",
       "      <td>June</td>\n",
       "      <td>2018</td>\n",
       "    </tr>\n",
       "  </tbody>\n",
       "</table>\n",
       "</div>"
      ],
      "text/plain": [
       "   price  model_year           model  condition  cylinders fuel  odometer  \\\n",
       "0   9400        2011          bmw x5          2          6  gas    145000   \n",
       "1   5500        2013  hyundai sonata          4          4  gas    110000   \n",
       "2   1500        2003      ford f-150          1          8  gas    113000   \n",
       "3  14900        2017    chrysler 200          3          4  gas     80903   \n",
       "4  14990        2014    chrysler 300          3          6  gas     57954   \n",
       "\n",
       "  transmission    type paint_color  is_4wd date_posted  days_listed  \\\n",
       "0    automatic     SUV      others    True  2018-06-23           19   \n",
       "1    automatic   sedan         red   False  2019-02-07           79   \n",
       "2    automatic  pickup      others   False  2019-03-22            9   \n",
       "3    automatic   sedan       black   False  2019-04-02           28   \n",
       "4    automatic   sedan       black    True  2018-06-20           15   \n",
       "\n",
       "   dayofweek  week     month  year  \n",
       "0   Saturday    25      June  2018  \n",
       "1   Thursday     6  February  2019  \n",
       "2     Friday    12     March  2019  \n",
       "3    Tuesday    14     April  2019  \n",
       "4  Wednesday    25      June  2018  "
      ]
     },
     "execution_count": 20,
     "metadata": {},
     "output_type": "execute_result"
    }
   ],
   "source": [
    "# Add day of the week, month, and year columns to the dateset\n",
    "df['dayofweek'] = df['date_posted'].dt.day_name()\n",
    "df['week'] = df['date_posted'].dt.week\n",
    "df['month'] = df['date_posted'].dt.month_name()\n",
    "df['year'] = df['date_posted'].dt.year\n",
    "df.head()"
   ]
  },
  {
   "cell_type": "markdown",
   "metadata": {},
   "source": [
    "### Calculate and add the vehicle's age (in years) when the ad was placed"
   ]
  },
  {
   "cell_type": "code",
   "execution_count": 21,
   "metadata": {},
   "outputs": [],
   "source": [
    "# The vehicle's age is the year when the ad was placed subtract vehicle's model year\n",
    "df['vehicle_age'] = df['year'] - df['model_year']"
   ]
  },
  {
   "cell_type": "markdown",
   "metadata": {},
   "source": [
    "### Calculate and add the vehicle's average mileage per year"
   ]
  },
  {
   "cell_type": "code",
   "execution_count": 22,
   "metadata": {},
   "outputs": [],
   "source": [
    "# replace 0s in 'vehicle_age' with 1, avoiding infinite numbers in the next steps\n",
    "df['vehicle_age'] = df['vehicle_age'].replace(0, 1)"
   ]
  },
  {
   "cell_type": "code",
   "execution_count": 23,
   "metadata": {
    "scrolled": true
   },
   "outputs": [],
   "source": [
    "# Average mileage per year is vehicle's odometer divided by vehicle's age\n",
    "df['avg_mile'] = df['odometer'] / df['vehicle_age']"
   ]
  },
  {
   "cell_type": "code",
   "execution_count": 24,
   "metadata": {},
   "outputs": [
    {
     "data": {
      "text/html": [
       "<div>\n",
       "<style scoped>\n",
       "    .dataframe tbody tr th:only-of-type {\n",
       "        vertical-align: middle;\n",
       "    }\n",
       "\n",
       "    .dataframe tbody tr th {\n",
       "        vertical-align: top;\n",
       "    }\n",
       "\n",
       "    .dataframe thead th {\n",
       "        text-align: right;\n",
       "    }\n",
       "</style>\n",
       "<table border=\"1\" class=\"dataframe\">\n",
       "  <thead>\n",
       "    <tr style=\"text-align: right;\">\n",
       "      <th></th>\n",
       "      <th>price</th>\n",
       "      <th>model_year</th>\n",
       "      <th>condition</th>\n",
       "      <th>cylinders</th>\n",
       "      <th>odometer</th>\n",
       "      <th>days_listed</th>\n",
       "      <th>week</th>\n",
       "      <th>year</th>\n",
       "      <th>vehicle_age</th>\n",
       "      <th>avg_mile</th>\n",
       "    </tr>\n",
       "  </thead>\n",
       "  <tbody>\n",
       "    <tr>\n",
       "      <td>count</td>\n",
       "      <td>43009.000000</td>\n",
       "      <td>43009.000000</td>\n",
       "      <td>43009.000000</td>\n",
       "      <td>43009.000000</td>\n",
       "      <td>43009.000000</td>\n",
       "      <td>43009.000000</td>\n",
       "      <td>43009.000000</td>\n",
       "      <td>43009.000000</td>\n",
       "      <td>43009.000000</td>\n",
       "      <td>43009.000000</td>\n",
       "    </tr>\n",
       "    <tr>\n",
       "      <td>mean</td>\n",
       "      <td>12168.670604</td>\n",
       "      <td>2009.761073</td>\n",
       "      <td>2.637053</td>\n",
       "      <td>6.126276</td>\n",
       "      <td>114967.597038</td>\n",
       "      <td>39.573671</td>\n",
       "      <td>26.936827</td>\n",
       "      <td>2018.306471</td>\n",
       "      <td>8.590481</td>\n",
       "      <td>19362.105882</td>\n",
       "    </tr>\n",
       "    <tr>\n",
       "      <td>std</td>\n",
       "      <td>10019.342590</td>\n",
       "      <td>6.266108</td>\n",
       "      <td>0.713040</td>\n",
       "      <td>1.659540</td>\n",
       "      <td>59882.186015</td>\n",
       "      <td>28.180113</td>\n",
       "      <td>15.138336</td>\n",
       "      <td>0.461033</td>\n",
       "      <td>6.219468</td>\n",
       "      <td>17258.645363</td>\n",
       "    </tr>\n",
       "    <tr>\n",
       "      <td>min</td>\n",
       "      <td>1.000000</td>\n",
       "      <td>1908.000000</td>\n",
       "      <td>0.000000</td>\n",
       "      <td>3.000000</td>\n",
       "      <td>0.000000</td>\n",
       "      <td>0.000000</td>\n",
       "      <td>1.000000</td>\n",
       "      <td>2018.000000</td>\n",
       "      <td>1.000000</td>\n",
       "      <td>0.000000</td>\n",
       "    </tr>\n",
       "    <tr>\n",
       "      <td>25%</td>\n",
       "      <td>5000.000000</td>\n",
       "      <td>2006.000000</td>\n",
       "      <td>2.000000</td>\n",
       "      <td>4.000000</td>\n",
       "      <td>78840.000000</td>\n",
       "      <td>19.000000</td>\n",
       "      <td>13.000000</td>\n",
       "      <td>2018.000000</td>\n",
       "      <td>4.000000</td>\n",
       "      <td>10307.692308</td>\n",
       "    </tr>\n",
       "    <tr>\n",
       "      <td>50%</td>\n",
       "      <td>9000.000000</td>\n",
       "      <td>2011.000000</td>\n",
       "      <td>3.000000</td>\n",
       "      <td>6.000000</td>\n",
       "      <td>113000.000000</td>\n",
       "      <td>33.000000</td>\n",
       "      <td>28.000000</td>\n",
       "      <td>2018.000000</td>\n",
       "      <td>7.000000</td>\n",
       "      <td>15081.363636</td>\n",
       "    </tr>\n",
       "    <tr>\n",
       "      <td>75%</td>\n",
       "      <td>16900.000000</td>\n",
       "      <td>2014.000000</td>\n",
       "      <td>3.000000</td>\n",
       "      <td>8.000000</td>\n",
       "      <td>146345.000000</td>\n",
       "      <td>53.000000</td>\n",
       "      <td>40.000000</td>\n",
       "      <td>2019.000000</td>\n",
       "      <td>12.000000</td>\n",
       "      <td>22458.181818</td>\n",
       "    </tr>\n",
       "    <tr>\n",
       "      <td>max</td>\n",
       "      <td>375000.000000</td>\n",
       "      <td>2019.000000</td>\n",
       "      <td>5.000000</td>\n",
       "      <td>12.000000</td>\n",
       "      <td>990000.000000</td>\n",
       "      <td>271.000000</td>\n",
       "      <td>52.000000</td>\n",
       "      <td>2019.000000</td>\n",
       "      <td>110.000000</td>\n",
       "      <td>373200.000000</td>\n",
       "    </tr>\n",
       "  </tbody>\n",
       "</table>\n",
       "</div>"
      ],
      "text/plain": [
       "               price    model_year     condition     cylinders       odometer  \\\n",
       "count   43009.000000  43009.000000  43009.000000  43009.000000   43009.000000   \n",
       "mean    12168.670604   2009.761073      2.637053      6.126276  114967.597038   \n",
       "std     10019.342590      6.266108      0.713040      1.659540   59882.186015   \n",
       "min         1.000000   1908.000000      0.000000      3.000000       0.000000   \n",
       "25%      5000.000000   2006.000000      2.000000      4.000000   78840.000000   \n",
       "50%      9000.000000   2011.000000      3.000000      6.000000  113000.000000   \n",
       "75%     16900.000000   2014.000000      3.000000      8.000000  146345.000000   \n",
       "max    375000.000000   2019.000000      5.000000     12.000000  990000.000000   \n",
       "\n",
       "        days_listed          week          year   vehicle_age       avg_mile  \n",
       "count  43009.000000  43009.000000  43009.000000  43009.000000   43009.000000  \n",
       "mean      39.573671     26.936827   2018.306471      8.590481   19362.105882  \n",
       "std       28.180113     15.138336      0.461033      6.219468   17258.645363  \n",
       "min        0.000000      1.000000   2018.000000      1.000000       0.000000  \n",
       "25%       19.000000     13.000000   2018.000000      4.000000   10307.692308  \n",
       "50%       33.000000     28.000000   2018.000000      7.000000   15081.363636  \n",
       "75%       53.000000     40.000000   2019.000000     12.000000   22458.181818  \n",
       "max      271.000000     52.000000   2019.000000    110.000000  373200.000000  "
      ]
     },
     "execution_count": 24,
     "metadata": {},
     "output_type": "execute_result"
    }
   ],
   "source": [
    "# check if there exists any absurd statistics value of our columns\n",
    "df.describe()"
   ]
  },
  {
   "cell_type": "markdown",
   "metadata": {},
   "source": [
    "Everything looks good!"
   ]
  },
  {
   "cell_type": "code",
   "execution_count": 25,
   "metadata": {},
   "outputs": [
    {
     "data": {
      "text/html": [
       "<div>\n",
       "<style scoped>\n",
       "    .dataframe tbody tr th:only-of-type {\n",
       "        vertical-align: middle;\n",
       "    }\n",
       "\n",
       "    .dataframe tbody tr th {\n",
       "        vertical-align: top;\n",
       "    }\n",
       "\n",
       "    .dataframe thead th {\n",
       "        text-align: right;\n",
       "    }\n",
       "</style>\n",
       "<table border=\"1\" class=\"dataframe\">\n",
       "  <thead>\n",
       "    <tr style=\"text-align: right;\">\n",
       "      <th></th>\n",
       "      <th>price</th>\n",
       "      <th>model_year</th>\n",
       "      <th>model</th>\n",
       "      <th>condition</th>\n",
       "      <th>cylinders</th>\n",
       "      <th>fuel</th>\n",
       "      <th>odometer</th>\n",
       "      <th>transmission</th>\n",
       "      <th>type</th>\n",
       "      <th>paint_color</th>\n",
       "      <th>is_4wd</th>\n",
       "      <th>date_posted</th>\n",
       "      <th>days_listed</th>\n",
       "      <th>dayofweek</th>\n",
       "      <th>week</th>\n",
       "      <th>month</th>\n",
       "      <th>year</th>\n",
       "      <th>vehicle_age</th>\n",
       "      <th>avg_mile</th>\n",
       "    </tr>\n",
       "  </thead>\n",
       "  <tbody>\n",
       "    <tr>\n",
       "      <td>0</td>\n",
       "      <td>9400</td>\n",
       "      <td>2011</td>\n",
       "      <td>bmw x5</td>\n",
       "      <td>2</td>\n",
       "      <td>6</td>\n",
       "      <td>gas</td>\n",
       "      <td>145000</td>\n",
       "      <td>automatic</td>\n",
       "      <td>SUV</td>\n",
       "      <td>others</td>\n",
       "      <td>True</td>\n",
       "      <td>2018-06-23</td>\n",
       "      <td>19</td>\n",
       "      <td>Saturday</td>\n",
       "      <td>25</td>\n",
       "      <td>June</td>\n",
       "      <td>2018</td>\n",
       "      <td>7</td>\n",
       "      <td>20714.285714</td>\n",
       "    </tr>\n",
       "    <tr>\n",
       "      <td>1</td>\n",
       "      <td>5500</td>\n",
       "      <td>2013</td>\n",
       "      <td>hyundai sonata</td>\n",
       "      <td>4</td>\n",
       "      <td>4</td>\n",
       "      <td>gas</td>\n",
       "      <td>110000</td>\n",
       "      <td>automatic</td>\n",
       "      <td>sedan</td>\n",
       "      <td>red</td>\n",
       "      <td>False</td>\n",
       "      <td>2019-02-07</td>\n",
       "      <td>79</td>\n",
       "      <td>Thursday</td>\n",
       "      <td>6</td>\n",
       "      <td>February</td>\n",
       "      <td>2019</td>\n",
       "      <td>6</td>\n",
       "      <td>18333.333333</td>\n",
       "    </tr>\n",
       "    <tr>\n",
       "      <td>2</td>\n",
       "      <td>1500</td>\n",
       "      <td>2003</td>\n",
       "      <td>ford f-150</td>\n",
       "      <td>1</td>\n",
       "      <td>8</td>\n",
       "      <td>gas</td>\n",
       "      <td>113000</td>\n",
       "      <td>automatic</td>\n",
       "      <td>pickup</td>\n",
       "      <td>others</td>\n",
       "      <td>False</td>\n",
       "      <td>2019-03-22</td>\n",
       "      <td>9</td>\n",
       "      <td>Friday</td>\n",
       "      <td>12</td>\n",
       "      <td>March</td>\n",
       "      <td>2019</td>\n",
       "      <td>16</td>\n",
       "      <td>7062.500000</td>\n",
       "    </tr>\n",
       "    <tr>\n",
       "      <td>3</td>\n",
       "      <td>14900</td>\n",
       "      <td>2017</td>\n",
       "      <td>chrysler 200</td>\n",
       "      <td>3</td>\n",
       "      <td>4</td>\n",
       "      <td>gas</td>\n",
       "      <td>80903</td>\n",
       "      <td>automatic</td>\n",
       "      <td>sedan</td>\n",
       "      <td>black</td>\n",
       "      <td>False</td>\n",
       "      <td>2019-04-02</td>\n",
       "      <td>28</td>\n",
       "      <td>Tuesday</td>\n",
       "      <td>14</td>\n",
       "      <td>April</td>\n",
       "      <td>2019</td>\n",
       "      <td>2</td>\n",
       "      <td>40451.500000</td>\n",
       "    </tr>\n",
       "    <tr>\n",
       "      <td>4</td>\n",
       "      <td>14990</td>\n",
       "      <td>2014</td>\n",
       "      <td>chrysler 300</td>\n",
       "      <td>3</td>\n",
       "      <td>6</td>\n",
       "      <td>gas</td>\n",
       "      <td>57954</td>\n",
       "      <td>automatic</td>\n",
       "      <td>sedan</td>\n",
       "      <td>black</td>\n",
       "      <td>True</td>\n",
       "      <td>2018-06-20</td>\n",
       "      <td>15</td>\n",
       "      <td>Wednesday</td>\n",
       "      <td>25</td>\n",
       "      <td>June</td>\n",
       "      <td>2018</td>\n",
       "      <td>4</td>\n",
       "      <td>14488.500000</td>\n",
       "    </tr>\n",
       "  </tbody>\n",
       "</table>\n",
       "</div>"
      ],
      "text/plain": [
       "   price  model_year           model  condition  cylinders fuel  odometer  \\\n",
       "0   9400        2011          bmw x5          2          6  gas    145000   \n",
       "1   5500        2013  hyundai sonata          4          4  gas    110000   \n",
       "2   1500        2003      ford f-150          1          8  gas    113000   \n",
       "3  14900        2017    chrysler 200          3          4  gas     80903   \n",
       "4  14990        2014    chrysler 300          3          6  gas     57954   \n",
       "\n",
       "  transmission    type paint_color  is_4wd date_posted  days_listed  \\\n",
       "0    automatic     SUV      others    True  2018-06-23           19   \n",
       "1    automatic   sedan         red   False  2019-02-07           79   \n",
       "2    automatic  pickup      others   False  2019-03-22            9   \n",
       "3    automatic   sedan       black   False  2019-04-02           28   \n",
       "4    automatic   sedan       black    True  2018-06-20           15   \n",
       "\n",
       "   dayofweek  week     month  year  vehicle_age      avg_mile  \n",
       "0   Saturday    25      June  2018            7  20714.285714  \n",
       "1   Thursday     6  February  2019            6  18333.333333  \n",
       "2     Friday    12     March  2019           16   7062.500000  \n",
       "3    Tuesday    14     April  2019            2  40451.500000  \n",
       "4  Wednesday    25      June  2018            4  14488.500000  "
      ]
     },
     "execution_count": 25,
     "metadata": {},
     "output_type": "execute_result"
    }
   ],
   "source": [
    "df.head()"
   ]
  },
  {
   "cell_type": "code",
   "execution_count": 26,
   "metadata": {},
   "outputs": [
    {
     "data": {
      "text/plain": [
       "price                    int64\n",
       "model_year               int64\n",
       "model                   object\n",
       "condition                int64\n",
       "cylinders                int64\n",
       "fuel                    object\n",
       "odometer                 int64\n",
       "transmission            object\n",
       "type                    object\n",
       "paint_color             object\n",
       "is_4wd                    bool\n",
       "date_posted     datetime64[ns]\n",
       "days_listed              int64\n",
       "dayofweek               object\n",
       "week                     int64\n",
       "month                   object\n",
       "year                     int64\n",
       "vehicle_age              int64\n",
       "avg_mile               float64\n",
       "dtype: object"
      ]
     },
     "execution_count": 26,
     "metadata": {},
     "output_type": "execute_result"
    }
   ],
   "source": [
    "df.dtypes"
   ]
  },
  {
   "cell_type": "markdown",
   "metadata": {},
   "source": [
    "'avg_mile' is a float data type, we need to convert it to integers."
   ]
  },
  {
   "cell_type": "code",
   "execution_count": 27,
   "metadata": {},
   "outputs": [],
   "source": [
    "df['avg_mile'] = df['avg_mile'].astype('int64')"
   ]
  },
  {
   "cell_type": "code",
   "execution_count": 28,
   "metadata": {},
   "outputs": [
    {
     "data": {
      "text/plain": [
       "price                    int64\n",
       "model_year               int64\n",
       "model                   object\n",
       "condition                int64\n",
       "cylinders                int64\n",
       "fuel                    object\n",
       "odometer                 int64\n",
       "transmission            object\n",
       "type                    object\n",
       "paint_color             object\n",
       "is_4wd                    bool\n",
       "date_posted     datetime64[ns]\n",
       "days_listed              int64\n",
       "dayofweek               object\n",
       "week                     int64\n",
       "month                   object\n",
       "year                     int64\n",
       "vehicle_age              int64\n",
       "avg_mile                 int64\n",
       "dtype: object"
      ]
     },
     "execution_count": 28,
     "metadata": {},
     "output_type": "execute_result"
    }
   ],
   "source": [
    "# No float data type\n",
    "df.dtypes"
   ]
  },
  {
   "cell_type": "code",
   "execution_count": 29,
   "metadata": {},
   "outputs": [
    {
     "data": {
      "text/html": [
       "<div>\n",
       "<style scoped>\n",
       "    .dataframe tbody tr th:only-of-type {\n",
       "        vertical-align: middle;\n",
       "    }\n",
       "\n",
       "    .dataframe tbody tr th {\n",
       "        vertical-align: top;\n",
       "    }\n",
       "\n",
       "    .dataframe thead th {\n",
       "        text-align: right;\n",
       "    }\n",
       "</style>\n",
       "<table border=\"1\" class=\"dataframe\">\n",
       "  <thead>\n",
       "    <tr style=\"text-align: right;\">\n",
       "      <th></th>\n",
       "      <th>price</th>\n",
       "      <th>model_year</th>\n",
       "      <th>model</th>\n",
       "      <th>condition</th>\n",
       "      <th>cylinders</th>\n",
       "      <th>fuel</th>\n",
       "      <th>odometer</th>\n",
       "      <th>transmission</th>\n",
       "      <th>type</th>\n",
       "      <th>paint_color</th>\n",
       "      <th>is_4wd</th>\n",
       "      <th>date_posted</th>\n",
       "      <th>days_listed</th>\n",
       "      <th>dayofweek</th>\n",
       "      <th>week</th>\n",
       "      <th>month</th>\n",
       "      <th>year</th>\n",
       "      <th>vehicle_age</th>\n",
       "      <th>avg_mile</th>\n",
       "    </tr>\n",
       "  </thead>\n",
       "  <tbody>\n",
       "  </tbody>\n",
       "</table>\n",
       "</div>"
      ],
      "text/plain": [
       "Empty DataFrame\n",
       "Columns: [price, model_year, model, condition, cylinders, fuel, odometer, transmission, type, paint_color, is_4wd, date_posted, days_listed, dayofweek, week, month, year, vehicle_age, avg_mile]\n",
       "Index: []"
      ]
     },
     "execution_count": 29,
     "metadata": {},
     "output_type": "execute_result"
    }
   ],
   "source": [
    "# check whether we have duplicates or not\n",
    "df[df.duplicated()]"
   ]
  },
  {
   "cell_type": "markdown",
   "metadata": {},
   "source": [
    "No duplicates in our data set. "
   ]
  },
  {
   "cell_type": "markdown",
   "metadata": {},
   "source": [
    "### Conclusion"
   ]
  },
  {
   "cell_type": "markdown",
   "metadata": {},
   "source": [
    "We calculate and add features: day of the week, month, and year the ad was placed; the vehicle's age (in years) when the ad was placed; and the vehicle's average mileage per year. We modified our 'vehicle_age' by replacing 0s with 1s to avoid 0s as denominator.\n"
   ]
  },
  {
   "cell_type": "markdown",
   "metadata": {},
   "source": [
    "## Carry out exploratory data analysis"
   ]
  },
  {
   "cell_type": "markdown",
   "metadata": {},
   "source": [
    "### Check correlation among price, vehicle's age when the ad was placed, mileage, number of cylinders, and condition. And plot histograms for each of them"
   ]
  },
  {
   "cell_type": "code",
   "execution_count": 30,
   "metadata": {},
   "outputs": [
    {
     "data": {
      "text/html": [
       "<div>\n",
       "<style scoped>\n",
       "    .dataframe tbody tr th:only-of-type {\n",
       "        vertical-align: middle;\n",
       "    }\n",
       "\n",
       "    .dataframe tbody tr th {\n",
       "        vertical-align: top;\n",
       "    }\n",
       "\n",
       "    .dataframe thead th {\n",
       "        text-align: right;\n",
       "    }\n",
       "</style>\n",
       "<table border=\"1\" class=\"dataframe\">\n",
       "  <thead>\n",
       "    <tr style=\"text-align: right;\">\n",
       "      <th></th>\n",
       "      <th>price</th>\n",
       "      <th>vehicle_age</th>\n",
       "      <th>odometer</th>\n",
       "      <th>cylinders</th>\n",
       "      <th>condition</th>\n",
       "    </tr>\n",
       "  </thead>\n",
       "  <tbody>\n",
       "    <tr>\n",
       "      <td>price</td>\n",
       "      <td>1.000000</td>\n",
       "      <td>-0.428073</td>\n",
       "      <td>-0.390359</td>\n",
       "      <td>0.295579</td>\n",
       "      <td>0.222394</td>\n",
       "    </tr>\n",
       "    <tr>\n",
       "      <td>vehicle_age</td>\n",
       "      <td>-0.428073</td>\n",
       "      <td>1.000000</td>\n",
       "      <td>0.429074</td>\n",
       "      <td>0.149753</td>\n",
       "      <td>-0.280406</td>\n",
       "    </tr>\n",
       "    <tr>\n",
       "      <td>odometer</td>\n",
       "      <td>-0.390359</td>\n",
       "      <td>0.429074</td>\n",
       "      <td>1.000000</td>\n",
       "      <td>0.082703</td>\n",
       "      <td>-0.277292</td>\n",
       "    </tr>\n",
       "    <tr>\n",
       "      <td>cylinders</td>\n",
       "      <td>0.295579</td>\n",
       "      <td>0.149753</td>\n",
       "      <td>0.082703</td>\n",
       "      <td>1.000000</td>\n",
       "      <td>-0.063130</td>\n",
       "    </tr>\n",
       "    <tr>\n",
       "      <td>condition</td>\n",
       "      <td>0.222394</td>\n",
       "      <td>-0.280406</td>\n",
       "      <td>-0.277292</td>\n",
       "      <td>-0.063130</td>\n",
       "      <td>1.000000</td>\n",
       "    </tr>\n",
       "  </tbody>\n",
       "</table>\n",
       "</div>"
      ],
      "text/plain": [
       "                price  vehicle_age  odometer  cylinders  condition\n",
       "price        1.000000    -0.428073 -0.390359   0.295579   0.222394\n",
       "vehicle_age -0.428073     1.000000  0.429074   0.149753  -0.280406\n",
       "odometer    -0.390359     0.429074  1.000000   0.082703  -0.277292\n",
       "cylinders    0.295579     0.149753  0.082703   1.000000  -0.063130\n",
       "condition    0.222394    -0.280406 -0.277292  -0.063130   1.000000"
      ]
     },
     "execution_count": 30,
     "metadata": {},
     "output_type": "execute_result"
    }
   ],
   "source": [
    "# correlation of above parameters\n",
    "df[['price', 'vehicle_age','odometer','cylinders', 'condition']].corr()"
   ]
  },
  {
   "cell_type": "markdown",
   "metadata": {},
   "source": [
    "- Price is: \n",
    "    - moderate negative correlated with vehicle's age. Prices are likely to drop when vehicle's age is high.\n",
    "    - not significant negative correlated with odometer. Prices are somewhat likely to drop when vehicle has higher odometer. \n",
    "    - not significant positive correlated with cylinders. Prices are somewhat likely to increase when vehicle has more cylinders. \n",
    "    - not significant positive correlated with condition. Prices are somewhat likely to increase when vehicle has better condition.\n",
    "- Vehicle age is:\n",
    "    - not significant positive correlated with odometer. Vehicle's age are somewhat likely to increase when vehicle has more odometer.\n",
    "    - not correlate with number of cylinders. \n",
    "    - not significant negative correlated with condition. Vehicle's age are somewhat likely to drop when vehicle has better codition.\n",
    "- Odometer is:\n",
    "    - not correlated with cylinders.\n",
    "    - not significant negative correlated with condition. Odometer are somewhat likely to drop when vehicle has better codition.\n",
    "- Cylinders is:\n",
    "    - not correlated with conditions."
   ]
  },
  {
   "cell_type": "markdown",
   "metadata": {},
   "source": [
    "### Histogram of price"
   ]
  },
  {
   "cell_type": "code",
   "execution_count": 31,
   "metadata": {
    "scrolled": true
   },
   "outputs": [
    {
     "data": {
      "image/png": "[encoded data removed]",
      "text/plain": [
       "<Figure size 432x288 with 1 Axes>"
      ]
     },
     "metadata": {
      "needs_background": "light"
     },
     "output_type": "display_data"
    }
   ],
   "source": [
    "# plot a histogram of price. \n",
    "df['price'].hist(bins=100, range = [0, 80000])\n",
    "# add title and axis names\n",
    "plt.xlabel('Price')\n",
    "plt.ylabel('Frequency')\n",
    "plt.title(\"Histogram of vehicle's price\");"
   ]
  },
  {
   "cell_type": "code",
   "execution_count": 32,
   "metadata": {
    "scrolled": true
   },
   "outputs": [
    {
     "data": {
      "text/plain": [
       "count     43009.000000\n",
       "mean      12168.670604\n",
       "std       10019.342590\n",
       "min           1.000000\n",
       "25%        5000.000000\n",
       "50%        9000.000000\n",
       "75%       16900.000000\n",
       "max      375000.000000\n",
       "Name: price, dtype: float64"
      ]
     },
     "execution_count": 32,
     "metadata": {},
     "output_type": "execute_result"
    }
   ],
   "source": [
    "# statistics of 'price'\n",
    "df['price'].describe()"
   ]
  },
  {
   "cell_type": "markdown",
   "metadata": {},
   "source": [
    "The histogram shows that the distribution is skewed right. Most car price fall in the low/medium range of price. The minimum price is 1 and maximum price is 375,000. The peak is around 5000. The histogram shows the data contains outliers on the 'tail'. "
   ]
  },
  {
   "cell_type": "markdown",
   "metadata": {},
   "source": [
    "### Histogram of vehicle's age"
   ]
  },
  {
   "cell_type": "code",
   "execution_count": 33,
   "metadata": {},
   "outputs": [
    {
     "data": {
      "image/png": "[encoded data removed]",
      "text/plain": [
       "<Figure size 432x288 with 1 Axes>"
      ]
     },
     "metadata": {
      "needs_background": "light"
     },
     "output_type": "display_data"
    }
   ],
   "source": [
    "# plot a histogram of vehicle's age. \n",
    "df['vehicle_age'].hist(bins = 40, range = [0, 70])\n",
    "# add title and axis names\n",
    "plt.xlabel('Age')\n",
    "plt.ylabel('Frequency')\n",
    "plt.title(\"Histogram of vehicle's age\");"
   ]
  },
  {
   "cell_type": "code",
   "execution_count": 34,
   "metadata": {
    "scrolled": true
   },
   "outputs": [
    {
     "data": {
      "text/plain": [
       "count    43009.000000\n",
       "mean         8.590481\n",
       "std          6.219468\n",
       "min          1.000000\n",
       "25%          4.000000\n",
       "50%          7.000000\n",
       "75%         12.000000\n",
       "max        110.000000\n",
       "Name: vehicle_age, dtype: float64"
      ]
     },
     "execution_count": 34,
     "metadata": {},
     "output_type": "execute_result"
    }
   ],
   "source": [
    "# statistics of 'vehicle_age'\n",
    "df['vehicle_age'].describe()"
   ]
  },
  {
   "cell_type": "markdown",
   "metadata": {},
   "source": [
    "The histogram shows that the distribution is skewed right. Most vehicle age fall in 1 to 20 years. The minimun age is 1 and maximum age is 110. The median age is around 10. The peak is around 3 years. The histogram shows the data contains outliers on the 'tail'. "
   ]
  },
  {
   "cell_type": "markdown",
   "metadata": {},
   "source": [
    "### Histogram of odometer"
   ]
  },
  {
   "cell_type": "code",
   "execution_count": 35,
   "metadata": {
    "scrolled": true
   },
   "outputs": [
    {
     "data": {
      "image/png": "[encoded data removed]",
      "text/plain": [
       "<Figure size 432x288 with 1 Axes>"
      ]
     },
     "metadata": {
      "needs_background": "light"
     },
     "output_type": "display_data"
    }
   ],
   "source": [
    "# plot a histogram of odometer. \n",
    "df['odometer'].hist(bins = 40, range = [0, 400000])\n",
    "# add title and axis names\n",
    "plt.xlabel('Odometer')\n",
    "plt.ylabel('Frequency')\n",
    "plt.title(\"Histogram of odometer\");"
   ]
  },
  {
   "cell_type": "code",
   "execution_count": 36,
   "metadata": {},
   "outputs": [
    {
     "data": {
      "text/plain": [
       "count     43009.000000\n",
       "mean     114967.597038\n",
       "std       59882.186015\n",
       "min           0.000000\n",
       "25%       78840.000000\n",
       "50%      113000.000000\n",
       "75%      146345.000000\n",
       "max      990000.000000\n",
       "Name: odometer, dtype: float64"
      ]
     },
     "execution_count": 36,
     "metadata": {},
     "output_type": "execute_result"
    }
   ],
   "source": [
    "# statistics of 'odometer'\n",
    "df['odometer'].describe()"
   ]
  },
  {
   "cell_type": "markdown",
   "metadata": {},
   "source": [
    "The histogram shows that the distribution is skewed right. Most odometer fall in 0 to 200,000. The peak is around 130,000. The range of odometer is from 0 to 990,000. The median is around 120,000. The histogram shows the data contains outliers on the 'tail'. "
   ]
  },
  {
   "cell_type": "markdown",
   "metadata": {},
   "source": [
    "### Histogram of cylinders"
   ]
  },
  {
   "cell_type": "code",
   "execution_count": 37,
   "metadata": {
    "scrolled": true
   },
   "outputs": [
    {
     "data": {
      "image/png": "[encoded data removed]",
      "text/plain": [
       "<Figure size 432x288 with 1 Axes>"
      ]
     },
     "metadata": {
      "needs_background": "light"
     },
     "output_type": "display_data"
    }
   ],
   "source": [
    "# plot a histogram of cylinders. \n",
    "df['cylinders'].hist(bins = 10)\n",
    "# add title and axis names\n",
    "plt.xlabel('Cylinders')\n",
    "plt.ylabel('Frequency')\n",
    "plt.title(\"Histogram of cylinders\");"
   ]
  },
  {
   "cell_type": "code",
   "execution_count": 38,
   "metadata": {
    "scrolled": true
   },
   "outputs": [
    {
     "data": {
      "text/plain": [
       "count    43009.000000\n",
       "mean         6.126276\n",
       "std          1.659540\n",
       "min          3.000000\n",
       "25%          4.000000\n",
       "50%          6.000000\n",
       "75%          8.000000\n",
       "max         12.000000\n",
       "Name: cylinders, dtype: float64"
      ]
     },
     "execution_count": 38,
     "metadata": {},
     "output_type": "execute_result"
    }
   ],
   "source": [
    "# statistics of 'cylinders'\n",
    "df['cylinders'].describe()"
   ]
  },
  {
   "cell_type": "markdown",
   "metadata": {},
   "source": [
    "The histogram shows the distribution of cylinders. We can see that most vehicles have 4, 6 and 8 cylinders. The minimum cylinder is 3 and maximum cylinder is 12. The median is around 6 cylinders, so we can imply that there are some outliers."
   ]
  },
  {
   "cell_type": "markdown",
   "metadata": {},
   "source": [
    "### Histogram of condition"
   ]
  },
  {
   "cell_type": "code",
   "execution_count": 39,
   "metadata": {},
   "outputs": [
    {
     "data": {
      "image/png": "[encoded data removed]",
      "text/plain": [
       "<Figure size 432x288 with 1 Axes>"
      ]
     },
     "metadata": {
      "needs_background": "light"
     },
     "output_type": "display_data"
    }
   ],
   "source": [
    "# plot a histogram of condition. \n",
    "df['condition'].hist(bins = 10)\n",
    "# add title and axis names\n",
    "plt.xlabel('Condition')\n",
    "plt.ylabel('Frequency')\n",
    "plt.title(\"Histogram of condition\");"
   ]
  },
  {
   "cell_type": "code",
   "execution_count": 40,
   "metadata": {
    "scrolled": true
   },
   "outputs": [
    {
     "data": {
      "text/plain": [
       "count    43009.000000\n",
       "mean         2.637053\n",
       "std          0.713040\n",
       "min          0.000000\n",
       "25%          2.000000\n",
       "50%          3.000000\n",
       "75%          3.000000\n",
       "max          5.000000\n",
       "Name: condition, dtype: float64"
      ]
     },
     "execution_count": 40,
     "metadata": {},
     "output_type": "execute_result"
    }
   ],
   "source": [
    "# statistics of 'condition'\n",
    "df['condition'].describe()"
   ]
  },
  {
   "cell_type": "markdown",
   "metadata": {},
   "source": [
    "The histogram shows the distribution of condition. We can see that most vehicles are 2(good) and 3(excellent). The minimum cylinder is 0(salvage) and maximum cylinder is 5(new). The median is around 3(good), so we can imply that there are some outliers."
   ]
  },
  {
   "cell_type": "markdown",
   "metadata": {},
   "source": [
    "### Processing outliers"
   ]
  },
  {
   "cell_type": "code",
   "execution_count": 41,
   "metadata": {},
   "outputs": [
    {
     "data": {
      "text/html": [
       "<div>\n",
       "<style scoped>\n",
       "    .dataframe tbody tr th:only-of-type {\n",
       "        vertical-align: middle;\n",
       "    }\n",
       "\n",
       "    .dataframe tbody tr th {\n",
       "        vertical-align: top;\n",
       "    }\n",
       "\n",
       "    .dataframe thead th {\n",
       "        text-align: right;\n",
       "    }\n",
       "</style>\n",
       "<table border=\"1\" class=\"dataframe\">\n",
       "  <thead>\n",
       "    <tr style=\"text-align: right;\">\n",
       "      <th></th>\n",
       "      <th>price</th>\n",
       "      <th>vehicle_age</th>\n",
       "      <th>odometer</th>\n",
       "      <th>cylinders</th>\n",
       "      <th>condition</th>\n",
       "    </tr>\n",
       "  </thead>\n",
       "  <tbody>\n",
       "    <tr>\n",
       "      <td>count</td>\n",
       "      <td>43009.000000</td>\n",
       "      <td>43009.000000</td>\n",
       "      <td>43009.000000</td>\n",
       "      <td>43009.000000</td>\n",
       "      <td>43009.000000</td>\n",
       "    </tr>\n",
       "    <tr>\n",
       "      <td>mean</td>\n",
       "      <td>12168.670604</td>\n",
       "      <td>8.590481</td>\n",
       "      <td>114967.597038</td>\n",
       "      <td>6.126276</td>\n",
       "      <td>2.637053</td>\n",
       "    </tr>\n",
       "    <tr>\n",
       "      <td>std</td>\n",
       "      <td>10019.342590</td>\n",
       "      <td>6.219468</td>\n",
       "      <td>59882.186015</td>\n",
       "      <td>1.659540</td>\n",
       "      <td>0.713040</td>\n",
       "    </tr>\n",
       "    <tr>\n",
       "      <td>min</td>\n",
       "      <td>1.000000</td>\n",
       "      <td>1.000000</td>\n",
       "      <td>0.000000</td>\n",
       "      <td>3.000000</td>\n",
       "      <td>0.000000</td>\n",
       "    </tr>\n",
       "    <tr>\n",
       "      <td>25%</td>\n",
       "      <td>5000.000000</td>\n",
       "      <td>4.000000</td>\n",
       "      <td>78840.000000</td>\n",
       "      <td>4.000000</td>\n",
       "      <td>2.000000</td>\n",
       "    </tr>\n",
       "    <tr>\n",
       "      <td>50%</td>\n",
       "      <td>9000.000000</td>\n",
       "      <td>7.000000</td>\n",
       "      <td>113000.000000</td>\n",
       "      <td>6.000000</td>\n",
       "      <td>3.000000</td>\n",
       "    </tr>\n",
       "    <tr>\n",
       "      <td>75%</td>\n",
       "      <td>16900.000000</td>\n",
       "      <td>12.000000</td>\n",
       "      <td>146345.000000</td>\n",
       "      <td>8.000000</td>\n",
       "      <td>3.000000</td>\n",
       "    </tr>\n",
       "    <tr>\n",
       "      <td>max</td>\n",
       "      <td>375000.000000</td>\n",
       "      <td>110.000000</td>\n",
       "      <td>990000.000000</td>\n",
       "      <td>12.000000</td>\n",
       "      <td>5.000000</td>\n",
       "    </tr>\n",
       "  </tbody>\n",
       "</table>\n",
       "</div>"
      ],
      "text/plain": [
       "               price   vehicle_age       odometer     cylinders     condition\n",
       "count   43009.000000  43009.000000   43009.000000  43009.000000  43009.000000\n",
       "mean    12168.670604      8.590481  114967.597038      6.126276      2.637053\n",
       "std     10019.342590      6.219468   59882.186015      1.659540      0.713040\n",
       "min         1.000000      1.000000       0.000000      3.000000      0.000000\n",
       "25%      5000.000000      4.000000   78840.000000      4.000000      2.000000\n",
       "50%      9000.000000      7.000000  113000.000000      6.000000      3.000000\n",
       "75%     16900.000000     12.000000  146345.000000      8.000000      3.000000\n",
       "max    375000.000000    110.000000  990000.000000     12.000000      5.000000"
      ]
     },
     "execution_count": 41,
     "metadata": {},
     "output_type": "execute_result"
    }
   ],
   "source": [
    "# let's see our unfiltered data\n",
    "df[['price', 'vehicle_age', 'odometer', 'cylinders', 'condition']].describe()"
   ]
  },
  {
   "cell_type": "markdown",
   "metadata": {},
   "source": [
    "After plotting histograms, we know that 'price', 'vehicle_age', and 'odometer' have outliers. Thus we need to detect and remove them before doing further analysis."
   ]
  },
  {
   "cell_type": "markdown",
   "metadata": {},
   "source": [
    "We will use IQR rule to detect outliers. First, we will calculate the Interquartile Range of the data (IQR = Q3 — Q1). Later, we will determine our outlier boundaries with IQR."
   ]
  },
  {
   "cell_type": "code",
   "execution_count": 42,
   "metadata": {
    "scrolled": true
   },
   "outputs": [
    {
     "data": {
      "text/plain": [
       "price          11900.0\n",
       "vehicle_age        8.0\n",
       "odometer       67505.0\n",
       "dtype: float64"
      ]
     },
     "execution_count": 42,
     "metadata": {},
     "output_type": "execute_result"
    }
   ],
   "source": [
    "# Limits of outliers. \n",
    "cols = ['price', 'vehicle_age', 'odometer']\n",
    "Q1 = df[cols].quantile(0.25)\n",
    "Q3 = df[cols].quantile(0.75)\n",
    "IQR = Q3 - Q1\n",
    "IQR"
   ]
  },
  {
   "cell_type": "markdown",
   "metadata": {},
   "source": [
    "The interquartile range of price is 10987, vehicle's age is 8, and odometer is 64000."
   ]
  },
  {
   "cell_type": "code",
   "execution_count": 43,
   "metadata": {
    "scrolled": true
   },
   "outputs": [
    {
     "name": "stdout",
     "output_type": "stream",
     "text": [
      "Lower limits are\n",
      " price         -12850.0\n",
      "vehicle_age       -8.0\n",
      "odometer      -22417.5\n",
      "dtype: float64\n",
      "Upper limits are\n",
      " price           34750.0\n",
      "vehicle_age        24.0\n",
      "odometer       247602.5\n",
      "dtype: float64\n"
     ]
    }
   ],
   "source": [
    "# Outliers lower limit\n",
    "lower_lim = Q1 - 1.5 * IQR\n",
    "# Outliers upper limit\n",
    "upper_lim = Q3 + 1.5 * IQR\n",
    "print(\"Lower limits are\\n\", lower_lim)\n",
    "print(\"Upper limits are\\n\", upper_lim)"
   ]
  },
  {
   "cell_type": "markdown",
   "metadata": {},
   "source": [
    "We can see our lower limits of price is -11482.5, vehicle'age is -8, and odometer is -11000. Upper limits of price is 32465, vehicle's age is 24, and odometer is 245000. "
   ]
  },
  {
   "cell_type": "code",
   "execution_count": 44,
   "metadata": {
    "scrolled": true
   },
   "outputs": [
    {
     "name": "stdout",
     "output_type": "stream",
     "text": [
      "Old Shape:  (43009, 19)\n"
     ]
    }
   ],
   "source": [
    "# Check our dataset before dropping outliers\n",
    "print(\"Old Shape: \", df.shape) "
   ]
  },
  {
   "cell_type": "markdown",
   "metadata": {},
   "source": [
    "Outliers are those data less than lower boundary and greater than upper boundary. "
   ]
  },
  {
   "cell_type": "code",
   "execution_count": 45,
   "metadata": {
    "scrolled": true
   },
   "outputs": [
    {
     "data": {
      "text/html": [
       "<div>\n",
       "<style scoped>\n",
       "    .dataframe tbody tr th:only-of-type {\n",
       "        vertical-align: middle;\n",
       "    }\n",
       "\n",
       "    .dataframe tbody tr th {\n",
       "        vertical-align: top;\n",
       "    }\n",
       "\n",
       "    .dataframe thead th {\n",
       "        text-align: right;\n",
       "    }\n",
       "</style>\n",
       "<table border=\"1\" class=\"dataframe\">\n",
       "  <thead>\n",
       "    <tr style=\"text-align: right;\">\n",
       "      <th></th>\n",
       "      <th>price</th>\n",
       "      <th>model_year</th>\n",
       "      <th>model</th>\n",
       "      <th>condition</th>\n",
       "      <th>cylinders</th>\n",
       "      <th>fuel</th>\n",
       "      <th>odometer</th>\n",
       "      <th>transmission</th>\n",
       "      <th>type</th>\n",
       "      <th>paint_color</th>\n",
       "      <th>is_4wd</th>\n",
       "      <th>date_posted</th>\n",
       "      <th>days_listed</th>\n",
       "      <th>dayofweek</th>\n",
       "      <th>week</th>\n",
       "      <th>month</th>\n",
       "      <th>year</th>\n",
       "      <th>vehicle_age</th>\n",
       "      <th>avg_mile</th>\n",
       "    </tr>\n",
       "  </thead>\n",
       "  <tbody>\n",
       "    <tr>\n",
       "      <td>30</td>\n",
       "      <td>3890</td>\n",
       "      <td>2011</td>\n",
       "      <td>subaru outback</td>\n",
       "      <td>3</td>\n",
       "      <td>4</td>\n",
       "      <td>gas</td>\n",
       "      <td>300000</td>\n",
       "      <td>automatic</td>\n",
       "      <td>SUV</td>\n",
       "      <td>white</td>\n",
       "      <td>True</td>\n",
       "      <td>2018-12-25</td>\n",
       "      <td>31</td>\n",
       "      <td>Tuesday</td>\n",
       "      <td>52</td>\n",
       "      <td>December</td>\n",
       "      <td>2018</td>\n",
       "      <td>7</td>\n",
       "      <td>42857</td>\n",
       "    </tr>\n",
       "    <tr>\n",
       "      <td>37</td>\n",
       "      <td>34900</td>\n",
       "      <td>2013</td>\n",
       "      <td>mercedes-benz benze sprinter 2500</td>\n",
       "      <td>3</td>\n",
       "      <td>6</td>\n",
       "      <td>diesel</td>\n",
       "      <td>113000</td>\n",
       "      <td>automatic</td>\n",
       "      <td>van</td>\n",
       "      <td>black</td>\n",
       "      <td>False</td>\n",
       "      <td>2019-01-15</td>\n",
       "      <td>16</td>\n",
       "      <td>Tuesday</td>\n",
       "      <td>3</td>\n",
       "      <td>January</td>\n",
       "      <td>2019</td>\n",
       "      <td>6</td>\n",
       "      <td>18833</td>\n",
       "    </tr>\n",
       "    <tr>\n",
       "      <td>40</td>\n",
       "      <td>2400</td>\n",
       "      <td>2001</td>\n",
       "      <td>toyota camry</td>\n",
       "      <td>2</td>\n",
       "      <td>4</td>\n",
       "      <td>gas</td>\n",
       "      <td>277564</td>\n",
       "      <td>automatic</td>\n",
       "      <td>coupe</td>\n",
       "      <td>yellow</td>\n",
       "      <td>False</td>\n",
       "      <td>2018-05-27</td>\n",
       "      <td>51</td>\n",
       "      <td>Sunday</td>\n",
       "      <td>21</td>\n",
       "      <td>May</td>\n",
       "      <td>2018</td>\n",
       "      <td>17</td>\n",
       "      <td>16327</td>\n",
       "    </tr>\n",
       "    <tr>\n",
       "      <td>44</td>\n",
       "      <td>3200</td>\n",
       "      <td>2006</td>\n",
       "      <td>honda civic</td>\n",
       "      <td>3</td>\n",
       "      <td>4</td>\n",
       "      <td>gas</td>\n",
       "      <td>255390</td>\n",
       "      <td>automatic</td>\n",
       "      <td>sedan</td>\n",
       "      <td>blue</td>\n",
       "      <td>False</td>\n",
       "      <td>2018-10-18</td>\n",
       "      <td>23</td>\n",
       "      <td>Thursday</td>\n",
       "      <td>42</td>\n",
       "      <td>October</td>\n",
       "      <td>2018</td>\n",
       "      <td>12</td>\n",
       "      <td>21282</td>\n",
       "    </tr>\n",
       "    <tr>\n",
       "      <td>86</td>\n",
       "      <td>39950</td>\n",
       "      <td>2018</td>\n",
       "      <td>chevrolet silverado</td>\n",
       "      <td>3</td>\n",
       "      <td>8</td>\n",
       "      <td>gas</td>\n",
       "      <td>18500</td>\n",
       "      <td>automatic</td>\n",
       "      <td>truck</td>\n",
       "      <td>others</td>\n",
       "      <td>True</td>\n",
       "      <td>2018-08-05</td>\n",
       "      <td>16</td>\n",
       "      <td>Sunday</td>\n",
       "      <td>31</td>\n",
       "      <td>August</td>\n",
       "      <td>2018</td>\n",
       "      <td>1</td>\n",
       "      <td>18500</td>\n",
       "    </tr>\n",
       "    <tr>\n",
       "      <td>...</td>\n",
       "      <td>...</td>\n",
       "      <td>...</td>\n",
       "      <td>...</td>\n",
       "      <td>...</td>\n",
       "      <td>...</td>\n",
       "      <td>...</td>\n",
       "      <td>...</td>\n",
       "      <td>...</td>\n",
       "      <td>...</td>\n",
       "      <td>...</td>\n",
       "      <td>...</td>\n",
       "      <td>...</td>\n",
       "      <td>...</td>\n",
       "      <td>...</td>\n",
       "      <td>...</td>\n",
       "      <td>...</td>\n",
       "      <td>...</td>\n",
       "      <td>...</td>\n",
       "      <td>...</td>\n",
       "    </tr>\n",
       "    <tr>\n",
       "      <td>42834</td>\n",
       "      <td>34995</td>\n",
       "      <td>2014</td>\n",
       "      <td>ford mustang</td>\n",
       "      <td>4</td>\n",
       "      <td>8</td>\n",
       "      <td>gas</td>\n",
       "      <td>7950</td>\n",
       "      <td>manual</td>\n",
       "      <td>coupe</td>\n",
       "      <td>black</td>\n",
       "      <td>False</td>\n",
       "      <td>2018-07-11</td>\n",
       "      <td>57</td>\n",
       "      <td>Wednesday</td>\n",
       "      <td>28</td>\n",
       "      <td>July</td>\n",
       "      <td>2018</td>\n",
       "      <td>4</td>\n",
       "      <td>1987</td>\n",
       "    </tr>\n",
       "    <tr>\n",
       "      <td>42857</td>\n",
       "      <td>40990</td>\n",
       "      <td>2016</td>\n",
       "      <td>ram 1500</td>\n",
       "      <td>3</td>\n",
       "      <td>8</td>\n",
       "      <td>diesel</td>\n",
       "      <td>107930</td>\n",
       "      <td>automatic</td>\n",
       "      <td>truck</td>\n",
       "      <td>white</td>\n",
       "      <td>True</td>\n",
       "      <td>2019-03-17</td>\n",
       "      <td>23</td>\n",
       "      <td>Sunday</td>\n",
       "      <td>11</td>\n",
       "      <td>March</td>\n",
       "      <td>2019</td>\n",
       "      <td>3</td>\n",
       "      <td>35976</td>\n",
       "    </tr>\n",
       "    <tr>\n",
       "      <td>42950</td>\n",
       "      <td>2000</td>\n",
       "      <td>1993</td>\n",
       "      <td>jeep grand cherokee laredo</td>\n",
       "      <td>1</td>\n",
       "      <td>6</td>\n",
       "      <td>gas</td>\n",
       "      <td>141669</td>\n",
       "      <td>automatic</td>\n",
       "      <td>SUV</td>\n",
       "      <td>green</td>\n",
       "      <td>True</td>\n",
       "      <td>2019-02-16</td>\n",
       "      <td>25</td>\n",
       "      <td>Saturday</td>\n",
       "      <td>7</td>\n",
       "      <td>February</td>\n",
       "      <td>2019</td>\n",
       "      <td>26</td>\n",
       "      <td>5448</td>\n",
       "    </tr>\n",
       "    <tr>\n",
       "      <td>42954</td>\n",
       "      <td>35500</td>\n",
       "      <td>2015</td>\n",
       "      <td>gmc sierra 2500hd</td>\n",
       "      <td>2</td>\n",
       "      <td>8</td>\n",
       "      <td>diesel</td>\n",
       "      <td>106973</td>\n",
       "      <td>automatic</td>\n",
       "      <td>truck</td>\n",
       "      <td>black</td>\n",
       "      <td>True</td>\n",
       "      <td>2018-05-04</td>\n",
       "      <td>15</td>\n",
       "      <td>Friday</td>\n",
       "      <td>18</td>\n",
       "      <td>May</td>\n",
       "      <td>2018</td>\n",
       "      <td>3</td>\n",
       "      <td>35657</td>\n",
       "    </tr>\n",
       "    <tr>\n",
       "      <td>42956</td>\n",
       "      <td>38995</td>\n",
       "      <td>2014</td>\n",
       "      <td>ram 2500</td>\n",
       "      <td>3</td>\n",
       "      <td>6</td>\n",
       "      <td>diesel</td>\n",
       "      <td>111623</td>\n",
       "      <td>automatic</td>\n",
       "      <td>truck</td>\n",
       "      <td>white</td>\n",
       "      <td>True</td>\n",
       "      <td>2018-05-03</td>\n",
       "      <td>64</td>\n",
       "      <td>Thursday</td>\n",
       "      <td>18</td>\n",
       "      <td>May</td>\n",
       "      <td>2018</td>\n",
       "      <td>4</td>\n",
       "      <td>27905</td>\n",
       "    </tr>\n",
       "  </tbody>\n",
       "</table>\n",
       "<p>2940 rows × 19 columns</p>\n",
       "</div>"
      ],
      "text/plain": [
       "       price  model_year                              model  condition  \\\n",
       "30      3890        2011                     subaru outback          3   \n",
       "37     34900        2013  mercedes-benz benze sprinter 2500          3   \n",
       "40      2400        2001                       toyota camry          2   \n",
       "44      3200        2006                        honda civic          3   \n",
       "86     39950        2018                chevrolet silverado          3   \n",
       "...      ...         ...                                ...        ...   \n",
       "42834  34995        2014                       ford mustang          4   \n",
       "42857  40990        2016                           ram 1500          3   \n",
       "42950   2000        1993         jeep grand cherokee laredo          1   \n",
       "42954  35500        2015                  gmc sierra 2500hd          2   \n",
       "42956  38995        2014                           ram 2500          3   \n",
       "\n",
       "       cylinders    fuel  odometer transmission   type paint_color  is_4wd  \\\n",
       "30             4     gas    300000    automatic    SUV       white    True   \n",
       "37             6  diesel    113000    automatic    van       black   False   \n",
       "40             4     gas    277564    automatic  coupe      yellow   False   \n",
       "44             4     gas    255390    automatic  sedan        blue   False   \n",
       "86             8     gas     18500    automatic  truck      others    True   \n",
       "...          ...     ...       ...          ...    ...         ...     ...   \n",
       "42834          8     gas      7950       manual  coupe       black   False   \n",
       "42857          8  diesel    107930    automatic  truck       white    True   \n",
       "42950          6     gas    141669    automatic    SUV       green    True   \n",
       "42954          8  diesel    106973    automatic  truck       black    True   \n",
       "42956          6  diesel    111623    automatic  truck       white    True   \n",
       "\n",
       "      date_posted  days_listed  dayofweek  week     month  year  vehicle_age  \\\n",
       "30     2018-12-25           31    Tuesday    52  December  2018            7   \n",
       "37     2019-01-15           16    Tuesday     3   January  2019            6   \n",
       "40     2018-05-27           51     Sunday    21       May  2018           17   \n",
       "44     2018-10-18           23   Thursday    42   October  2018           12   \n",
       "86     2018-08-05           16     Sunday    31    August  2018            1   \n",
       "...           ...          ...        ...   ...       ...   ...          ...   \n",
       "42834  2018-07-11           57  Wednesday    28      July  2018            4   \n",
       "42857  2019-03-17           23     Sunday    11     March  2019            3   \n",
       "42950  2019-02-16           25   Saturday     7  February  2019           26   \n",
       "42954  2018-05-04           15     Friday    18       May  2018            3   \n",
       "42956  2018-05-03           64   Thursday    18       May  2018            4   \n",
       "\n",
       "       avg_mile  \n",
       "30        42857  \n",
       "37        18833  \n",
       "40        16327  \n",
       "44        21282  \n",
       "86        18500  \n",
       "...         ...  \n",
       "42834      1987  \n",
       "42857     35976  \n",
       "42950      5448  \n",
       "42954     35657  \n",
       "42956     27905  \n",
       "\n",
       "[2940 rows x 19 columns]"
      ]
     },
     "execution_count": 45,
     "metadata": {},
     "output_type": "execute_result"
    }
   ],
   "source": [
    "# Check number of outliers\n",
    "df[((df[cols] < lower_lim) |(df[cols] > upper_lim)).any(axis=1)]"
   ]
  },
  {
   "cell_type": "markdown",
   "metadata": {},
   "source": [
    "We know we have 2751 rows contains outliers. Let's drop them. "
   ]
  },
  {
   "cell_type": "code",
   "execution_count": 46,
   "metadata": {
    "scrolled": true
   },
   "outputs": [
    {
     "name": "stdout",
     "output_type": "stream",
     "text": [
      "New Shape:  (40069, 19)\n"
     ]
    }
   ],
   "source": [
    "# Dropping out the outliers\n",
    "df_new = df[~((df[cols] < lower_lim) |(df[cols] > upper_lim)).any(axis=1)]\n",
    "# New dataset's shape\n",
    "print(\"New Shape: \", df_new.shape) "
   ]
  },
  {
   "cell_type": "markdown",
   "metadata": {},
   "source": [
    "Our new dataset contains 38319 rows."
   ]
  },
  {
   "cell_type": "markdown",
   "metadata": {},
   "source": [
    "### New histograms after filtering outliers"
   ]
  },
  {
   "cell_type": "code",
   "execution_count": 47,
   "metadata": {},
   "outputs": [
    {
     "data": {
      "image/png": "[encoded data removed]",
      "text/plain": [
       "<Figure size 1080x720 with 4 Axes>"
      ]
     },
     "metadata": {
      "needs_background": "light"
     },
     "output_type": "display_data"
    }
   ],
   "source": [
    "# New histograms after dropping outliers\n",
    "df_new[cols].hist(bins = 30, figsize=(15, 10));"
   ]
  },
  {
   "cell_type": "code",
   "execution_count": 48,
   "metadata": {},
   "outputs": [
    {
     "data": {
      "text/html": [
       "<div>\n",
       "<style scoped>\n",
       "    .dataframe tbody tr th:only-of-type {\n",
       "        vertical-align: middle;\n",
       "    }\n",
       "\n",
       "    .dataframe tbody tr th {\n",
       "        vertical-align: top;\n",
       "    }\n",
       "\n",
       "    .dataframe thead th {\n",
       "        text-align: right;\n",
       "    }\n",
       "</style>\n",
       "<table border=\"1\" class=\"dataframe\">\n",
       "  <thead>\n",
       "    <tr style=\"text-align: right;\">\n",
       "      <th></th>\n",
       "      <th>price</th>\n",
       "      <th>vehicle_age</th>\n",
       "      <th>odometer</th>\n",
       "    </tr>\n",
       "  </thead>\n",
       "  <tbody>\n",
       "    <tr>\n",
       "      <td>count</td>\n",
       "      <td>40069.000000</td>\n",
       "      <td>40069.000000</td>\n",
       "      <td>40069.000000</td>\n",
       "    </tr>\n",
       "    <tr>\n",
       "      <td>mean</td>\n",
       "      <td>11296.751404</td>\n",
       "      <td>8.251067</td>\n",
       "      <td>112863.423020</td>\n",
       "    </tr>\n",
       "    <tr>\n",
       "      <td>std</td>\n",
       "      <td>7845.725595</td>\n",
       "      <td>5.125203</td>\n",
       "      <td>51819.219054</td>\n",
       "    </tr>\n",
       "    <tr>\n",
       "      <td>min</td>\n",
       "      <td>1.000000</td>\n",
       "      <td>1.000000</td>\n",
       "      <td>0.000000</td>\n",
       "    </tr>\n",
       "    <tr>\n",
       "      <td>25%</td>\n",
       "      <td>5000.000000</td>\n",
       "      <td>4.000000</td>\n",
       "      <td>81256.000000</td>\n",
       "    </tr>\n",
       "    <tr>\n",
       "      <td>50%</td>\n",
       "      <td>8995.000000</td>\n",
       "      <td>7.000000</td>\n",
       "      <td>113000.000000</td>\n",
       "    </tr>\n",
       "    <tr>\n",
       "      <td>75%</td>\n",
       "      <td>15995.000000</td>\n",
       "      <td>12.000000</td>\n",
       "      <td>144400.000000</td>\n",
       "    </tr>\n",
       "    <tr>\n",
       "      <td>max</td>\n",
       "      <td>34700.000000</td>\n",
       "      <td>24.000000</td>\n",
       "      <td>247548.000000</td>\n",
       "    </tr>\n",
       "  </tbody>\n",
       "</table>\n",
       "</div>"
      ],
      "text/plain": [
       "              price   vehicle_age       odometer\n",
       "count  40069.000000  40069.000000   40069.000000\n",
       "mean   11296.751404      8.251067  112863.423020\n",
       "std     7845.725595      5.125203   51819.219054\n",
       "min        1.000000      1.000000       0.000000\n",
       "25%     5000.000000      4.000000   81256.000000\n",
       "50%     8995.000000      7.000000  113000.000000\n",
       "75%    15995.000000     12.000000  144400.000000\n",
       "max    34700.000000     24.000000  247548.000000"
      ]
     },
     "execution_count": 48,
     "metadata": {},
     "output_type": "execute_result"
    }
   ],
   "source": [
    "# check out our statistics of columns after filtering outliers\n",
    "df_new[cols].describe()"
   ]
  },
  {
   "cell_type": "markdown",
   "metadata": {},
   "source": [
    "### Conclusion"
   ]
  },
  {
   "cell_type": "markdown",
   "metadata": {},
   "source": [
    "Our outliers (2751 rows) have been removed, our new dataset has 38319 rows. Comparing the histograms, we observed that long 'tails' are not exist anymore, the distributions are almost normal distributions. Also, 50% percentiles are close to the mean value. We successfully removed our outliers from the dataset. "
   ]
  },
  {
   "cell_type": "markdown",
   "metadata": {},
   "source": [
    "### Number of days advertisements were displayed"
   ]
  },
  {
   "cell_type": "markdown",
   "metadata": {},
   "source": [
    "#### Statistics of days displayed"
   ]
  },
  {
   "cell_type": "code",
   "execution_count": 49,
   "metadata": {},
   "outputs": [
    {
     "data": {
      "image/png": "[encoded data removed]",
      "text/plain": [
       "<Figure size 432x288 with 1 Axes>"
      ]
     },
     "metadata": {
      "needs_background": "light"
     },
     "output_type": "display_data"
    }
   ],
   "source": [
    "# plot a histogram for days_listed\n",
    "df_new['days_listed'].hist()\n",
    "# add title and axis names\n",
    "plt.xlabel('Days listed')\n",
    "plt.ylabel('Frequency')\n",
    "plt.title(\"Histogram for days_listed\");"
   ]
  },
  {
   "cell_type": "code",
   "execution_count": 50,
   "metadata": {
    "scrolled": true
   },
   "outputs": [
    {
     "data": {
      "text/plain": [
       "count    40069.000000\n",
       "mean        39.567571\n",
       "std         28.207308\n",
       "min          0.000000\n",
       "25%         19.000000\n",
       "50%         33.000000\n",
       "75%         53.000000\n",
       "max        271.000000\n",
       "Name: days_listed, dtype: float64"
      ]
     },
     "execution_count": 50,
     "metadata": {},
     "output_type": "execute_result"
    }
   ],
   "source": [
    "# check the statistics of days listed\n",
    "df_new['days_listed'].describe()"
   ]
  },
  {
   "cell_type": "code",
   "execution_count": 51,
   "metadata": {},
   "outputs": [
    {
     "data": {
      "text/plain": [
       "33.0"
      ]
     },
     "execution_count": 51,
     "metadata": {},
     "output_type": "execute_result"
    }
   ],
   "source": [
    "# median value of days listed\n",
    "df_new['days_listed'].median()"
   ]
  },
  {
   "cell_type": "markdown",
   "metadata": {},
   "source": [
    "The histogram above shows the distribution of days vehicle was listed after dropping out outliers. The mean value is 39 days and median is 33 days. The minimum and maximum days are 0 and 271, respectively. The 50% percentile is 33 days, close to the mean value. The days listed numbers match our rea-world scenarios. "
   ]
  },
  {
   "cell_type": "markdown",
   "metadata": {},
   "source": [
    "#### Vehicles with shortest and long display time"
   ]
  },
  {
   "cell_type": "code",
   "execution_count": 52,
   "metadata": {
    "scrolled": true
   },
   "outputs": [
    {
     "data": {
      "text/html": [
       "<div>\n",
       "<style scoped>\n",
       "    .dataframe tbody tr th:only-of-type {\n",
       "        vertical-align: middle;\n",
       "    }\n",
       "\n",
       "    .dataframe tbody tr th {\n",
       "        vertical-align: top;\n",
       "    }\n",
       "\n",
       "    .dataframe thead th {\n",
       "        text-align: right;\n",
       "    }\n",
       "</style>\n",
       "<table border=\"1\" class=\"dataframe\">\n",
       "  <thead>\n",
       "    <tr style=\"text-align: right;\">\n",
       "      <th></th>\n",
       "      <th>price</th>\n",
       "      <th>model_year</th>\n",
       "      <th>model</th>\n",
       "      <th>condition</th>\n",
       "      <th>cylinders</th>\n",
       "      <th>fuel</th>\n",
       "      <th>odometer</th>\n",
       "      <th>transmission</th>\n",
       "      <th>type</th>\n",
       "      <th>paint_color</th>\n",
       "      <th>is_4wd</th>\n",
       "      <th>date_posted</th>\n",
       "      <th>days_listed</th>\n",
       "      <th>dayofweek</th>\n",
       "      <th>week</th>\n",
       "      <th>month</th>\n",
       "      <th>year</th>\n",
       "      <th>vehicle_age</th>\n",
       "      <th>avg_mile</th>\n",
       "    </tr>\n",
       "  </thead>\n",
       "  <tbody>\n",
       "    <tr>\n",
       "      <td>34</td>\n",
       "      <td>8000</td>\n",
       "      <td>2009</td>\n",
       "      <td>ford f-150</td>\n",
       "      <td>2</td>\n",
       "      <td>8</td>\n",
       "      <td>gas</td>\n",
       "      <td>234000</td>\n",
       "      <td>automatic</td>\n",
       "      <td>truck</td>\n",
       "      <td>black</td>\n",
       "      <td>True</td>\n",
       "      <td>2019-03-31</td>\n",
       "      <td>1</td>\n",
       "      <td>Sunday</td>\n",
       "      <td>13</td>\n",
       "      <td>March</td>\n",
       "      <td>2019</td>\n",
       "      <td>10</td>\n",
       "      <td>23400</td>\n",
       "    </tr>\n",
       "    <tr>\n",
       "      <td>397</td>\n",
       "      <td>8990</td>\n",
       "      <td>2016</td>\n",
       "      <td>nissan rogue</td>\n",
       "      <td>3</td>\n",
       "      <td>4</td>\n",
       "      <td>gas</td>\n",
       "      <td>121635</td>\n",
       "      <td>automatic</td>\n",
       "      <td>SUV</td>\n",
       "      <td>grey</td>\n",
       "      <td>False</td>\n",
       "      <td>2018-12-14</td>\n",
       "      <td>1</td>\n",
       "      <td>Friday</td>\n",
       "      <td>50</td>\n",
       "      <td>December</td>\n",
       "      <td>2018</td>\n",
       "      <td>2</td>\n",
       "      <td>60817</td>\n",
       "    </tr>\n",
       "    <tr>\n",
       "      <td>699</td>\n",
       "      <td>21900</td>\n",
       "      <td>2016</td>\n",
       "      <td>nissan frontier crew cab sv</td>\n",
       "      <td>2</td>\n",
       "      <td>6</td>\n",
       "      <td>gas</td>\n",
       "      <td>4998</td>\n",
       "      <td>other</td>\n",
       "      <td>pickup</td>\n",
       "      <td>others</td>\n",
       "      <td>False</td>\n",
       "      <td>2018-05-24</td>\n",
       "      <td>1</td>\n",
       "      <td>Thursday</td>\n",
       "      <td>21</td>\n",
       "      <td>May</td>\n",
       "      <td>2018</td>\n",
       "      <td>2</td>\n",
       "      <td>2499</td>\n",
       "    </tr>\n",
       "    <tr>\n",
       "      <td>787</td>\n",
       "      <td>6995</td>\n",
       "      <td>2005</td>\n",
       "      <td>subaru outback</td>\n",
       "      <td>3</td>\n",
       "      <td>4</td>\n",
       "      <td>gas</td>\n",
       "      <td>113000</td>\n",
       "      <td>automatic</td>\n",
       "      <td>wagon</td>\n",
       "      <td>green</td>\n",
       "      <td>True</td>\n",
       "      <td>2018-06-05</td>\n",
       "      <td>1</td>\n",
       "      <td>Tuesday</td>\n",
       "      <td>23</td>\n",
       "      <td>June</td>\n",
       "      <td>2018</td>\n",
       "      <td>13</td>\n",
       "      <td>8692</td>\n",
       "    </tr>\n",
       "    <tr>\n",
       "      <td>1067</td>\n",
       "      <td>14995</td>\n",
       "      <td>2008</td>\n",
       "      <td>chevrolet silverado 1500</td>\n",
       "      <td>3</td>\n",
       "      <td>8</td>\n",
       "      <td>gas</td>\n",
       "      <td>93300</td>\n",
       "      <td>automatic</td>\n",
       "      <td>truck</td>\n",
       "      <td>grey</td>\n",
       "      <td>True</td>\n",
       "      <td>2018-05-15</td>\n",
       "      <td>0</td>\n",
       "      <td>Tuesday</td>\n",
       "      <td>20</td>\n",
       "      <td>May</td>\n",
       "      <td>2018</td>\n",
       "      <td>10</td>\n",
       "      <td>9330</td>\n",
       "    </tr>\n",
       "    <tr>\n",
       "      <td>...</td>\n",
       "      <td>...</td>\n",
       "      <td>...</td>\n",
       "      <td>...</td>\n",
       "      <td>...</td>\n",
       "      <td>...</td>\n",
       "      <td>...</td>\n",
       "      <td>...</td>\n",
       "      <td>...</td>\n",
       "      <td>...</td>\n",
       "      <td>...</td>\n",
       "      <td>...</td>\n",
       "      <td>...</td>\n",
       "      <td>...</td>\n",
       "      <td>...</td>\n",
       "      <td>...</td>\n",
       "      <td>...</td>\n",
       "      <td>...</td>\n",
       "      <td>...</td>\n",
       "      <td>...</td>\n",
       "    </tr>\n",
       "    <tr>\n",
       "      <td>41191</td>\n",
       "      <td>5900</td>\n",
       "      <td>2010</td>\n",
       "      <td>kia soul</td>\n",
       "      <td>2</td>\n",
       "      <td>4</td>\n",
       "      <td>gas</td>\n",
       "      <td>144817</td>\n",
       "      <td>other</td>\n",
       "      <td>wagon</td>\n",
       "      <td>red</td>\n",
       "      <td>False</td>\n",
       "      <td>2018-11-28</td>\n",
       "      <td>1</td>\n",
       "      <td>Wednesday</td>\n",
       "      <td>48</td>\n",
       "      <td>November</td>\n",
       "      <td>2018</td>\n",
       "      <td>8</td>\n",
       "      <td>18102</td>\n",
       "    </tr>\n",
       "    <tr>\n",
       "      <td>41792</td>\n",
       "      <td>2500</td>\n",
       "      <td>1999</td>\n",
       "      <td>gmc sierra 1500</td>\n",
       "      <td>2</td>\n",
       "      <td>8</td>\n",
       "      <td>gas</td>\n",
       "      <td>216000</td>\n",
       "      <td>automatic</td>\n",
       "      <td>pickup</td>\n",
       "      <td>white</td>\n",
       "      <td>False</td>\n",
       "      <td>2019-02-02</td>\n",
       "      <td>1</td>\n",
       "      <td>Saturday</td>\n",
       "      <td>5</td>\n",
       "      <td>February</td>\n",
       "      <td>2019</td>\n",
       "      <td>20</td>\n",
       "      <td>10800</td>\n",
       "    </tr>\n",
       "    <tr>\n",
       "      <td>42638</td>\n",
       "      <td>3500</td>\n",
       "      <td>2010</td>\n",
       "      <td>nissan altima</td>\n",
       "      <td>2</td>\n",
       "      <td>4</td>\n",
       "      <td>gas</td>\n",
       "      <td>167800</td>\n",
       "      <td>automatic</td>\n",
       "      <td>sedan</td>\n",
       "      <td>custom</td>\n",
       "      <td>False</td>\n",
       "      <td>2019-02-01</td>\n",
       "      <td>1</td>\n",
       "      <td>Friday</td>\n",
       "      <td>5</td>\n",
       "      <td>February</td>\n",
       "      <td>2019</td>\n",
       "      <td>9</td>\n",
       "      <td>18644</td>\n",
       "    </tr>\n",
       "    <tr>\n",
       "      <td>42871</td>\n",
       "      <td>2999</td>\n",
       "      <td>2004</td>\n",
       "      <td>ford taurus</td>\n",
       "      <td>2</td>\n",
       "      <td>6</td>\n",
       "      <td>gas</td>\n",
       "      <td>136000</td>\n",
       "      <td>automatic</td>\n",
       "      <td>sedan</td>\n",
       "      <td>others</td>\n",
       "      <td>False</td>\n",
       "      <td>2018-10-22</td>\n",
       "      <td>0</td>\n",
       "      <td>Monday</td>\n",
       "      <td>43</td>\n",
       "      <td>October</td>\n",
       "      <td>2018</td>\n",
       "      <td>14</td>\n",
       "      <td>9714</td>\n",
       "    </tr>\n",
       "    <tr>\n",
       "      <td>42980</td>\n",
       "      <td>9500</td>\n",
       "      <td>2012</td>\n",
       "      <td>chevrolet traverse</td>\n",
       "      <td>2</td>\n",
       "      <td>6</td>\n",
       "      <td>gas</td>\n",
       "      <td>144500</td>\n",
       "      <td>automatic</td>\n",
       "      <td>SUV</td>\n",
       "      <td>others</td>\n",
       "      <td>True</td>\n",
       "      <td>2019-03-05</td>\n",
       "      <td>1</td>\n",
       "      <td>Tuesday</td>\n",
       "      <td>10</td>\n",
       "      <td>March</td>\n",
       "      <td>2019</td>\n",
       "      <td>7</td>\n",
       "      <td>20642</td>\n",
       "    </tr>\n",
       "  </tbody>\n",
       "</table>\n",
       "<p>173 rows × 19 columns</p>\n",
       "</div>"
      ],
      "text/plain": [
       "       price  model_year                        model  condition  cylinders  \\\n",
       "34      8000        2009                   ford f-150          2          8   \n",
       "397     8990        2016                 nissan rogue          3          4   \n",
       "699    21900        2016  nissan frontier crew cab sv          2          6   \n",
       "787     6995        2005               subaru outback          3          4   \n",
       "1067   14995        2008     chevrolet silverado 1500          3          8   \n",
       "...      ...         ...                          ...        ...        ...   \n",
       "41191   5900        2010                     kia soul          2          4   \n",
       "41792   2500        1999              gmc sierra 1500          2          8   \n",
       "42638   3500        2010                nissan altima          2          4   \n",
       "42871   2999        2004                  ford taurus          2          6   \n",
       "42980   9500        2012           chevrolet traverse          2          6   \n",
       "\n",
       "      fuel  odometer transmission    type paint_color  is_4wd date_posted  \\\n",
       "34     gas    234000    automatic   truck       black    True  2019-03-31   \n",
       "397    gas    121635    automatic     SUV        grey   False  2018-12-14   \n",
       "699    gas      4998        other  pickup      others   False  2018-05-24   \n",
       "787    gas    113000    automatic   wagon       green    True  2018-06-05   \n",
       "1067   gas     93300    automatic   truck        grey    True  2018-05-15   \n",
       "...    ...       ...          ...     ...         ...     ...         ...   \n",
       "41191  gas    144817        other   wagon         red   False  2018-11-28   \n",
       "41792  gas    216000    automatic  pickup       white   False  2019-02-02   \n",
       "42638  gas    167800    automatic   sedan      custom   False  2019-02-01   \n",
       "42871  gas    136000    automatic   sedan      others   False  2018-10-22   \n",
       "42980  gas    144500    automatic     SUV      others    True  2019-03-05   \n",
       "\n",
       "       days_listed  dayofweek  week     month  year  vehicle_age  avg_mile  \n",
       "34               1     Sunday    13     March  2019           10     23400  \n",
       "397              1     Friday    50  December  2018            2     60817  \n",
       "699              1   Thursday    21       May  2018            2      2499  \n",
       "787              1    Tuesday    23      June  2018           13      8692  \n",
       "1067             0    Tuesday    20       May  2018           10      9330  \n",
       "...            ...        ...   ...       ...   ...          ...       ...  \n",
       "41191            1  Wednesday    48  November  2018            8     18102  \n",
       "41792            1   Saturday     5  February  2019           20     10800  \n",
       "42638            1     Friday     5  February  2019            9     18644  \n",
       "42871            0     Monday    43   October  2018           14      9714  \n",
       "42980            1    Tuesday    10     March  2019            7     20642  \n",
       "\n",
       "[173 rows x 19 columns]"
      ]
     },
     "execution_count": 52,
     "metadata": {},
     "output_type": "execute_result"
    }
   ],
   "source": [
    "# check vehicles with 1 day or less display time\n",
    "temp = df_new.query('days_listed <= 1')\n",
    "temp"
   ]
  },
  {
   "cell_type": "code",
   "execution_count": 53,
   "metadata": {
    "scrolled": true
   },
   "outputs": [
    {
     "data": {
      "text/plain": [
       "18.728323699421964"
      ]
     },
     "execution_count": 53,
     "metadata": {},
     "output_type": "execute_result"
    }
   ],
   "source": [
    "# Average ads removed quickly is 18 hours. \n",
    "temp['days_listed'].mean()*24"
   ]
  },
  {
   "cell_type": "code",
   "execution_count": 54,
   "metadata": {
    "scrolled": true
   },
   "outputs": [
    {
     "data": {
      "text/html": [
       "<div>\n",
       "<style scoped>\n",
       "    .dataframe tbody tr th:only-of-type {\n",
       "        vertical-align: middle;\n",
       "    }\n",
       "\n",
       "    .dataframe tbody tr th {\n",
       "        vertical-align: top;\n",
       "    }\n",
       "\n",
       "    .dataframe thead th {\n",
       "        text-align: right;\n",
       "    }\n",
       "</style>\n",
       "<table border=\"1\" class=\"dataframe\">\n",
       "  <thead>\n",
       "    <tr style=\"text-align: right;\">\n",
       "      <th></th>\n",
       "      <th>price</th>\n",
       "      <th>model_year</th>\n",
       "      <th>model</th>\n",
       "      <th>condition</th>\n",
       "      <th>cylinders</th>\n",
       "      <th>fuel</th>\n",
       "      <th>odometer</th>\n",
       "      <th>transmission</th>\n",
       "      <th>type</th>\n",
       "      <th>paint_color</th>\n",
       "      <th>is_4wd</th>\n",
       "      <th>date_posted</th>\n",
       "      <th>days_listed</th>\n",
       "      <th>dayofweek</th>\n",
       "      <th>week</th>\n",
       "      <th>month</th>\n",
       "      <th>year</th>\n",
       "      <th>vehicle_age</th>\n",
       "      <th>avg_mile</th>\n",
       "    </tr>\n",
       "  </thead>\n",
       "  <tbody>\n",
       "    <tr>\n",
       "      <td>13</td>\n",
       "      <td>17990</td>\n",
       "      <td>2013</td>\n",
       "      <td>ram 1500</td>\n",
       "      <td>3</td>\n",
       "      <td>8</td>\n",
       "      <td>gas</td>\n",
       "      <td>113000</td>\n",
       "      <td>automatic</td>\n",
       "      <td>pickup</td>\n",
       "      <td>red</td>\n",
       "      <td>True</td>\n",
       "      <td>2018-05-15</td>\n",
       "      <td>111</td>\n",
       "      <td>Tuesday</td>\n",
       "      <td>20</td>\n",
       "      <td>May</td>\n",
       "      <td>2018</td>\n",
       "      <td>5</td>\n",
       "      <td>22600</td>\n",
       "    </tr>\n",
       "    <tr>\n",
       "      <td>25</td>\n",
       "      <td>29800</td>\n",
       "      <td>2012</td>\n",
       "      <td>chevrolet corvette</td>\n",
       "      <td>3</td>\n",
       "      <td>8</td>\n",
       "      <td>gas</td>\n",
       "      <td>57413</td>\n",
       "      <td>automatic</td>\n",
       "      <td>coupe</td>\n",
       "      <td>orange</td>\n",
       "      <td>False</td>\n",
       "      <td>2018-10-22</td>\n",
       "      <td>101</td>\n",
       "      <td>Monday</td>\n",
       "      <td>43</td>\n",
       "      <td>October</td>\n",
       "      <td>2018</td>\n",
       "      <td>6</td>\n",
       "      <td>9568</td>\n",
       "    </tr>\n",
       "    <tr>\n",
       "      <td>31</td>\n",
       "      <td>9500</td>\n",
       "      <td>2008</td>\n",
       "      <td>toyota highlander</td>\n",
       "      <td>2</td>\n",
       "      <td>6</td>\n",
       "      <td>gas</td>\n",
       "      <td>149799</td>\n",
       "      <td>automatic</td>\n",
       "      <td>SUV</td>\n",
       "      <td>others</td>\n",
       "      <td>False</td>\n",
       "      <td>2018-06-04</td>\n",
       "      <td>121</td>\n",
       "      <td>Monday</td>\n",
       "      <td>23</td>\n",
       "      <td>June</td>\n",
       "      <td>2018</td>\n",
       "      <td>10</td>\n",
       "      <td>14979</td>\n",
       "    </tr>\n",
       "    <tr>\n",
       "      <td>46</td>\n",
       "      <td>3800</td>\n",
       "      <td>2012</td>\n",
       "      <td>ford focus</td>\n",
       "      <td>2</td>\n",
       "      <td>4</td>\n",
       "      <td>gas</td>\n",
       "      <td>130323</td>\n",
       "      <td>automatic</td>\n",
       "      <td>sedan</td>\n",
       "      <td>black</td>\n",
       "      <td>False</td>\n",
       "      <td>2018-11-29</td>\n",
       "      <td>261</td>\n",
       "      <td>Thursday</td>\n",
       "      <td>48</td>\n",
       "      <td>November</td>\n",
       "      <td>2018</td>\n",
       "      <td>6</td>\n",
       "      <td>21720</td>\n",
       "    </tr>\n",
       "    <tr>\n",
       "      <td>76</td>\n",
       "      <td>18800</td>\n",
       "      <td>2015</td>\n",
       "      <td>chevrolet camaro lt coupe 2d</td>\n",
       "      <td>2</td>\n",
       "      <td>6</td>\n",
       "      <td>gas</td>\n",
       "      <td>33926</td>\n",
       "      <td>other</td>\n",
       "      <td>coupe</td>\n",
       "      <td>grey</td>\n",
       "      <td>False</td>\n",
       "      <td>2019-01-16</td>\n",
       "      <td>152</td>\n",
       "      <td>Wednesday</td>\n",
       "      <td>3</td>\n",
       "      <td>January</td>\n",
       "      <td>2019</td>\n",
       "      <td>4</td>\n",
       "      <td>8481</td>\n",
       "    </tr>\n",
       "    <tr>\n",
       "      <td>...</td>\n",
       "      <td>...</td>\n",
       "      <td>...</td>\n",
       "      <td>...</td>\n",
       "      <td>...</td>\n",
       "      <td>...</td>\n",
       "      <td>...</td>\n",
       "      <td>...</td>\n",
       "      <td>...</td>\n",
       "      <td>...</td>\n",
       "      <td>...</td>\n",
       "      <td>...</td>\n",
       "      <td>...</td>\n",
       "      <td>...</td>\n",
       "      <td>...</td>\n",
       "      <td>...</td>\n",
       "      <td>...</td>\n",
       "      <td>...</td>\n",
       "      <td>...</td>\n",
       "      <td>...</td>\n",
       "    </tr>\n",
       "    <tr>\n",
       "      <td>42868</td>\n",
       "      <td>10988</td>\n",
       "      <td>2010</td>\n",
       "      <td>dodge grand caravan</td>\n",
       "      <td>2</td>\n",
       "      <td>6</td>\n",
       "      <td>gas</td>\n",
       "      <td>49208</td>\n",
       "      <td>automatic</td>\n",
       "      <td>van</td>\n",
       "      <td>white</td>\n",
       "      <td>False</td>\n",
       "      <td>2018-09-17</td>\n",
       "      <td>102</td>\n",
       "      <td>Monday</td>\n",
       "      <td>38</td>\n",
       "      <td>September</td>\n",
       "      <td>2018</td>\n",
       "      <td>8</td>\n",
       "      <td>6151</td>\n",
       "    </tr>\n",
       "    <tr>\n",
       "      <td>42882</td>\n",
       "      <td>9700</td>\n",
       "      <td>2010</td>\n",
       "      <td>honda odyssey</td>\n",
       "      <td>2</td>\n",
       "      <td>6</td>\n",
       "      <td>gas</td>\n",
       "      <td>105656</td>\n",
       "      <td>automatic</td>\n",
       "      <td>mini-van</td>\n",
       "      <td>grey</td>\n",
       "      <td>False</td>\n",
       "      <td>2019-01-18</td>\n",
       "      <td>111</td>\n",
       "      <td>Friday</td>\n",
       "      <td>3</td>\n",
       "      <td>January</td>\n",
       "      <td>2019</td>\n",
       "      <td>9</td>\n",
       "      <td>11739</td>\n",
       "    </tr>\n",
       "    <tr>\n",
       "      <td>42905</td>\n",
       "      <td>5495</td>\n",
       "      <td>2006</td>\n",
       "      <td>jeep liberty</td>\n",
       "      <td>2</td>\n",
       "      <td>6</td>\n",
       "      <td>gas</td>\n",
       "      <td>108388</td>\n",
       "      <td>automatic</td>\n",
       "      <td>wagon</td>\n",
       "      <td>white</td>\n",
       "      <td>True</td>\n",
       "      <td>2018-12-24</td>\n",
       "      <td>106</td>\n",
       "      <td>Monday</td>\n",
       "      <td>52</td>\n",
       "      <td>December</td>\n",
       "      <td>2018</td>\n",
       "      <td>12</td>\n",
       "      <td>9032</td>\n",
       "    </tr>\n",
       "    <tr>\n",
       "      <td>42974</td>\n",
       "      <td>1200</td>\n",
       "      <td>2005</td>\n",
       "      <td>volkswagen jetta</td>\n",
       "      <td>1</td>\n",
       "      <td>5</td>\n",
       "      <td>gas</td>\n",
       "      <td>185000</td>\n",
       "      <td>automatic</td>\n",
       "      <td>sedan</td>\n",
       "      <td>grey</td>\n",
       "      <td>False</td>\n",
       "      <td>2018-10-10</td>\n",
       "      <td>158</td>\n",
       "      <td>Wednesday</td>\n",
       "      <td>41</td>\n",
       "      <td>October</td>\n",
       "      <td>2018</td>\n",
       "      <td>13</td>\n",
       "      <td>14230</td>\n",
       "    </tr>\n",
       "    <tr>\n",
       "      <td>42987</td>\n",
       "      <td>7995</td>\n",
       "      <td>2011</td>\n",
       "      <td>chevrolet equinox</td>\n",
       "      <td>4</td>\n",
       "      <td>4</td>\n",
       "      <td>gas</td>\n",
       "      <td>111088</td>\n",
       "      <td>automatic</td>\n",
       "      <td>SUV</td>\n",
       "      <td>others</td>\n",
       "      <td>False</td>\n",
       "      <td>2019-04-01</td>\n",
       "      <td>175</td>\n",
       "      <td>Monday</td>\n",
       "      <td>14</td>\n",
       "      <td>April</td>\n",
       "      <td>2019</td>\n",
       "      <td>8</td>\n",
       "      <td>13886</td>\n",
       "    </tr>\n",
       "  </tbody>\n",
       "</table>\n",
       "<p>1585 rows × 19 columns</p>\n",
       "</div>"
      ],
      "text/plain": [
       "       price  model_year                         model  condition  cylinders  \\\n",
       "13     17990        2013                      ram 1500          3          8   \n",
       "25     29800        2012            chevrolet corvette          3          8   \n",
       "31      9500        2008             toyota highlander          2          6   \n",
       "46      3800        2012                    ford focus          2          4   \n",
       "76     18800        2015  chevrolet camaro lt coupe 2d          2          6   \n",
       "...      ...         ...                           ...        ...        ...   \n",
       "42868  10988        2010           dodge grand caravan          2          6   \n",
       "42882   9700        2010                 honda odyssey          2          6   \n",
       "42905   5495        2006                  jeep liberty          2          6   \n",
       "42974   1200        2005              volkswagen jetta          1          5   \n",
       "42987   7995        2011             chevrolet equinox          4          4   \n",
       "\n",
       "      fuel  odometer transmission      type paint_color  is_4wd date_posted  \\\n",
       "13     gas    113000    automatic    pickup         red    True  2018-05-15   \n",
       "25     gas     57413    automatic     coupe      orange   False  2018-10-22   \n",
       "31     gas    149799    automatic       SUV      others   False  2018-06-04   \n",
       "46     gas    130323    automatic     sedan       black   False  2018-11-29   \n",
       "76     gas     33926        other     coupe        grey   False  2019-01-16   \n",
       "...    ...       ...          ...       ...         ...     ...         ...   \n",
       "42868  gas     49208    automatic       van       white   False  2018-09-17   \n",
       "42882  gas    105656    automatic  mini-van        grey   False  2019-01-18   \n",
       "42905  gas    108388    automatic     wagon       white    True  2018-12-24   \n",
       "42974  gas    185000    automatic     sedan        grey   False  2018-10-10   \n",
       "42987  gas    111088    automatic       SUV      others   False  2019-04-01   \n",
       "\n",
       "       days_listed  dayofweek  week      month  year  vehicle_age  avg_mile  \n",
       "13             111    Tuesday    20        May  2018            5     22600  \n",
       "25             101     Monday    43    October  2018            6      9568  \n",
       "31             121     Monday    23       June  2018           10     14979  \n",
       "46             261   Thursday    48   November  2018            6     21720  \n",
       "76             152  Wednesday     3    January  2019            4      8481  \n",
       "...            ...        ...   ...        ...   ...          ...       ...  \n",
       "42868          102     Monday    38  September  2018            8      6151  \n",
       "42882          111     Friday     3    January  2019            9     11739  \n",
       "42905          106     Monday    52   December  2018           12      9032  \n",
       "42974          158  Wednesday    41    October  2018           13     14230  \n",
       "42987          175     Monday    14      April  2019            8     13886  \n",
       "\n",
       "[1585 rows x 19 columns]"
      ]
     },
     "execution_count": 54,
     "metadata": {},
     "output_type": "execute_result"
    }
   ],
   "source": [
    "# check vehicles more than 100 days display time\n",
    "df_new.query('days_listed >= 100')"
   ]
  },
  {
   "cell_type": "code",
   "execution_count": 55,
   "metadata": {},
   "outputs": [
    {
     "data": {
      "image/png": "[encoded data removed]",
      "text/plain": [
       "<Figure size 432x288 with 1 Axes>"
      ]
     },
     "metadata": {
      "needs_background": "light"
     },
     "output_type": "display_data"
    }
   ],
   "source": [
    "# plot the histogram of days_listed\n",
    "df_new['days_listed'].hist(bins = 100);"
   ]
  },
  {
   "cell_type": "markdown",
   "metadata": {},
   "source": [
    "We observed that 165 vehicles are sold very quickly (18 hours avg.) after displaying and 1528 vehicles are sold 100 days after displaying. The longest days is 271 days, which is normal. Although the average days is 39 days, all the data of days listed are appropirate numbers and match our real-world situation. Observing from the above histogram, the typical display time of a vehicle is 7 to 100 days. "
   ]
  },
  {
   "cell_type": "markdown",
   "metadata": {},
   "source": [
    "### Analyze the number of ads and the average price for each type of vehicle. "
   ]
  },
  {
   "cell_type": "markdown",
   "metadata": {},
   "source": [
    "#### Aggregate of data by vehicle type and days listed"
   ]
  },
  {
   "cell_type": "code",
   "execution_count": 56,
   "metadata": {
    "scrolled": true
   },
   "outputs": [
    {
     "data": {
      "text/html": [
       "<div>\n",
       "<style scoped>\n",
       "    .dataframe tbody tr th:only-of-type {\n",
       "        vertical-align: middle;\n",
       "    }\n",
       "\n",
       "    .dataframe tbody tr th {\n",
       "        vertical-align: top;\n",
       "    }\n",
       "\n",
       "    .dataframe thead th {\n",
       "        text-align: right;\n",
       "    }\n",
       "</style>\n",
       "<table border=\"1\" class=\"dataframe\">\n",
       "  <thead>\n",
       "    <tr style=\"text-align: right;\">\n",
       "      <th></th>\n",
       "      <th>mean_days_listed</th>\n",
       "      <th>vehicle_num</th>\n",
       "    </tr>\n",
       "    <tr>\n",
       "      <th>type</th>\n",
       "      <th></th>\n",
       "      <th></th>\n",
       "    </tr>\n",
       "  </thead>\n",
       "  <tbody>\n",
       "    <tr>\n",
       "      <td>sedan</td>\n",
       "      <td>39.360361</td>\n",
       "      <td>9965</td>\n",
       "    </tr>\n",
       "    <tr>\n",
       "      <td>SUV</td>\n",
       "      <td>39.953013</td>\n",
       "      <td>9875</td>\n",
       "    </tr>\n",
       "    <tr>\n",
       "      <td>truck</td>\n",
       "      <td>39.239325</td>\n",
       "      <td>9180</td>\n",
       "    </tr>\n",
       "    <tr>\n",
       "      <td>pickup</td>\n",
       "      <td>39.384259</td>\n",
       "      <td>5184</td>\n",
       "    </tr>\n",
       "    <tr>\n",
       "      <td>coupe</td>\n",
       "      <td>38.882935</td>\n",
       "      <td>1717</td>\n",
       "    </tr>\n",
       "    <tr>\n",
       "      <td>wagon</td>\n",
       "      <td>40.644301</td>\n",
       "      <td>1237</td>\n",
       "    </tr>\n",
       "    <tr>\n",
       "      <td>mini-van</td>\n",
       "      <td>39.173220</td>\n",
       "      <td>941</td>\n",
       "    </tr>\n",
       "    <tr>\n",
       "      <td>hatchback</td>\n",
       "      <td>41.469939</td>\n",
       "      <td>815</td>\n",
       "    </tr>\n",
       "    <tr>\n",
       "      <td>van</td>\n",
       "      <td>41.412955</td>\n",
       "      <td>494</td>\n",
       "    </tr>\n",
       "    <tr>\n",
       "      <td>convertible</td>\n",
       "      <td>38.771523</td>\n",
       "      <td>302</td>\n",
       "    </tr>\n",
       "    <tr>\n",
       "      <td>other</td>\n",
       "      <td>37.810811</td>\n",
       "      <td>185</td>\n",
       "    </tr>\n",
       "    <tr>\n",
       "      <td>offroad</td>\n",
       "      <td>42.401274</td>\n",
       "      <td>157</td>\n",
       "    </tr>\n",
       "    <tr>\n",
       "      <td>bus</td>\n",
       "      <td>45.176471</td>\n",
       "      <td>17</td>\n",
       "    </tr>\n",
       "  </tbody>\n",
       "</table>\n",
       "</div>"
      ],
      "text/plain": [
       "             mean_days_listed  vehicle_num\n",
       "type                                      \n",
       "sedan               39.360361         9965\n",
       "SUV                 39.953013         9875\n",
       "truck               39.239325         9180\n",
       "pickup              39.384259         5184\n",
       "coupe               38.882935         1717\n",
       "wagon               40.644301         1237\n",
       "mini-van            39.173220          941\n",
       "hatchback           41.469939          815\n",
       "van                 41.412955          494\n",
       "convertible         38.771523          302\n",
       "other               37.810811          185\n",
       "offroad             42.401274          157\n",
       "bus                 45.176471           17"
      ]
     },
     "execution_count": 56,
     "metadata": {},
     "output_type": "execute_result"
    }
   ],
   "source": [
    "# In the previous analysis, we conclude that the typical display time is 7 to 100 days. \n",
    "vehicle_days_listing = df_new.pivot_table(index='type', values='days_listed', aggfunc=['mean', 'count'])\n",
    "vehicle_days_listing.columns = ['mean_days_listed', 'vehicle_num']\n",
    "vehicle_days_listing.sort_values(by = 'vehicle_num', ascending = False)\n",
    "                                                                           "
   ]
  },
  {
   "cell_type": "markdown",
   "metadata": {},
   "source": [
    "#### Calculate the average price per brand"
   ]
  },
  {
   "cell_type": "code",
   "execution_count": 57,
   "metadata": {},
   "outputs": [
    {
     "data": {
      "text/html": [
       "<div>\n",
       "<style scoped>\n",
       "    .dataframe tbody tr th:only-of-type {\n",
       "        vertical-align: middle;\n",
       "    }\n",
       "\n",
       "    .dataframe tbody tr th {\n",
       "        vertical-align: top;\n",
       "    }\n",
       "\n",
       "    .dataframe thead th {\n",
       "        text-align: right;\n",
       "    }\n",
       "</style>\n",
       "<table border=\"1\" class=\"dataframe\">\n",
       "  <thead>\n",
       "    <tr style=\"text-align: right;\">\n",
       "      <th></th>\n",
       "      <th>price</th>\n",
       "    </tr>\n",
       "    <tr>\n",
       "      <th>type</th>\n",
       "      <th></th>\n",
       "    </tr>\n",
       "  </thead>\n",
       "  <tbody>\n",
       "    <tr>\n",
       "      <td>bus</td>\n",
       "      <td>18340.294118</td>\n",
       "    </tr>\n",
       "    <tr>\n",
       "      <td>pickup</td>\n",
       "      <td>15257.670332</td>\n",
       "    </tr>\n",
       "    <tr>\n",
       "      <td>truck</td>\n",
       "      <td>15185.251416</td>\n",
       "    </tr>\n",
       "    <tr>\n",
       "      <td>offroad</td>\n",
       "      <td>14403.452229</td>\n",
       "    </tr>\n",
       "    <tr>\n",
       "      <td>coupe</td>\n",
       "      <td>13470.222481</td>\n",
       "    </tr>\n",
       "    <tr>\n",
       "      <td>convertible</td>\n",
       "      <td>12862.092715</td>\n",
       "    </tr>\n",
       "    <tr>\n",
       "      <td>other</td>\n",
       "      <td>10723.145946</td>\n",
       "    </tr>\n",
       "    <tr>\n",
       "      <td>SUV</td>\n",
       "      <td>10511.670481</td>\n",
       "    </tr>\n",
       "    <tr>\n",
       "      <td>wagon</td>\n",
       "      <td>9022.509297</td>\n",
       "    </tr>\n",
       "    <tr>\n",
       "      <td>van</td>\n",
       "      <td>8879.949393</td>\n",
       "    </tr>\n",
       "    <tr>\n",
       "      <td>mini-van</td>\n",
       "      <td>8113.565356</td>\n",
       "    </tr>\n",
       "    <tr>\n",
       "      <td>sedan</td>\n",
       "      <td>7032.667336</td>\n",
       "    </tr>\n",
       "    <tr>\n",
       "      <td>hatchback</td>\n",
       "      <td>6770.365644</td>\n",
       "    </tr>\n",
       "  </tbody>\n",
       "</table>\n",
       "</div>"
      ],
      "text/plain": [
       "                    price\n",
       "type                     \n",
       "bus          18340.294118\n",
       "pickup       15257.670332\n",
       "truck        15185.251416\n",
       "offroad      14403.452229\n",
       "coupe        13470.222481\n",
       "convertible  12862.092715\n",
       "other        10723.145946\n",
       "SUV          10511.670481\n",
       "wagon         9022.509297\n",
       "van           8879.949393\n",
       "mini-van      8113.565356\n",
       "sedan         7032.667336\n",
       "hatchback     6770.365644"
      ]
     },
     "execution_count": 57,
     "metadata": {},
     "output_type": "execute_result"
    }
   ],
   "source": [
    "brand_avg_price = df_new.pivot_table(index='type', values = 'price', aggfunc = 'mean')\n",
    "brand_avg_price.sort_values(by = 'price', ascending = False)\n"
   ]
  },
  {
   "cell_type": "markdown",
   "metadata": {},
   "source": [
    "#### Join aggregate of days listed, vehicle count with the average price"
   ]
  },
  {
   "cell_type": "code",
   "execution_count": 58,
   "metadata": {
    "scrolled": true
   },
   "outputs": [
    {
     "data": {
      "text/html": [
       "<div>\n",
       "<style scoped>\n",
       "    .dataframe tbody tr th:only-of-type {\n",
       "        vertical-align: middle;\n",
       "    }\n",
       "\n",
       "    .dataframe tbody tr th {\n",
       "        vertical-align: top;\n",
       "    }\n",
       "\n",
       "    .dataframe thead th {\n",
       "        text-align: right;\n",
       "    }\n",
       "</style>\n",
       "<table border=\"1\" class=\"dataframe\">\n",
       "  <thead>\n",
       "    <tr style=\"text-align: right;\">\n",
       "      <th></th>\n",
       "      <th>type</th>\n",
       "      <th>mean_days_listed</th>\n",
       "      <th>vehicle_num</th>\n",
       "      <th>price</th>\n",
       "    </tr>\n",
       "  </thead>\n",
       "  <tbody>\n",
       "    <tr>\n",
       "      <td>0</td>\n",
       "      <td>SUV</td>\n",
       "      <td>39.953013</td>\n",
       "      <td>9875</td>\n",
       "      <td>10511.670481</td>\n",
       "    </tr>\n",
       "    <tr>\n",
       "      <td>1</td>\n",
       "      <td>bus</td>\n",
       "      <td>45.176471</td>\n",
       "      <td>17</td>\n",
       "      <td>18340.294118</td>\n",
       "    </tr>\n",
       "    <tr>\n",
       "      <td>2</td>\n",
       "      <td>convertible</td>\n",
       "      <td>38.771523</td>\n",
       "      <td>302</td>\n",
       "      <td>12862.092715</td>\n",
       "    </tr>\n",
       "    <tr>\n",
       "      <td>3</td>\n",
       "      <td>coupe</td>\n",
       "      <td>38.882935</td>\n",
       "      <td>1717</td>\n",
       "      <td>13470.222481</td>\n",
       "    </tr>\n",
       "    <tr>\n",
       "      <td>4</td>\n",
       "      <td>hatchback</td>\n",
       "      <td>41.469939</td>\n",
       "      <td>815</td>\n",
       "      <td>6770.365644</td>\n",
       "    </tr>\n",
       "    <tr>\n",
       "      <td>5</td>\n",
       "      <td>mini-van</td>\n",
       "      <td>39.173220</td>\n",
       "      <td>941</td>\n",
       "      <td>8113.565356</td>\n",
       "    </tr>\n",
       "    <tr>\n",
       "      <td>6</td>\n",
       "      <td>offroad</td>\n",
       "      <td>42.401274</td>\n",
       "      <td>157</td>\n",
       "      <td>14403.452229</td>\n",
       "    </tr>\n",
       "    <tr>\n",
       "      <td>7</td>\n",
       "      <td>other</td>\n",
       "      <td>37.810811</td>\n",
       "      <td>185</td>\n",
       "      <td>10723.145946</td>\n",
       "    </tr>\n",
       "    <tr>\n",
       "      <td>8</td>\n",
       "      <td>pickup</td>\n",
       "      <td>39.384259</td>\n",
       "      <td>5184</td>\n",
       "      <td>15257.670332</td>\n",
       "    </tr>\n",
       "    <tr>\n",
       "      <td>9</td>\n",
       "      <td>sedan</td>\n",
       "      <td>39.360361</td>\n",
       "      <td>9965</td>\n",
       "      <td>7032.667336</td>\n",
       "    </tr>\n",
       "    <tr>\n",
       "      <td>10</td>\n",
       "      <td>truck</td>\n",
       "      <td>39.239325</td>\n",
       "      <td>9180</td>\n",
       "      <td>15185.251416</td>\n",
       "    </tr>\n",
       "    <tr>\n",
       "      <td>11</td>\n",
       "      <td>van</td>\n",
       "      <td>41.412955</td>\n",
       "      <td>494</td>\n",
       "      <td>8879.949393</td>\n",
       "    </tr>\n",
       "    <tr>\n",
       "      <td>12</td>\n",
       "      <td>wagon</td>\n",
       "      <td>40.644301</td>\n",
       "      <td>1237</td>\n",
       "      <td>9022.509297</td>\n",
       "    </tr>\n",
       "  </tbody>\n",
       "</table>\n",
       "</div>"
      ],
      "text/plain": [
       "           type  mean_days_listed  vehicle_num         price\n",
       "0           SUV         39.953013         9875  10511.670481\n",
       "1           bus         45.176471           17  18340.294118\n",
       "2   convertible         38.771523          302  12862.092715\n",
       "3         coupe         38.882935         1717  13470.222481\n",
       "4     hatchback         41.469939          815   6770.365644\n",
       "5      mini-van         39.173220          941   8113.565356\n",
       "6       offroad         42.401274          157  14403.452229\n",
       "7         other         37.810811          185  10723.145946\n",
       "8        pickup         39.384259         5184  15257.670332\n",
       "9         sedan         39.360361         9965   7032.667336\n",
       "10        truck         39.239325         9180  15185.251416\n",
       "11          van         41.412955          494   8879.949393\n",
       "12        wagon         40.644301         1237   9022.509297"
      ]
     },
     "execution_count": 58,
     "metadata": {},
     "output_type": "execute_result"
    }
   ],
   "source": [
    "brand_listing_info = vehicle_days_listing.join(brand_avg_price, on = 'type').reset_index()\n",
    "brand_listing_info"
   ]
  },
  {
   "cell_type": "markdown",
   "metadata": {},
   "source": [
    "#### Plot graphs showing the dependence of the number of ads on the vehicle type. "
   ]
  },
  {
   "cell_type": "code",
   "execution_count": 59,
   "metadata": {
    "scrolled": true
   },
   "outputs": [
    {
     "data": {
      "text/plain": [
       "-0.0661567130628376"
      ]
     },
     "execution_count": 59,
     "metadata": {},
     "output_type": "execute_result"
    }
   ],
   "source": [
    "# correlation showing the relationship between number of ads and price\n",
    "brand_listing_info['price'].corr(brand_listing_info['vehicle_num'])"
   ]
  },
  {
   "cell_type": "markdown",
   "metadata": {},
   "source": [
    "From the calculation above, we observed that there is no relationship between number of ads and vehicle's price. "
   ]
  },
  {
   "cell_type": "code",
   "execution_count": 60,
   "metadata": {
    "scrolled": true
   },
   "outputs": [
    {
     "data": {
      "image/png": "[encoded data removed]",
      "text/plain": [
       "<Figure size 1080x360 with 1 Axes>"
      ]
     },
     "metadata": {
      "needs_background": "light"
     },
     "output_type": "display_data"
    }
   ],
   "source": [
    "# a bar plot of vehicle type and price\n",
    "ax = brand_listing_info.plot.bar(x = 'type', y = 'price', rot = 0, figsize = (15,5))"
   ]
  },
  {
   "cell_type": "code",
   "execution_count": 61,
   "metadata": {},
   "outputs": [
    {
     "data": {
      "image/png": "[encoded data removed]",
      "text/plain": [
       "<Figure size 1080x360 with 1 Axes>"
      ]
     },
     "metadata": {
      "needs_background": "light"
     },
     "output_type": "display_data"
    }
   ],
   "source": [
    "# a bar plot of vehicle type and number of ads\n",
    "ax2 = brand_listing_info.plot.bar(x = 'type', y = 'vehicle_num', rot = 0, figsize = (15,5))"
   ]
  },
  {
   "cell_type": "markdown",
   "metadata": {},
   "source": [
    "### Conclusion"
   ]
  },
  {
   "cell_type": "markdown",
   "metadata": {},
   "source": [
    "We determined that the two types with the greatest number of ads are the **sedan and SUV**. We also found that the two types with the highest mean price are the bus and truck. We calculated the correlation of number of ads and price, and we found there no relationship between them. "
   ]
  },
  {
   "cell_type": "markdown",
   "metadata": {},
   "source": [
    "### Determine factors impact the price most"
   ]
  },
  {
   "cell_type": "code",
   "execution_count": 62,
   "metadata": {
    "scrolled": true
   },
   "outputs": [
    {
     "data": {
      "text/plain": [
       "sedan          9965\n",
       "SUV            9875\n",
       "truck          9180\n",
       "pickup         5184\n",
       "coupe          1717\n",
       "wagon          1237\n",
       "mini-van        941\n",
       "hatchback       815\n",
       "van             494\n",
       "convertible     302\n",
       "other           185\n",
       "offroad         157\n",
       "bus              17\n",
       "Name: type, dtype: int64"
      ]
     },
     "execution_count": 62,
     "metadata": {},
     "output_type": "execute_result"
    }
   ],
   "source": [
    "# check types with the greatest number of ads.\n",
    "df_new['type'].value_counts()"
   ]
  },
  {
   "cell_type": "markdown",
   "metadata": {},
   "source": [
    "We found that sedan has the most numbe of ads, followed by SUV, truck and pickup. Bus has the least number of ads. "
   ]
  },
  {
   "cell_type": "code",
   "execution_count": 63,
   "metadata": {
    "scrolled": true
   },
   "outputs": [
    {
     "data": {
      "text/html": [
       "<div>\n",
       "<style scoped>\n",
       "    .dataframe tbody tr th:only-of-type {\n",
       "        vertical-align: middle;\n",
       "    }\n",
       "\n",
       "    .dataframe tbody tr th {\n",
       "        vertical-align: top;\n",
       "    }\n",
       "\n",
       "    .dataframe thead th {\n",
       "        text-align: right;\n",
       "    }\n",
       "</style>\n",
       "<table border=\"1\" class=\"dataframe\">\n",
       "  <thead>\n",
       "    <tr style=\"text-align: right;\">\n",
       "      <th></th>\n",
       "      <th>price</th>\n",
       "      <th>model_year</th>\n",
       "      <th>model</th>\n",
       "      <th>condition</th>\n",
       "      <th>cylinders</th>\n",
       "      <th>fuel</th>\n",
       "      <th>odometer</th>\n",
       "      <th>transmission</th>\n",
       "      <th>type</th>\n",
       "      <th>paint_color</th>\n",
       "      <th>is_4wd</th>\n",
       "      <th>date_posted</th>\n",
       "      <th>days_listed</th>\n",
       "      <th>dayofweek</th>\n",
       "      <th>week</th>\n",
       "      <th>month</th>\n",
       "      <th>year</th>\n",
       "      <th>vehicle_age</th>\n",
       "      <th>avg_mile</th>\n",
       "    </tr>\n",
       "  </thead>\n",
       "  <tbody>\n",
       "    <tr>\n",
       "      <td>0</td>\n",
       "      <td>9400</td>\n",
       "      <td>2011</td>\n",
       "      <td>bmw x5</td>\n",
       "      <td>2</td>\n",
       "      <td>6</td>\n",
       "      <td>gas</td>\n",
       "      <td>145000</td>\n",
       "      <td>automatic</td>\n",
       "      <td>SUV</td>\n",
       "      <td>others</td>\n",
       "      <td>True</td>\n",
       "      <td>2018-06-23</td>\n",
       "      <td>19</td>\n",
       "      <td>Saturday</td>\n",
       "      <td>25</td>\n",
       "      <td>June</td>\n",
       "      <td>2018</td>\n",
       "      <td>7</td>\n",
       "      <td>20714</td>\n",
       "    </tr>\n",
       "    <tr>\n",
       "      <td>1</td>\n",
       "      <td>5500</td>\n",
       "      <td>2013</td>\n",
       "      <td>hyundai sonata</td>\n",
       "      <td>4</td>\n",
       "      <td>4</td>\n",
       "      <td>gas</td>\n",
       "      <td>110000</td>\n",
       "      <td>automatic</td>\n",
       "      <td>sedan</td>\n",
       "      <td>red</td>\n",
       "      <td>False</td>\n",
       "      <td>2019-02-07</td>\n",
       "      <td>79</td>\n",
       "      <td>Thursday</td>\n",
       "      <td>6</td>\n",
       "      <td>February</td>\n",
       "      <td>2019</td>\n",
       "      <td>6</td>\n",
       "      <td>18333</td>\n",
       "    </tr>\n",
       "    <tr>\n",
       "      <td>3</td>\n",
       "      <td>14900</td>\n",
       "      <td>2017</td>\n",
       "      <td>chrysler 200</td>\n",
       "      <td>3</td>\n",
       "      <td>4</td>\n",
       "      <td>gas</td>\n",
       "      <td>80903</td>\n",
       "      <td>automatic</td>\n",
       "      <td>sedan</td>\n",
       "      <td>black</td>\n",
       "      <td>False</td>\n",
       "      <td>2019-04-02</td>\n",
       "      <td>28</td>\n",
       "      <td>Tuesday</td>\n",
       "      <td>14</td>\n",
       "      <td>April</td>\n",
       "      <td>2019</td>\n",
       "      <td>2</td>\n",
       "      <td>40451</td>\n",
       "    </tr>\n",
       "    <tr>\n",
       "      <td>4</td>\n",
       "      <td>14990</td>\n",
       "      <td>2014</td>\n",
       "      <td>chrysler 300</td>\n",
       "      <td>3</td>\n",
       "      <td>6</td>\n",
       "      <td>gas</td>\n",
       "      <td>57954</td>\n",
       "      <td>automatic</td>\n",
       "      <td>sedan</td>\n",
       "      <td>black</td>\n",
       "      <td>True</td>\n",
       "      <td>2018-06-20</td>\n",
       "      <td>15</td>\n",
       "      <td>Wednesday</td>\n",
       "      <td>25</td>\n",
       "      <td>June</td>\n",
       "      <td>2018</td>\n",
       "      <td>4</td>\n",
       "      <td>14488</td>\n",
       "    </tr>\n",
       "    <tr>\n",
       "      <td>5</td>\n",
       "      <td>12990</td>\n",
       "      <td>2015</td>\n",
       "      <td>toyota camry</td>\n",
       "      <td>3</td>\n",
       "      <td>4</td>\n",
       "      <td>gas</td>\n",
       "      <td>79212</td>\n",
       "      <td>automatic</td>\n",
       "      <td>sedan</td>\n",
       "      <td>white</td>\n",
       "      <td>False</td>\n",
       "      <td>2018-12-27</td>\n",
       "      <td>73</td>\n",
       "      <td>Thursday</td>\n",
       "      <td>52</td>\n",
       "      <td>December</td>\n",
       "      <td>2018</td>\n",
       "      <td>3</td>\n",
       "      <td>26404</td>\n",
       "    </tr>\n",
       "  </tbody>\n",
       "</table>\n",
       "</div>"
      ],
      "text/plain": [
       "   price  model_year           model  condition  cylinders fuel  odometer  \\\n",
       "0   9400        2011          bmw x5          2          6  gas    145000   \n",
       "1   5500        2013  hyundai sonata          4          4  gas    110000   \n",
       "3  14900        2017    chrysler 200          3          4  gas     80903   \n",
       "4  14990        2014    chrysler 300          3          6  gas     57954   \n",
       "5  12990        2015    toyota camry          3          4  gas     79212   \n",
       "\n",
       "  transmission   type paint_color  is_4wd date_posted  days_listed  dayofweek  \\\n",
       "0    automatic    SUV      others    True  2018-06-23           19   Saturday   \n",
       "1    automatic  sedan         red   False  2019-02-07           79   Thursday   \n",
       "3    automatic  sedan       black   False  2019-04-02           28    Tuesday   \n",
       "4    automatic  sedan       black    True  2018-06-20           15  Wednesday   \n",
       "5    automatic  sedan       white   False  2018-12-27           73   Thursday   \n",
       "\n",
       "   week     month  year  vehicle_age  avg_mile  \n",
       "0    25      June  2018            7     20714  \n",
       "1     6  February  2019            6     18333  \n",
       "3    14     April  2019            2     40451  \n",
       "4    25      June  2018            4     14488  \n",
       "5    52  December  2018            3     26404  "
      ]
     },
     "execution_count": 63,
     "metadata": {},
     "output_type": "execute_result"
    }
   ],
   "source": [
    "# select top 2 vehicle types with most ads\n",
    "df_top = df_new[df_new.type.isin(['sedan', 'SUV'])]\n",
    "df_top.head()"
   ]
  },
  {
   "cell_type": "code",
   "execution_count": 64,
   "metadata": {},
   "outputs": [],
   "source": [
    "# make analysis of sedan and SUV separately\n",
    "df_sedan = df_top[df_top['type'] == 'sedan']\n",
    "df_SUV = df_top[df_top['type'] == 'SUV']"
   ]
  },
  {
   "cell_type": "markdown",
   "metadata": {},
   "source": [
    "#### Age and price"
   ]
  },
  {
   "cell_type": "code",
   "execution_count": 65,
   "metadata": {},
   "outputs": [
    {
     "data": {
      "image/png": "[encoded data removed]",
      "text/plain": [
       "<Figure size 432x288 with 1 Axes>"
      ]
     },
     "metadata": {
      "needs_background": "light"
     },
     "output_type": "display_data"
    },
    {
     "data": {
      "image/png": "[encoded data removed]",
      "text/plain": [
       "<Figure size 432x288 with 1 Axes>"
      ]
     },
     "metadata": {
      "needs_background": "light"
     },
     "output_type": "display_data"
    }
   ],
   "source": [
    "df_sedan.plot.scatter(x = 'vehicle_age', y = 'price', title = \"Correlation of Sedan's price with vehicle's age\", alpha = 0.05);\n",
    "df_SUV.plot.scatter(x = 'vehicle_age', y = 'price', title = \"Correlation of SUV's price with vehicle's age\", alpha = 0.05);\n"
   ]
  },
  {
   "cell_type": "code",
   "execution_count": 66,
   "metadata": {},
   "outputs": [
    {
     "name": "stdout",
     "output_type": "stream",
     "text": [
      "Sedan R =  -0.6360356445792139\n",
      "SUV R =  -0.600128134541371\n"
     ]
    }
   ],
   "source": [
    "# Correlation coefficient between vehicle's age and price of sedan.\n",
    "print('Sedan R = ', df_sedan['vehicle_age'].corr(df['price']))\n",
    "print('SUV R = ', df_SUV['vehicle_age'].corr(df['price']))"
   ]
  },
  {
   "cell_type": "markdown",
   "metadata": {},
   "source": [
    "From the scatterplot of vehicle's age and price, we observed that the price has negative relation with vehicle's age for both sedan and SUV. Price tend to increase when vehicle's age decreases. "
   ]
  },
  {
   "cell_type": "markdown",
   "metadata": {},
   "source": [
    "#### Mileage and price"
   ]
  },
  {
   "cell_type": "code",
   "execution_count": 67,
   "metadata": {},
   "outputs": [
    {
     "data": {
      "image/png": "[encoded data removed]",
      "text/plain": [
       "<Figure size 432x288 with 1 Axes>"
      ]
     },
     "metadata": {
      "needs_background": "light"
     },
     "output_type": "display_data"
    },
    {
     "data": {
      "image/png": "[encoded data removed]",
      "text/plain": [
       "<Figure size 432x288 with 1 Axes>"
      ]
     },
     "metadata": {
      "needs_background": "light"
     },
     "output_type": "display_data"
    }
   ],
   "source": [
    "df_sedan.plot.scatter(x = 'odometer', y = 'price', title = \"Correlation of Sedan's price with vehicle's mileage\", alpha = 0.05);\n",
    "df_SUV.plot.scatter(x = 'odometer', y = 'price', title = \"Correlation of SUV's price with vehicle's mileage\", alpha = 0.05);\n"
   ]
  },
  {
   "cell_type": "code",
   "execution_count": 68,
   "metadata": {},
   "outputs": [
    {
     "name": "stdout",
     "output_type": "stream",
     "text": [
      "Sedan R =  -0.5034156928616461\n",
      "SUV R =  -0.4737177759901828\n"
     ]
    }
   ],
   "source": [
    "# Correlation coefficient between vehicle's mileage and price of sedan.\n",
    "print('Sedan R = ', df_sedan['odometer'].corr(df['price']))\n",
    "print('SUV R = ', df_SUV['odometer'].corr(df['price']))"
   ]
  },
  {
   "cell_type": "markdown",
   "metadata": {},
   "source": [
    "From the scatterplot of vehicle's mileage and price, we observed that the price has negative relation with vehicle's mileage. Price tend to incrase when vehicle's mileage decreases. "
   ]
  },
  {
   "cell_type": "markdown",
   "metadata": {},
   "source": [
    "#### Condition and price"
   ]
  },
  {
   "cell_type": "code",
   "execution_count": 69,
   "metadata": {},
   "outputs": [
    {
     "data": {
      "image/png": "[encoded data removed]",
      "text/plain": [
       "<Figure size 432x288 with 1 Axes>"
      ]
     },
     "metadata": {
      "needs_background": "light"
     },
     "output_type": "display_data"
    },
    {
     "data": {
      "image/png": "[encoded data removed]",
      "text/plain": [
       "<Figure size 432x288 with 1 Axes>"
      ]
     },
     "metadata": {
      "needs_background": "light"
     },
     "output_type": "display_data"
    }
   ],
   "source": [
    "df_sedan.plot.scatter(x = 'condition', y = 'price', title = \"Correlation of Sedan's price with vehicle's condition\", alpha = 0.05);\n",
    "df_SUV.plot.scatter(x = 'condition', y = 'price', title = \"Correlation of SUV's price with vehicle's condition\", alpha = 0.05);"
   ]
  },
  {
   "cell_type": "markdown",
   "metadata": {},
   "source": [
    "From the scatterplot of vehicle's condition and price, we observed that vehicle with good(2), excellent(3), and like-new(4) have higher price than vehicles with other conditions. "
   ]
  },
  {
   "cell_type": "code",
   "execution_count": 70,
   "metadata": {
    "scrolled": true
   },
   "outputs": [
    {
     "name": "stderr",
     "output_type": "stream",
     "text": [
      "/opt/conda/lib/python3.7/site-packages/numpy/core/_asarray.py:83: VisibleDeprecationWarning: Creating an ndarray from ragged nested sequences (which is a list-or-tuple of lists-or-tuples-or ndarrays with different lengths or shapes) is deprecated. If you meant to do this, you must specify 'dtype=object' when creating the ndarray\n",
      "  return array(a, dtype, copy=False, order=order)\n"
     ]
    },
    {
     "data": {
      "image/png": "[encoded data removed]",
      "text/plain": [
       "<Figure size 432x288 with 1 Axes>"
      ]
     },
     "metadata": {
      "needs_background": "light"
     },
     "output_type": "display_data"
    }
   ],
   "source": [
    "# the box plot of sedan price and condition\n",
    "df_sedan.boxplot(by = 'condition', column='price')\n",
    "# add title\n",
    "plt.title('Boxplot of Sedan price and condition')\n",
    "plt.suptitle(\"\")\n",
    "plt.show();"
   ]
  },
  {
   "cell_type": "code",
   "execution_count": 71,
   "metadata": {},
   "outputs": [
    {
     "name": "stderr",
     "output_type": "stream",
     "text": [
      "/opt/conda/lib/python3.7/site-packages/numpy/core/_asarray.py:83: VisibleDeprecationWarning: Creating an ndarray from ragged nested sequences (which is a list-or-tuple of lists-or-tuples-or ndarrays with different lengths or shapes) is deprecated. If you meant to do this, you must specify 'dtype=object' when creating the ndarray\n",
      "  return array(a, dtype, copy=False, order=order)\n"
     ]
    },
    {
     "data": {
      "image/png": "[encoded data removed]",
      "text/plain": [
       "<Figure size 432x288 with 1 Axes>"
      ]
     },
     "metadata": {
      "needs_background": "light"
     },
     "output_type": "display_data"
    }
   ],
   "source": [
    "# the box plot of sedan price and condition\n",
    "df_SUV.boxplot(by = 'condition', column='price')\n",
    "# add title\n",
    "plt.title('Boxplot of SUV price and condition')\n",
    "plt.suptitle(\"\")\n",
    "plt.show();"
   ]
  },
  {
   "cell_type": "markdown",
   "metadata": {},
   "source": [
    "From the box plot we observed that vehicles with fair(1) condition has the least price for sedans, and salvage(0) has the least price for SUVs. Vehicles with like-new(4) condition has the most price for both types of vehicles. This indicates that the condition has a big influence on the price."
   ]
  },
  {
   "cell_type": "markdown",
   "metadata": {},
   "source": [
    "#### Transmission type and price"
   ]
  },
  {
   "cell_type": "code",
   "execution_count": 72,
   "metadata": {},
   "outputs": [
    {
     "name": "stderr",
     "output_type": "stream",
     "text": [
      "/opt/conda/lib/python3.7/site-packages/numpy/core/_asarray.py:83: VisibleDeprecationWarning: Creating an ndarray from ragged nested sequences (which is a list-or-tuple of lists-or-tuples-or ndarrays with different lengths or shapes) is deprecated. If you meant to do this, you must specify 'dtype=object' when creating the ndarray\n",
      "  return array(a, dtype, copy=False, order=order)\n"
     ]
    },
    {
     "data": {
      "image/png": "[encoded data removed]",
      "text/plain": [
       "<Figure size 432x288 with 1 Axes>"
      ]
     },
     "metadata": {
      "needs_background": "light"
     },
     "output_type": "display_data"
    }
   ],
   "source": [
    "# the box plot of Sedan price and transmission type\n",
    "df_sedan.boxplot(by = 'transmission', column='price')\n",
    "# add title\n",
    "plt.title('Boxplot of Sedan price and transmission type')\n",
    "plt.suptitle(\"\")\n",
    "plt.show();"
   ]
  },
  {
   "cell_type": "code",
   "execution_count": 73,
   "metadata": {},
   "outputs": [
    {
     "name": "stderr",
     "output_type": "stream",
     "text": [
      "/opt/conda/lib/python3.7/site-packages/numpy/core/_asarray.py:83: VisibleDeprecationWarning: Creating an ndarray from ragged nested sequences (which is a list-or-tuple of lists-or-tuples-or ndarrays with different lengths or shapes) is deprecated. If you meant to do this, you must specify 'dtype=object' when creating the ndarray\n",
      "  return array(a, dtype, copy=False, order=order)\n"
     ]
    },
    {
     "data": {
      "image/png": "[encoded data removed]",
      "text/plain": [
       "<Figure size 432x288 with 1 Axes>"
      ]
     },
     "metadata": {
      "needs_background": "light"
     },
     "output_type": "display_data"
    }
   ],
   "source": [
    "# the box plot of SUV price and transmission type\n",
    "df_SUV.boxplot(by = 'transmission', column='price')\n",
    "# add title\n",
    "plt.title('Boxplot of SUV price and transmission type')\n",
    "plt.suptitle(\"\")\n",
    "plt.show();"
   ]
  },
  {
   "cell_type": "markdown",
   "metadata": {},
   "source": [
    "From the box plot we observed that transmission type has influence on vehicle's price. Sedans with automatic transmission have higher price than vehicles with manual transmission, while SUVs with manual transmission have higher price. We can conclude that sedans with automatic transmission tend to cost more than manual transmission vehicles, and SUVs has the opposite conclusion. Thus, transmission type has big influence on price. "
   ]
  },
  {
   "cell_type": "markdown",
   "metadata": {},
   "source": [
    "#### Color and price"
   ]
  },
  {
   "cell_type": "code",
   "execution_count": 74,
   "metadata": {
    "scrolled": true
   },
   "outputs": [
    {
     "name": "stderr",
     "output_type": "stream",
     "text": [
      "/opt/conda/lib/python3.7/site-packages/numpy/core/_asarray.py:83: VisibleDeprecationWarning: Creating an ndarray from ragged nested sequences (which is a list-or-tuple of lists-or-tuples-or ndarrays with different lengths or shapes) is deprecated. If you meant to do this, you must specify 'dtype=object' when creating the ndarray\n",
      "  return array(a, dtype, copy=False, order=order)\n"
     ]
    },
    {
     "data": {
      "image/png": "[encoded data removed]",
      "text/plain": [
       "<Figure size 720x360 with 1 Axes>"
      ]
     },
     "metadata": {
      "needs_background": "light"
     },
     "output_type": "display_data"
    }
   ],
   "source": [
    "# the box plot of Sedan price and color\n",
    "df_sedan.boxplot(by = 'paint_color', column='price', figsize = (10,5))\n",
    "# add title\n",
    "plt.title('Boxplot of Sedan price and color')\n",
    "plt.suptitle(\"\")\n",
    "plt.show();"
   ]
  },
  {
   "cell_type": "code",
   "execution_count": 75,
   "metadata": {},
   "outputs": [
    {
     "name": "stderr",
     "output_type": "stream",
     "text": [
      "/opt/conda/lib/python3.7/site-packages/numpy/core/_asarray.py:83: VisibleDeprecationWarning: Creating an ndarray from ragged nested sequences (which is a list-or-tuple of lists-or-tuples-or ndarrays with different lengths or shapes) is deprecated. If you meant to do this, you must specify 'dtype=object' when creating the ndarray\n",
      "  return array(a, dtype, copy=False, order=order)\n"
     ]
    },
    {
     "data": {
      "image/png": "[encoded data removed]",
      "text/plain": [
       "<Figure size 720x360 with 1 Axes>"
      ]
     },
     "metadata": {
      "needs_background": "light"
     },
     "output_type": "display_data"
    }
   ],
   "source": [
    "# the box plot of SUV price and color\n",
    "df_SUV.boxplot(by = 'paint_color', column='price', figsize = (10,5))\n",
    "# add title\n",
    "plt.title('Boxplot of SUV price and color')\n",
    "plt.suptitle(\"\")\n",
    "plt.show();"
   ]
  },
  {
   "cell_type": "markdown",
   "metadata": {},
   "source": [
    "From the boxplot of paint color and price, there isn't exsit any price difference based on difference color. Also, there are outliers exist in many colors. Thus, we can conclude that vehicle's color doesn't impact the price. "
   ]
  },
  {
   "cell_type": "markdown",
   "metadata": {},
   "source": [
    "### Conclusion"
   ]
  },
  {
   "cell_type": "markdown",
   "metadata": {},
   "source": [
    "After selecting top five vehicles with most ads, we analyzed correlation of price with age, mileage, codition, transimission type, and paint color. We found that price has negative relation with age and mileage. That is, price will increase when age and mileage decrease. Vehicle's condition is an important factor, vehicles with good(2), excellent(3), and like-new(4) have higher price than vehicles with other conditions. Particularly, vehicles with fair(1) have least price for sedans and salvage(0) for SUVs. Moreoever, transmission type is another important factor, sedans with automatic transmission has higher price than sedans with other transmissions. SUVs with manual transmission has higher price than SUVs with other transmissions. From the boxplot we observed that vehicle's paint color doesn't impact on the price.    "
   ]
  },
  {
   "cell_type": "markdown",
   "metadata": {},
   "source": [
    "## Overall conclusion"
   ]
  },
  {
   "cell_type": "markdown",
   "metadata": {},
   "source": [
    "For the data processing stage, we processed the missing values. We dropped out missing values in 'model_year' and 'cylinders'. For 'odometer' we replaced missing values with the median value. For 'paint_color', we replace missing value with 'others'. And we changed all the columns with float data type to integers. \n",
    "\n",
    "We calculated 'dayofweek', 'month', 'year', 'age'and 'avg_mile', and add them into the dataset. \n",
    "\n",
    "In carry out exploratory data analysis stage, we check out the correlation among price, vehicle's age when the ad was placed, mileage, number of cylinders, and vehicle's condition. We found significant outliers existed in 'price', 'odometer', and 'age'. After we detect the outliers, we dropped out the outliers and create a new dataset.\n",
    "\n",
    "After analyzing the number of days the ads were displayed we identified a typical listing period is 7 to 100 days. The maximum days listed is 271 days. Minumum days is 0 day, specifically, an average of 18 hours. \n",
    "\n",
    "We know sedan and SUV has the most number of ads posted, bus and truck has the most price.\n",
    "\n",
    "After plotting box plots and scatter plots, we observed that vehicle's codition and transmission type have huge impact on vehicle's price, and vehicle's age, mileage, color also are factors that can predict price. "
   ]
  },
  {
   "cell_type": "markdown",
   "metadata": {},
   "source": [
    "# Project completion checklist\n",
    "\n",
    "Mark the completed tasks with 'x'. Then press Shift+Enter."
   ]
  },
  {
   "cell_type": "markdown",
   "metadata": {},
   "source": [
    "- [x]  file opened\n",
    "- [x]  files explored (first rows printed, info() method)\n",
    "- [x]  missing values determined\n",
    "- [x]  missing values filled in\n",
    "- [x]  clarification of the discovered missing values provided\n",
    "- [x]  data types converted\n",
    "- [x]  explanation of which columns had the data types changed and why\n",
    "- [x]  calculated and added to the table: day of the week, month, and year the ad was placed\n",
    "- [x]  calculated and added to the table: the vehicle's age (in years) when the ad was placed\n",
    "- [x]  calculated and added to the table: the vehicle's average mileage per year\n",
    "- [x]  the following parameters investigated: price, vehicle's age when the ad was placed, mileage, number of cylinders, and condition\n",
    "- [x]  histograms for each parameter created\n",
    "- [x]  task completed: \"Determine the upper limits of outliers, remove the outliers and store them in a separate DataFrame, and continue your work with the filtered data.\"\n",
    "- [x]  task completed: \"Use the filtered data to plot new histograms. Compare them with the earlier histograms (the ones that included outliers). Draw conclusions for each histogram.\"\n",
    "- [x]  task completed: \"Study how many days advertisements were displayed (days_listed). Plot a histogram. Calculate the mean and median. Describe the typical lifetime of an ad. Determine when ads were removed quickly, and when they were listed for an abnormally long time.  \"\n",
    "- [x]  task completed: \"Analyze the number of ads and the average price for each type of vehicle. Plot a graph showing the dependence of the number of ads on the vehicle type. Select the two types with the greatest number of ads. \"\n",
    "- [x]  task completed: \"What factors impact the price most? Take each of the popular types you detected at the previous stage and study whether the price depends on age, mileage, condition, transmission type, and color. For categorical variables (transmission type and color), plot box-and-whisker charts, and create scatterplots for the rest. When analyzing categorical variables, note that the categories must have at least 50 ads; otherwise, their parameters won't be valid for analysis.  \"\n",
    "- [x]  each stage has a conclusion\n",
    "- [x]  overall conclusion drawn"
   ]
  },
  {
   "cell_type": "code",
   "execution_count": null,
   "metadata": {},
   "outputs": [],
   "source": []
  }
 ],
 "metadata": {
  "ExecuteTimeLog": [
   {
    "duration": 857,
    "start_time": "2021-07-23T20:44:12.162Z"
   },
   {
    "duration": 124,
    "start_time": "2021-07-23T20:45:27.149Z"
   },
   {
    "duration": 107,
    "start_time": "2021-07-23T20:45:38.655Z"
   },
   {
    "duration": 24,
    "start_time": "2021-07-23T20:46:38.238Z"
   },
   {
    "duration": 19,
    "start_time": "2021-07-23T20:46:48.458Z"
   },
   {
    "duration": 26,
    "start_time": "2021-07-23T20:47:23.364Z"
   },
   {
    "duration": 25,
    "start_time": "2021-07-23T20:48:22.922Z"
   },
   {
    "duration": 461,
    "start_time": "2021-07-23T20:48:30.033Z"
   },
   {
    "duration": 6,
    "start_time": "2021-07-23T20:48:35.304Z"
   },
   {
    "duration": 6,
    "start_time": "2021-07-23T20:48:43.934Z"
   },
   {
    "duration": 5,
    "start_time": "2021-07-23T20:49:06.814Z"
   },
   {
    "duration": 25,
    "start_time": "2021-07-23T20:49:53.678Z"
   },
   {
    "duration": 33,
    "start_time": "2021-07-23T20:50:29.779Z"
   },
   {
    "duration": 24,
    "start_time": "2021-07-23T20:50:33.587Z"
   },
   {
    "duration": 27,
    "start_time": "2021-07-23T21:01:53.062Z"
   },
   {
    "duration": 25,
    "start_time": "2021-07-23T21:01:58.214Z"
   },
   {
    "duration": 23,
    "start_time": "2021-07-23T21:02:13.935Z"
   },
   {
    "duration": 39,
    "start_time": "2021-07-23T21:03:12.395Z"
   },
   {
    "duration": 51,
    "start_time": "2021-07-23T21:05:55.567Z"
   },
   {
    "duration": 50,
    "start_time": "2021-07-23T21:06:13.379Z"
   },
   {
    "duration": 4,
    "start_time": "2021-07-23T21:09:24.389Z"
   },
   {
    "duration": 26,
    "start_time": "2021-07-23T21:09:40.673Z"
   },
   {
    "duration": 20,
    "start_time": "2021-07-23T21:09:48.924Z"
   },
   {
    "duration": 8,
    "start_time": "2021-07-23T21:10:11.712Z"
   },
   {
    "duration": 8,
    "start_time": "2021-07-23T21:10:16.092Z"
   },
   {
    "duration": 10,
    "start_time": "2021-07-23T21:10:22.154Z"
   },
   {
    "duration": 36,
    "start_time": "2021-07-23T21:18:47.085Z"
   },
   {
    "duration": 37,
    "start_time": "2021-07-23T21:19:15.520Z"
   },
   {
    "duration": 6,
    "start_time": "2021-07-23T21:19:57.278Z"
   },
   {
    "duration": 392,
    "start_time": "2021-07-23T21:20:14.972Z"
   },
   {
    "duration": 7,
    "start_time": "2021-07-23T21:20:22.241Z"
   },
   {
    "duration": 8,
    "start_time": "2021-07-23T21:20:32.757Z"
   },
   {
    "duration": 7,
    "start_time": "2021-07-23T21:20:51.049Z"
   },
   {
    "duration": 8,
    "start_time": "2021-07-23T21:21:56.555Z"
   },
   {
    "duration": 19,
    "start_time": "2021-07-23T21:22:24.968Z"
   },
   {
    "duration": 20,
    "start_time": "2021-07-23T21:22:37.559Z"
   },
   {
    "duration": 7,
    "start_time": "2021-07-23T21:32:33.233Z"
   },
   {
    "duration": 9,
    "start_time": "2021-07-23T21:34:05.044Z"
   },
   {
    "duration": 8,
    "start_time": "2021-07-23T21:34:33.925Z"
   },
   {
    "duration": 8,
    "start_time": "2021-07-23T21:34:44.026Z"
   },
   {
    "duration": 7,
    "start_time": "2021-07-23T21:35:09.535Z"
   },
   {
    "duration": 7,
    "start_time": "2021-07-23T21:41:38.684Z"
   },
   {
    "duration": 25,
    "start_time": "2021-07-23T21:41:51.958Z"
   },
   {
    "duration": 7,
    "start_time": "2021-07-23T21:42:13.935Z"
   },
   {
    "duration": 844,
    "start_time": "2021-07-24T01:55:57.660Z"
   },
   {
    "duration": 108,
    "start_time": "2021-07-24T01:55:58.507Z"
   },
   {
    "duration": 23,
    "start_time": "2021-07-24T01:55:58.689Z"
   },
   {
    "duration": 25,
    "start_time": "2021-07-24T01:56:00.648Z"
   },
   {
    "duration": 4,
    "start_time": "2021-07-24T01:56:02.446Z"
   },
   {
    "duration": 23,
    "start_time": "2021-07-24T01:56:03.116Z"
   },
   {
    "duration": 25,
    "start_time": "2021-07-24T01:56:08.910Z"
   },
   {
    "duration": 50,
    "start_time": "2021-07-24T01:56:12.415Z"
   },
   {
    "duration": 8,
    "start_time": "2021-07-24T01:56:14.963Z"
   },
   {
    "duration": 22,
    "start_time": "2021-07-24T01:56:16.533Z"
   },
   {
    "duration": 6,
    "start_time": "2021-07-24T01:56:20.078Z"
   },
   {
    "duration": 7,
    "start_time": "2021-07-24T01:56:22.187Z"
   },
   {
    "duration": 21,
    "start_time": "2021-07-24T01:56:22.805Z"
   },
   {
    "duration": 6,
    "start_time": "2021-07-24T01:56:26.216Z"
   },
   {
    "duration": 9,
    "start_time": "2021-07-24T01:56:29.102Z"
   },
   {
    "duration": 7,
    "start_time": "2021-07-24T01:56:29.731Z"
   },
   {
    "duration": 30,
    "start_time": "2021-07-24T01:56:35.277Z"
   },
   {
    "duration": 4,
    "start_time": "2021-07-24T01:58:08.960Z"
   },
   {
    "duration": 17,
    "start_time": "2021-07-24T02:02:20.658Z"
   },
   {
    "duration": 34,
    "start_time": "2021-07-24T02:02:24.713Z"
   },
   {
    "duration": 33,
    "start_time": "2021-07-24T02:03:17.864Z"
   },
   {
    "duration": 7,
    "start_time": "2021-07-24T02:05:05.661Z"
   },
   {
    "duration": 4,
    "start_time": "2021-07-24T02:05:27.664Z"
   },
   {
    "duration": 10,
    "start_time": "2021-07-24T02:06:28.055Z"
   },
   {
    "duration": 36,
    "start_time": "2021-07-24T02:06:31.461Z"
   },
   {
    "duration": 45,
    "start_time": "2021-07-24T02:08:01.677Z"
   },
   {
    "duration": 44,
    "start_time": "2021-07-24T02:08:11.457Z"
   },
   {
    "duration": 55,
    "start_time": "2021-07-24T02:09:50.941Z"
   },
   {
    "duration": 8593,
    "start_time": "2021-07-24T02:14:24.979Z"
   },
   {
    "duration": 35,
    "start_time": "2021-07-24T02:14:46.442Z"
   },
   {
    "duration": 6,
    "start_time": "2021-07-24T02:14:53.533Z"
   },
   {
    "duration": 6,
    "start_time": "2021-07-24T02:18:07.549Z"
   },
   {
    "duration": 35,
    "start_time": "2021-07-24T02:18:23.572Z"
   },
   {
    "duration": 14,
    "start_time": "2021-07-24T02:18:40.011Z"
   },
   {
    "duration": 1072,
    "start_time": "2021-07-24T02:20:04.918Z"
   },
   {
    "duration": 14,
    "start_time": "2021-07-24T02:20:12.803Z"
   },
   {
    "duration": 5,
    "start_time": "2021-07-24T02:20:22.454Z"
   },
   {
    "duration": 13,
    "start_time": "2021-07-24T02:20:27.443Z"
   },
   {
    "duration": 88,
    "start_time": "2021-07-24T02:20:37.693Z"
   },
   {
    "duration": 76,
    "start_time": "2021-07-24T02:21:24.072Z"
   },
   {
    "duration": 79,
    "start_time": "2021-07-24T02:21:44.967Z"
   },
   {
    "duration": 377,
    "start_time": "2021-07-24T02:26:14.580Z"
   },
   {
    "duration": 4,
    "start_time": "2021-07-24T02:26:49.972Z"
   },
   {
    "duration": 40,
    "start_time": "2021-07-24T02:26:55.668Z"
   },
   {
    "duration": 379,
    "start_time": "2021-07-24T02:27:37.668Z"
   },
   {
    "duration": 29,
    "start_time": "2021-07-24T02:27:47.826Z"
   },
   {
    "duration": 7,
    "start_time": "2021-07-24T02:28:00.224Z"
   },
   {
    "duration": 45,
    "start_time": "2021-07-24T02:28:03.228Z"
   },
   {
    "duration": 10,
    "start_time": "2021-07-24T02:28:17.482Z"
   },
   {
    "duration": 10,
    "start_time": "2021-07-24T02:28:22.491Z"
   },
   {
    "duration": 7,
    "start_time": "2021-07-24T02:29:16.859Z"
   },
   {
    "duration": 7,
    "start_time": "2021-07-24T02:29:24.744Z"
   },
   {
    "duration": 35,
    "start_time": "2021-07-24T02:29:28.914Z"
   },
   {
    "duration": 8,
    "start_time": "2021-07-24T02:30:03.190Z"
   },
   {
    "duration": 10,
    "start_time": "2021-07-24T02:30:26.417Z"
   },
   {
    "duration": 10,
    "start_time": "2021-07-24T02:30:39.552Z"
   },
   {
    "duration": 5,
    "start_time": "2021-07-24T02:30:44.622Z"
   },
   {
    "duration": 6,
    "start_time": "2021-07-24T02:32:09.039Z"
   },
   {
    "duration": 6,
    "start_time": "2021-07-24T02:38:25.178Z"
   },
   {
    "duration": 7,
    "start_time": "2021-07-24T02:38:32.288Z"
   },
   {
    "duration": 7,
    "start_time": "2021-07-24T02:38:41.300Z"
   },
   {
    "duration": 7,
    "start_time": "2021-07-24T02:39:02.886Z"
   },
   {
    "duration": 15,
    "start_time": "2021-07-24T02:39:09.187Z"
   },
   {
    "duration": 14516,
    "start_time": "2021-07-24T02:40:34.566Z"
   },
   {
    "duration": 14657,
    "start_time": "2021-07-24T02:41:00.847Z"
   },
   {
    "duration": 9163,
    "start_time": "2021-07-24T02:41:28.737Z"
   },
   {
    "duration": 7,
    "start_time": "2021-07-24T02:42:09.218Z"
   },
   {
    "duration": 858,
    "start_time": "2021-07-24T03:07:45.235Z"
   },
   {
    "duration": 116,
    "start_time": "2021-07-24T03:07:46.096Z"
   },
   {
    "duration": 24,
    "start_time": "2021-07-24T03:07:46.215Z"
   },
   {
    "duration": 35,
    "start_time": "2021-07-24T03:07:47.236Z"
   },
   {
    "duration": 5,
    "start_time": "2021-07-24T03:07:47.705Z"
   },
   {
    "duration": 22,
    "start_time": "2021-07-24T03:07:48.512Z"
   },
   {
    "duration": 28,
    "start_time": "2021-07-24T03:07:52.911Z"
   },
   {
    "duration": 51,
    "start_time": "2021-07-24T03:07:54.272Z"
   },
   {
    "duration": 8,
    "start_time": "2021-07-24T03:07:54.732Z"
   },
   {
    "duration": 22,
    "start_time": "2021-07-24T03:07:56.919Z"
   },
   {
    "duration": 7,
    "start_time": "2021-07-24T03:07:57.299Z"
   },
   {
    "duration": 7,
    "start_time": "2021-07-24T03:07:57.624Z"
   },
   {
    "duration": 20,
    "start_time": "2021-07-24T03:07:58.039Z"
   },
   {
    "duration": 7,
    "start_time": "2021-07-24T03:08:01.911Z"
   },
   {
    "duration": 9,
    "start_time": "2021-07-24T03:08:02.571Z"
   },
   {
    "duration": 7,
    "start_time": "2021-07-24T03:08:02.863Z"
   },
   {
    "duration": 29,
    "start_time": "2021-07-24T03:08:04.280Z"
   },
   {
    "duration": 16,
    "start_time": "2021-07-24T03:08:04.806Z"
   },
   {
    "duration": 32,
    "start_time": "2021-07-24T03:08:05.089Z"
   },
   {
    "duration": 5,
    "start_time": "2021-07-24T03:08:06.038Z"
   },
   {
    "duration": 5,
    "start_time": "2021-07-24T03:08:06.531Z"
   },
   {
    "duration": 88,
    "start_time": "2021-07-24T03:08:06.862Z"
   },
   {
    "duration": 37,
    "start_time": "2021-07-24T03:08:08.694Z"
   },
   {
    "duration": 6,
    "start_time": "2021-07-24T03:08:10.644Z"
   },
   {
    "duration": 441,
    "start_time": "2021-07-24T03:09:12.476Z"
   },
   {
    "duration": 5,
    "start_time": "2021-07-24T03:10:59.520Z"
   },
   {
    "duration": 80,
    "start_time": "2021-07-24T03:11:02.954Z"
   },
   {
    "duration": 35,
    "start_time": "2021-07-24T03:11:10.792Z"
   },
   {
    "duration": 7,
    "start_time": "2021-07-24T03:11:16.435Z"
   },
   {
    "duration": 11,
    "start_time": "2021-07-24T03:13:22.552Z"
   },
   {
    "duration": 7,
    "start_time": "2021-07-24T03:15:19.670Z"
   },
   {
    "duration": 6,
    "start_time": "2021-07-24T03:15:39.742Z"
   },
   {
    "duration": 5,
    "start_time": "2021-07-24T03:16:04.372Z"
   },
   {
    "duration": 4,
    "start_time": "2021-07-24T03:16:29.357Z"
   },
   {
    "duration": 113,
    "start_time": "2021-07-24T03:18:59.127Z"
   },
   {
    "duration": 135,
    "start_time": "2021-07-24T03:19:20.541Z"
   },
   {
    "duration": 401,
    "start_time": "2021-07-24T03:19:32.121Z"
   },
   {
    "duration": 23,
    "start_time": "2021-07-24T03:19:52.812Z"
   },
   {
    "duration": 23,
    "start_time": "2021-07-24T03:20:03.780Z"
   },
   {
    "duration": 76,
    "start_time": "2021-07-24T03:20:37.011Z"
   },
   {
    "duration": 78,
    "start_time": "2021-07-24T03:21:22.890Z"
   },
   {
    "duration": 75,
    "start_time": "2021-07-24T03:21:32.400Z"
   },
   {
    "duration": 40,
    "start_time": "2021-07-24T03:22:52.963Z"
   },
   {
    "duration": 46,
    "start_time": "2021-07-24T03:23:12.874Z"
   },
   {
    "duration": 345,
    "start_time": "2021-07-24T03:23:56.188Z"
   },
   {
    "duration": 7,
    "start_time": "2021-07-24T03:23:59.307Z"
   },
   {
    "duration": 6,
    "start_time": "2021-07-24T03:25:45.338Z"
   },
   {
    "duration": 7,
    "start_time": "2021-07-24T03:25:56.449Z"
   },
   {
    "duration": 7,
    "start_time": "2021-07-24T03:26:21.687Z"
   },
   {
    "duration": 48,
    "start_time": "2021-07-24T03:26:24.945Z"
   },
   {
    "duration": 18,
    "start_time": "2021-07-24T03:35:40.336Z"
   },
   {
    "duration": 18,
    "start_time": "2021-07-24T03:38:05.614Z"
   },
   {
    "duration": 17,
    "start_time": "2021-07-24T03:38:36.286Z"
   },
   {
    "duration": 515,
    "start_time": "2021-07-24T03:57:56.724Z"
   },
   {
    "duration": 580,
    "start_time": "2021-07-24T03:59:19.952Z"
   },
   {
    "duration": 522,
    "start_time": "2021-07-24T03:59:24.621Z"
   },
   {
    "duration": 12,
    "start_time": "2021-07-24T03:59:45.795Z"
   },
   {
    "duration": 502,
    "start_time": "2021-07-24T04:00:17.767Z"
   },
   {
    "duration": 503,
    "start_time": "2021-07-24T04:00:23.279Z"
   },
   {
    "duration": 498,
    "start_time": "2021-07-24T04:00:27.895Z"
   },
   {
    "duration": 520,
    "start_time": "2021-07-24T04:00:32.883Z"
   },
   {
    "duration": 622,
    "start_time": "2021-07-24T04:00:45.601Z"
   },
   {
    "duration": 518,
    "start_time": "2021-07-24T04:00:55.056Z"
   },
   {
    "duration": 509,
    "start_time": "2021-07-24T04:01:53.276Z"
   },
   {
    "duration": 14,
    "start_time": "2021-07-24T04:03:30.599Z"
   },
   {
    "duration": 401,
    "start_time": "2021-07-24T04:06:48.189Z"
   },
   {
    "duration": 14,
    "start_time": "2021-07-24T04:07:05.569Z"
   },
   {
    "duration": 312,
    "start_time": "2021-07-24T04:07:24.746Z"
   },
   {
    "duration": 303,
    "start_time": "2021-07-24T04:07:29.069Z"
   },
   {
    "duration": 363,
    "start_time": "2021-07-24T04:07:33.440Z"
   },
   {
    "duration": 357,
    "start_time": "2021-07-24T04:07:41.187Z"
   },
   {
    "duration": 873,
    "start_time": "2021-07-24T17:29:44.830Z"
   },
   {
    "duration": 114,
    "start_time": "2021-07-24T17:29:46.755Z"
   },
   {
    "duration": 25,
    "start_time": "2021-07-24T17:29:47.591Z"
   },
   {
    "duration": 26,
    "start_time": "2021-07-24T17:29:48.625Z"
   },
   {
    "duration": 6,
    "start_time": "2021-07-24T17:29:49.348Z"
   },
   {
    "duration": 24,
    "start_time": "2021-07-24T17:29:50.166Z"
   },
   {
    "duration": 29,
    "start_time": "2021-07-24T17:29:53.751Z"
   },
   {
    "duration": 54,
    "start_time": "2021-07-24T17:29:55.259Z"
   },
   {
    "duration": 8,
    "start_time": "2021-07-24T17:29:55.964Z"
   },
   {
    "duration": 22,
    "start_time": "2021-07-24T17:29:56.490Z"
   },
   {
    "duration": 8,
    "start_time": "2021-07-24T17:29:57.176Z"
   },
   {
    "duration": 8,
    "start_time": "2021-07-24T17:29:57.674Z"
   },
   {
    "duration": 21,
    "start_time": "2021-07-24T17:29:58.394Z"
   },
   {
    "duration": 7,
    "start_time": "2021-07-24T17:30:03.088Z"
   },
   {
    "duration": 12,
    "start_time": "2021-07-24T17:30:05.863Z"
   },
   {
    "duration": 8,
    "start_time": "2021-07-24T17:30:06.519Z"
   },
   {
    "duration": 32,
    "start_time": "2021-07-24T17:30:10.636Z"
   },
   {
    "duration": 15,
    "start_time": "2021-07-24T17:30:13.172Z"
   },
   {
    "duration": 34,
    "start_time": "2021-07-24T17:30:13.472Z"
   },
   {
    "duration": 6,
    "start_time": "2021-07-24T17:30:14.396Z"
   },
   {
    "duration": 6,
    "start_time": "2021-07-24T17:30:15.245Z"
   },
   {
    "duration": 95,
    "start_time": "2021-07-24T17:30:15.628Z"
   },
   {
    "duration": 39,
    "start_time": "2021-07-24T17:30:17.191Z"
   },
   {
    "duration": 7,
    "start_time": "2021-07-24T17:30:18.112Z"
   },
   {
    "duration": 25,
    "start_time": "2021-07-24T17:30:19.504Z"
   },
   {
    "duration": 89,
    "start_time": "2021-07-24T17:30:20.247Z"
   },
   {
    "duration": 8,
    "start_time": "2021-07-24T17:30:21.563Z"
   },
   {
    "duration": 5,
    "start_time": "2021-07-24T17:30:24.429Z"
   },
   {
    "duration": 7,
    "start_time": "2021-07-24T17:30:24.874Z"
   },
   {
    "duration": 50,
    "start_time": "2021-07-24T17:30:26.868Z"
   },
   {
    "duration": 19,
    "start_time": "2021-07-24T17:30:31.904Z"
   },
   {
    "duration": 567,
    "start_time": "2021-07-24T17:30:34.146Z"
   },
   {
    "duration": 394,
    "start_time": "2021-07-24T17:30:38.155Z"
   },
   {
    "duration": 492,
    "start_time": "2021-07-24T17:32:02.917Z"
   },
   {
    "duration": 504,
    "start_time": "2021-07-24T17:32:08.991Z"
   },
   {
    "duration": 429,
    "start_time": "2021-07-24T17:32:17.420Z"
   },
   {
    "duration": 550,
    "start_time": "2021-07-24T17:32:24.442Z"
   },
   {
    "duration": 380,
    "start_time": "2021-07-24T17:32:30.207Z"
   },
   {
    "duration": 410,
    "start_time": "2021-07-24T17:32:37.131Z"
   },
   {
    "duration": 416,
    "start_time": "2021-07-24T17:35:03.038Z"
   },
   {
    "duration": 281,
    "start_time": "2021-07-24T17:35:18.721Z"
   },
   {
    "duration": 298,
    "start_time": "2021-07-24T17:35:23.659Z"
   },
   {
    "duration": 283,
    "start_time": "2021-07-24T17:35:29.376Z"
   },
   {
    "duration": 371,
    "start_time": "2021-07-24T17:35:33.976Z"
   },
   {
    "duration": 290,
    "start_time": "2021-07-24T18:43:18.669Z"
   },
   {
    "duration": 12,
    "start_time": "2021-07-24T18:44:51.171Z"
   },
   {
    "duration": 377,
    "start_time": "2021-07-24T18:46:20.546Z"
   },
   {
    "duration": 7,
    "start_time": "2021-07-24T18:46:26.431Z"
   },
   {
    "duration": 11,
    "start_time": "2021-07-24T18:46:38.272Z"
   },
   {
    "duration": 11,
    "start_time": "2021-07-24T18:47:00.891Z"
   },
   {
    "duration": 11,
    "start_time": "2021-07-24T18:47:42.472Z"
   },
   {
    "duration": 12,
    "start_time": "2021-07-24T18:47:53.029Z"
   },
   {
    "duration": 11,
    "start_time": "2021-07-24T18:49:27.079Z"
   },
   {
    "duration": 11,
    "start_time": "2021-07-24T18:50:18.437Z"
   },
   {
    "duration": 14,
    "start_time": "2021-07-24T18:50:28.362Z"
   },
   {
    "duration": 310,
    "start_time": "2021-07-24T18:52:04.688Z"
   },
   {
    "duration": 297,
    "start_time": "2021-07-24T18:52:11.531Z"
   },
   {
    "duration": 302,
    "start_time": "2021-07-24T18:52:16.729Z"
   },
   {
    "duration": 12,
    "start_time": "2021-07-24T18:52:32.469Z"
   },
   {
    "duration": 58,
    "start_time": "2021-07-24T19:06:25.691Z"
   },
   {
    "duration": 15,
    "start_time": "2021-07-24T19:16:12.739Z"
   },
   {
    "duration": 17,
    "start_time": "2021-07-24T19:18:27.755Z"
   },
   {
    "duration": 4,
    "start_time": "2021-07-24T19:20:42.832Z"
   },
   {
    "duration": 5,
    "start_time": "2021-07-24T19:21:27.852Z"
   },
   {
    "duration": 5,
    "start_time": "2021-07-24T19:21:35.613Z"
   },
   {
    "duration": 8,
    "start_time": "2021-07-24T19:22:24.740Z"
   },
   {
    "duration": 86,
    "start_time": "2021-07-24T19:22:42.916Z"
   },
   {
    "duration": 9,
    "start_time": "2021-07-24T19:22:46.664Z"
   },
   {
    "duration": 8,
    "start_time": "2021-07-24T19:22:52.299Z"
   },
   {
    "duration": 8,
    "start_time": "2021-07-24T19:22:57.498Z"
   },
   {
    "duration": 9,
    "start_time": "2021-07-24T19:23:10.632Z"
   },
   {
    "duration": 10,
    "start_time": "2021-07-24T19:30:11.760Z"
   },
   {
    "duration": 14,
    "start_time": "2021-07-24T19:30:53.774Z"
   },
   {
    "duration": 19,
    "start_time": "2021-07-24T19:31:04.300Z"
   },
   {
    "duration": 31,
    "start_time": "2021-07-24T19:31:48.718Z"
   },
   {
    "duration": -1220,
    "start_time": "2021-07-24T19:35:29.602Z"
   },
   {
    "duration": 31,
    "start_time": "2021-07-24T19:35:32.131Z"
   },
   {
    "duration": 34,
    "start_time": "2021-07-24T19:36:00.687Z"
   },
   {
    "duration": 44,
    "start_time": "2021-07-24T19:36:11.309Z"
   },
   {
    "duration": 48,
    "start_time": "2021-07-24T19:36:35.550Z"
   },
   {
    "duration": 251,
    "start_time": "2021-07-24T19:37:36.475Z"
   },
   {
    "duration": 321,
    "start_time": "2021-07-24T19:37:53.275Z"
   },
   {
    "duration": 30,
    "start_time": "2021-07-24T19:38:10.104Z"
   },
   {
    "duration": 15,
    "start_time": "2021-07-24T19:38:27.800Z"
   },
   {
    "duration": 8,
    "start_time": "2021-07-24T19:38:42.961Z"
   },
   {
    "duration": 17,
    "start_time": "2021-07-24T19:38:46.142Z"
   },
   {
    "duration": 33,
    "start_time": "2021-07-24T19:38:52.194Z"
   },
   {
    "duration": 34,
    "start_time": "2021-07-24T19:38:59.109Z"
   },
   {
    "duration": 30,
    "start_time": "2021-07-24T19:39:37.859Z"
   },
   {
    "duration": 4,
    "start_time": "2021-07-24T19:40:01.947Z"
   },
   {
    "duration": 116,
    "start_time": "2021-07-24T19:40:02.351Z"
   },
   {
    "duration": 19,
    "start_time": "2021-07-24T19:40:02.743Z"
   },
   {
    "duration": 25,
    "start_time": "2021-07-24T19:40:03.047Z"
   },
   {
    "duration": 5,
    "start_time": "2021-07-24T19:40:03.559Z"
   },
   {
    "duration": 24,
    "start_time": "2021-07-24T19:40:03.804Z"
   },
   {
    "duration": 25,
    "start_time": "2021-07-24T19:40:04.827Z"
   },
   {
    "duration": 54,
    "start_time": "2021-07-24T19:40:05.171Z"
   },
   {
    "duration": 8,
    "start_time": "2021-07-24T19:40:05.507Z"
   },
   {
    "duration": 21,
    "start_time": "2021-07-24T19:40:05.672Z"
   },
   {
    "duration": 6,
    "start_time": "2021-07-24T19:40:05.824Z"
   },
   {
    "duration": 8,
    "start_time": "2021-07-24T19:40:05.977Z"
   },
   {
    "duration": 21,
    "start_time": "2021-07-24T19:40:06.135Z"
   },
   {
    "duration": 7,
    "start_time": "2021-07-24T19:40:06.901Z"
   },
   {
    "duration": 10,
    "start_time": "2021-07-24T19:40:07.218Z"
   },
   {
    "duration": 6,
    "start_time": "2021-07-24T19:40:07.371Z"
   },
   {
    "duration": 29,
    "start_time": "2021-07-24T19:40:08.213Z"
   },
   {
    "duration": 14,
    "start_time": "2021-07-24T19:40:08.568Z"
   },
   {
    "duration": 32,
    "start_time": "2021-07-24T19:40:08.739Z"
   },
   {
    "duration": 5,
    "start_time": "2021-07-24T19:40:09.097Z"
   },
   {
    "duration": 6,
    "start_time": "2021-07-24T19:40:09.953Z"
   },
   {
    "duration": 96,
    "start_time": "2021-07-24T19:40:10.472Z"
   },
   {
    "duration": 37,
    "start_time": "2021-07-24T19:40:11.688Z"
   },
   {
    "duration": 6,
    "start_time": "2021-07-24T19:40:12.075Z"
   },
   {
    "duration": 23,
    "start_time": "2021-07-24T19:40:12.755Z"
   },
   {
    "duration": 82,
    "start_time": "2021-07-24T19:40:13.178Z"
   },
   {
    "duration": 8,
    "start_time": "2021-07-24T19:40:13.478Z"
   },
   {
    "duration": 6,
    "start_time": "2021-07-24T19:40:13.855Z"
   },
   {
    "duration": 7,
    "start_time": "2021-07-24T19:40:14.044Z"
   },
   {
    "duration": 53,
    "start_time": "2021-07-24T19:40:14.229Z"
   },
   {
    "duration": 35,
    "start_time": "2021-07-24T19:40:15.386Z"
   },
   {
    "duration": 564,
    "start_time": "2021-07-24T19:40:15.953Z"
   },
   {
    "duration": 11,
    "start_time": "2021-07-24T19:40:16.519Z"
   },
   {
    "duration": 397,
    "start_time": "2021-07-24T19:40:16.706Z"
   },
   {
    "duration": 11,
    "start_time": "2021-07-24T19:40:17.105Z"
   },
   {
    "duration": 416,
    "start_time": "2021-07-24T19:40:17.498Z"
   },
   {
    "duration": 12,
    "start_time": "2021-07-24T19:40:17.916Z"
   },
   {
    "duration": 290,
    "start_time": "2021-07-24T19:40:18.644Z"
   },
   {
    "duration": 20,
    "start_time": "2021-07-24T19:40:18.937Z"
   },
   {
    "duration": 300,
    "start_time": "2021-07-24T19:40:20.140Z"
   },
   {
    "duration": 12,
    "start_time": "2021-07-24T19:40:20.828Z"
   },
   {
    "duration": 40,
    "start_time": "2021-07-24T19:40:27.574Z"
   },
   {
    "duration": 17,
    "start_time": "2021-07-24T19:40:31.283Z"
   },
   {
    "duration": 8,
    "start_time": "2021-07-24T19:40:35.753Z"
   },
   {
    "duration": 7,
    "start_time": "2021-07-24T19:40:52.420Z"
   },
   {
    "duration": 29,
    "start_time": "2021-07-24T19:41:23.015Z"
   },
   {
    "duration": 23,
    "start_time": "2021-07-24T19:41:30.196Z"
   },
   {
    "duration": 14,
    "start_time": "2021-07-24T19:47:07.819Z"
   },
   {
    "duration": 107,
    "start_time": "2021-07-24T19:48:33.190Z"
   },
   {
    "duration": 15,
    "start_time": "2021-07-24T19:48:40.433Z"
   },
   {
    "duration": 6299,
    "start_time": "2021-07-24T19:48:45.701Z"
   },
   {
    "duration": 16,
    "start_time": "2021-07-24T19:49:35.158Z"
   },
   {
    "duration": 15,
    "start_time": "2021-07-24T19:49:56.242Z"
   },
   {
    "duration": 15,
    "start_time": "2021-07-24T19:50:10.157Z"
   },
   {
    "duration": 23,
    "start_time": "2021-07-24T19:53:24.445Z"
   },
   {
    "duration": 464,
    "start_time": "2021-07-24T19:55:33.303Z"
   },
   {
    "duration": 4,
    "start_time": "2021-07-24T20:00:43.340Z"
   },
   {
    "duration": 38,
    "start_time": "2021-07-24T20:00:46.394Z"
   },
   {
    "duration": 3,
    "start_time": "2021-07-24T20:00:52.800Z"
   },
   {
    "duration": 19,
    "start_time": "2021-07-24T20:02:13.664Z"
   },
   {
    "duration": 19,
    "start_time": "2021-07-24T20:07:12.939Z"
   },
   {
    "duration": 18,
    "start_time": "2021-07-24T20:07:42.894Z"
   },
   {
    "duration": 30,
    "start_time": "2021-07-24T20:07:59.877Z"
   },
   {
    "duration": 9,
    "start_time": "2021-07-24T20:08:56.286Z"
   },
   {
    "duration": 48,
    "start_time": "2021-07-24T20:12:00.015Z"
   },
   {
    "duration": 47,
    "start_time": "2021-07-24T20:12:25.775Z"
   },
   {
    "duration": 5,
    "start_time": "2021-07-24T20:14:11.128Z"
   },
   {
    "duration": 4,
    "start_time": "2021-07-24T20:14:33.368Z"
   },
   {
    "duration": 47,
    "start_time": "2021-07-24T20:14:35.535Z"
   },
   {
    "duration": 49,
    "start_time": "2021-07-24T20:14:54.715Z"
   },
   {
    "duration": 19,
    "start_time": "2021-07-24T20:16:04.713Z"
   },
   {
    "duration": 56,
    "start_time": "2021-07-24T20:16:08.222Z"
   },
   {
    "duration": 22,
    "start_time": "2021-07-24T20:16:36.890Z"
   },
   {
    "duration": 4,
    "start_time": "2021-07-24T20:17:28.915Z"
   },
   {
    "duration": 117,
    "start_time": "2021-07-24T20:17:29.587Z"
   },
   {
    "duration": 20,
    "start_time": "2021-07-24T20:17:29.803Z"
   },
   {
    "duration": 25,
    "start_time": "2021-07-24T20:17:29.966Z"
   },
   {
    "duration": 6,
    "start_time": "2021-07-24T20:17:30.167Z"
   },
   {
    "duration": 25,
    "start_time": "2021-07-24T20:17:30.401Z"
   },
   {
    "duration": 25,
    "start_time": "2021-07-24T20:17:31.273Z"
   },
   {
    "duration": 55,
    "start_time": "2021-07-24T20:17:31.602Z"
   },
   {
    "duration": 11,
    "start_time": "2021-07-24T20:17:31.779Z"
   },
   {
    "duration": 17,
    "start_time": "2021-07-24T20:17:31.966Z"
   },
   {
    "duration": 7,
    "start_time": "2021-07-24T20:17:32.144Z"
   },
   {
    "duration": 8,
    "start_time": "2021-07-24T20:17:32.367Z"
   },
   {
    "duration": 22,
    "start_time": "2021-07-24T20:17:32.601Z"
   },
   {
    "duration": 7,
    "start_time": "2021-07-24T20:17:33.949Z"
   },
   {
    "duration": 10,
    "start_time": "2021-07-24T20:17:35.057Z"
   },
   {
    "duration": 8,
    "start_time": "2021-07-24T20:17:35.244Z"
   },
   {
    "duration": 28,
    "start_time": "2021-07-24T20:17:36.215Z"
   },
   {
    "duration": 15,
    "start_time": "2021-07-24T20:17:36.632Z"
   },
   {
    "duration": 32,
    "start_time": "2021-07-24T20:17:36.818Z"
   },
   {
    "duration": 6,
    "start_time": "2021-07-24T20:17:37.198Z"
   },
   {
    "duration": 6,
    "start_time": "2021-07-24T20:17:37.635Z"
   },
   {
    "duration": 84,
    "start_time": "2021-07-24T20:17:37.829Z"
   },
   {
    "duration": 40,
    "start_time": "2021-07-24T20:17:38.744Z"
   },
   {
    "duration": 7,
    "start_time": "2021-07-24T20:17:39.020Z"
   },
   {
    "duration": 22,
    "start_time": "2021-07-24T20:17:39.471Z"
   },
   {
    "duration": 81,
    "start_time": "2021-07-24T20:17:39.703Z"
   },
   {
    "duration": 7,
    "start_time": "2021-07-24T20:17:39.918Z"
   },
   {
    "duration": 6,
    "start_time": "2021-07-24T20:17:40.399Z"
   },
   {
    "duration": 7,
    "start_time": "2021-07-24T20:17:40.638Z"
   },
   {
    "duration": 49,
    "start_time": "2021-07-24T20:17:40.880Z"
   },
   {
    "duration": 23,
    "start_time": "2021-07-24T20:17:42.619Z"
   },
   {
    "duration": 572,
    "start_time": "2021-07-24T20:17:43.430Z"
   },
   {
    "duration": 11,
    "start_time": "2021-07-24T20:17:44.005Z"
   },
   {
    "duration": 394,
    "start_time": "2021-07-24T20:17:44.339Z"
   },
   {
    "duration": 19,
    "start_time": "2021-07-24T20:17:44.736Z"
   },
   {
    "duration": 425,
    "start_time": "2021-07-24T20:17:45.290Z"
   },
   {
    "duration": 12,
    "start_time": "2021-07-24T20:17:45.717Z"
   },
   {
    "duration": 305,
    "start_time": "2021-07-24T20:17:46.181Z"
   },
   {
    "duration": 11,
    "start_time": "2021-07-24T20:17:46.860Z"
   },
   {
    "duration": 384,
    "start_time": "2021-07-24T20:17:49.873Z"
   },
   {
    "duration": 12,
    "start_time": "2021-07-24T20:17:50.560Z"
   },
   {
    "duration": 42,
    "start_time": "2021-07-24T20:17:54.011Z"
   },
   {
    "duration": 17,
    "start_time": "2021-07-24T20:18:00.219Z"
   },
   {
    "duration": 9,
    "start_time": "2021-07-24T20:18:02.878Z"
   },
   {
    "duration": 5,
    "start_time": "2021-07-24T20:18:05.621Z"
   },
   {
    "duration": 48,
    "start_time": "2021-07-24T20:18:07.391Z"
   },
   {
    "duration": 21,
    "start_time": "2021-07-24T20:18:16.688Z"
   },
   {
    "duration": 22,
    "start_time": "2021-07-24T20:18:22.690Z"
   },
   {
    "duration": 673,
    "start_time": "2021-07-24T20:20:54.186Z"
   },
   {
    "duration": 12,
    "start_time": "2021-07-24T20:21:10.367Z"
   },
   {
    "duration": 577,
    "start_time": "2021-07-24T20:21:17.055Z"
   },
   {
    "duration": 376,
    "start_time": "2021-07-24T20:21:25.890Z"
   },
   {
    "duration": 1210,
    "start_time": "2021-07-24T20:29:10.887Z"
   },
   {
    "duration": 1246,
    "start_time": "2021-07-24T20:29:16.712Z"
   },
   {
    "duration": 32,
    "start_time": "2021-07-24T20:29:38.159Z"
   },
   {
    "duration": 30,
    "start_time": "2021-07-24T20:29:43.693Z"
   },
   {
    "duration": 1290,
    "start_time": "2021-07-24T20:30:03.174Z"
   },
   {
    "duration": 32,
    "start_time": "2021-07-24T20:31:30.544Z"
   },
   {
    "duration": 315,
    "start_time": "2021-07-24T20:47:55.853Z"
   },
   {
    "duration": 359,
    "start_time": "2021-07-24T20:47:59.239Z"
   },
   {
    "duration": 303,
    "start_time": "2021-07-24T20:48:40.061Z"
   },
   {
    "duration": 13,
    "start_time": "2021-07-24T20:49:17.261Z"
   },
   {
    "duration": 12,
    "start_time": "2021-07-24T20:49:56.396Z"
   },
   {
    "duration": 8,
    "start_time": "2021-07-24T20:53:41.177Z"
   },
   {
    "duration": 7,
    "start_time": "2021-07-24T20:53:50.597Z"
   },
   {
    "duration": 42,
    "start_time": "2021-07-24T21:02:14.612Z"
   },
   {
    "duration": 307,
    "start_time": "2021-07-24T21:02:41.246Z"
   },
   {
    "duration": 14,
    "start_time": "2021-07-24T21:02:47.342Z"
   },
   {
    "duration": 12,
    "start_time": "2021-07-24T21:03:04.289Z"
   },
   {
    "duration": 13,
    "start_time": "2021-07-24T21:04:12.798Z"
   },
   {
    "duration": 39,
    "start_time": "2021-07-24T21:04:22.958Z"
   },
   {
    "duration": 8,
    "start_time": "2021-07-24T21:04:56.405Z"
   },
   {
    "duration": 39,
    "start_time": "2021-07-24T21:05:08.341Z"
   },
   {
    "duration": 12,
    "start_time": "2021-07-24T21:05:44.527Z"
   },
   {
    "duration": 11,
    "start_time": "2021-07-24T21:05:55.902Z"
   },
   {
    "duration": 11,
    "start_time": "2021-07-24T21:06:06.459Z"
   },
   {
    "duration": 9,
    "start_time": "2021-07-24T21:06:14.066Z"
   },
   {
    "duration": 11,
    "start_time": "2021-07-24T21:06:18.592Z"
   },
   {
    "duration": 13,
    "start_time": "2021-07-24T21:07:28.067Z"
   },
   {
    "duration": 265,
    "start_time": "2021-07-24T21:07:41.685Z"
   },
   {
    "duration": 14,
    "start_time": "2021-07-24T21:07:47.534Z"
   },
   {
    "duration": 41,
    "start_time": "2021-07-24T21:09:03.936Z"
   },
   {
    "duration": 41,
    "start_time": "2021-07-24T21:09:36.218Z"
   },
   {
    "duration": 282,
    "start_time": "2021-07-24T21:23:07.542Z"
   },
   {
    "duration": 47,
    "start_time": "2021-07-24T21:23:15.783Z"
   },
   {
    "duration": 43,
    "start_time": "2021-07-24T21:23:28.647Z"
   },
   {
    "duration": 45,
    "start_time": "2021-07-24T21:23:40.942Z"
   },
   {
    "duration": 45,
    "start_time": "2021-07-24T21:24:27.869Z"
   },
   {
    "duration": 48,
    "start_time": "2021-07-24T21:24:39.461Z"
   },
   {
    "duration": 42,
    "start_time": "2021-07-24T21:24:52.865Z"
   },
   {
    "duration": 49,
    "start_time": "2021-07-24T21:25:00.610Z"
   },
   {
    "duration": 48,
    "start_time": "2021-07-24T21:25:43.946Z"
   },
   {
    "duration": 33,
    "start_time": "2021-07-24T21:26:58.187Z"
   },
   {
    "duration": 266,
    "start_time": "2021-07-24T21:28:56.588Z"
   },
   {
    "duration": 290,
    "start_time": "2021-07-24T21:29:03.967Z"
   },
   {
    "duration": 297,
    "start_time": "2021-07-24T21:29:16.129Z"
   },
   {
    "duration": 269,
    "start_time": "2021-07-24T21:29:21.734Z"
   },
   {
    "duration": 293,
    "start_time": "2021-07-24T21:29:25.499Z"
   },
   {
    "duration": 524,
    "start_time": "2021-07-24T21:29:31.158Z"
   },
   {
    "duration": 539,
    "start_time": "2021-07-24T21:29:43.285Z"
   },
   {
    "duration": 549,
    "start_time": "2021-07-24T21:30:02.824Z"
   },
   {
    "duration": 273,
    "start_time": "2021-07-24T21:32:14.106Z"
   },
   {
    "duration": 261,
    "start_time": "2021-07-24T21:32:25.293Z"
   },
   {
    "duration": 49,
    "start_time": "2021-07-24T21:33:38.674Z"
   },
   {
    "duration": 32,
    "start_time": "2021-07-24T21:33:45.628Z"
   },
   {
    "duration": 253,
    "start_time": "2021-07-24T21:33:56.909Z"
   },
   {
    "duration": 9,
    "start_time": "2021-07-24T21:35:48.441Z"
   },
   {
    "duration": 9,
    "start_time": "2021-07-24T21:36:12.254Z"
   },
   {
    "duration": 20,
    "start_time": "2021-07-24T21:36:20.131Z"
   },
   {
    "duration": 269,
    "start_time": "2021-07-24T21:36:51.272Z"
   },
   {
    "duration": 254,
    "start_time": "2021-07-24T21:38:25.805Z"
   },
   {
    "duration": 250,
    "start_time": "2021-07-24T21:38:32.297Z"
   },
   {
    "duration": 336,
    "start_time": "2021-07-24T21:39:25.644Z"
   },
   {
    "duration": 296,
    "start_time": "2021-07-24T21:40:41.859Z"
   },
   {
    "duration": 265,
    "start_time": "2021-07-24T21:40:45.503Z"
   },
   {
    "duration": 16,
    "start_time": "2021-07-24T21:42:02.325Z"
   },
   {
    "duration": 383,
    "start_time": "2021-07-24T21:42:57.661Z"
   },
   {
    "duration": 357,
    "start_time": "2021-07-24T21:46:09.330Z"
   },
   {
    "duration": 1343,
    "start_time": "2021-07-24T22:11:37.878Z"
   },
   {
    "duration": 115,
    "start_time": "2021-07-24T22:11:39.224Z"
   },
   {
    "duration": 27,
    "start_time": "2021-07-24T22:11:39.342Z"
   },
   {
    "duration": 29,
    "start_time": "2021-07-24T22:11:39.372Z"
   },
   {
    "duration": 6,
    "start_time": "2021-07-24T22:11:39.403Z"
   },
   {
    "duration": 25,
    "start_time": "2021-07-24T22:11:39.544Z"
   },
   {
    "duration": 29,
    "start_time": "2021-07-24T22:11:40.905Z"
   },
   {
    "duration": 53,
    "start_time": "2021-07-24T22:11:41.399Z"
   },
   {
    "duration": 7,
    "start_time": "2021-07-24T22:11:41.650Z"
   },
   {
    "duration": 23,
    "start_time": "2021-07-24T22:11:41.887Z"
   },
   {
    "duration": 6,
    "start_time": "2021-07-24T22:11:42.138Z"
   },
   {
    "duration": 8,
    "start_time": "2021-07-24T22:11:42.404Z"
   },
   {
    "duration": 22,
    "start_time": "2021-07-24T22:11:52.957Z"
   },
   {
    "duration": 48,
    "start_time": "2021-07-24T22:11:53.326Z"
   },
   {
    "duration": 7,
    "start_time": "2021-07-24T22:11:53.523Z"
   },
   {
    "duration": 23,
    "start_time": "2021-07-24T22:11:53.707Z"
   },
   {
    "duration": 6,
    "start_time": "2021-07-24T22:11:53.910Z"
   },
   {
    "duration": 8,
    "start_time": "2021-07-24T22:11:54.537Z"
   },
   {
    "duration": 21,
    "start_time": "2021-07-24T22:11:54.966Z"
   },
   {
    "duration": 4,
    "start_time": "2021-07-24T22:12:00.193Z"
   },
   {
    "duration": 124,
    "start_time": "2021-07-24T22:12:00.665Z"
   },
   {
    "duration": 20,
    "start_time": "2021-07-24T22:12:00.881Z"
   },
   {
    "duration": 27,
    "start_time": "2021-07-24T22:12:01.315Z"
   },
   {
    "duration": 6,
    "start_time": "2021-07-24T22:12:01.578Z"
   },
   {
    "duration": 26,
    "start_time": "2021-07-24T22:12:01.848Z"
   },
   {
    "duration": 26,
    "start_time": "2021-07-24T22:12:03.045Z"
   },
   {
    "duration": 52,
    "start_time": "2021-07-24T22:12:03.509Z"
   },
   {
    "duration": 8,
    "start_time": "2021-07-24T22:12:03.743Z"
   },
   {
    "duration": 17,
    "start_time": "2021-07-24T22:12:04.001Z"
   },
   {
    "duration": 9,
    "start_time": "2021-07-24T22:12:04.243Z"
   },
   {
    "duration": 14,
    "start_time": "2021-07-24T22:12:04.503Z"
   },
   {
    "duration": 33,
    "start_time": "2021-07-24T22:12:04.747Z"
   },
   {
    "duration": 7,
    "start_time": "2021-07-24T22:12:05.945Z"
   },
   {
    "duration": 10,
    "start_time": "2021-07-24T22:12:06.439Z"
   },
   {
    "duration": 7,
    "start_time": "2021-07-24T22:12:06.682Z"
   },
   {
    "duration": 29,
    "start_time": "2021-07-24T22:12:07.874Z"
   },
   {
    "duration": 16,
    "start_time": "2021-07-24T22:12:08.292Z"
   },
   {
    "duration": 35,
    "start_time": "2021-07-24T22:12:08.519Z"
   },
   {
    "duration": 7,
    "start_time": "2021-07-24T22:12:08.975Z"
   },
   {
    "duration": 6,
    "start_time": "2021-07-24T22:12:09.410Z"
   },
   {
    "duration": 90,
    "start_time": "2021-07-24T22:12:09.638Z"
   },
   {
    "duration": 37,
    "start_time": "2021-07-24T22:12:10.097Z"
   },
   {
    "duration": 6,
    "start_time": "2021-07-24T22:12:10.315Z"
   },
   {
    "duration": 22,
    "start_time": "2021-07-24T22:12:10.773Z"
   },
   {
    "duration": 83,
    "start_time": "2021-07-24T22:12:11.000Z"
   },
   {
    "duration": 8,
    "start_time": "2021-07-24T22:12:11.226Z"
   },
   {
    "duration": 6,
    "start_time": "2021-07-24T22:12:11.694Z"
   },
   {
    "duration": 7,
    "start_time": "2021-07-24T22:12:11.930Z"
   },
   {
    "duration": 53,
    "start_time": "2021-07-24T22:12:12.174Z"
   },
   {
    "duration": 19,
    "start_time": "2021-07-24T22:12:13.411Z"
   },
   {
    "duration": 559,
    "start_time": "2021-07-24T22:12:14.085Z"
   },
   {
    "duration": 13,
    "start_time": "2021-07-24T22:12:14.653Z"
   },
   {
    "duration": 384,
    "start_time": "2021-07-24T22:12:14.731Z"
   },
   {
    "duration": 11,
    "start_time": "2021-07-24T22:12:15.117Z"
   },
   {
    "duration": 401,
    "start_time": "2021-07-24T22:12:15.521Z"
   },
   {
    "duration": 11,
    "start_time": "2021-07-24T22:12:15.925Z"
   },
   {
    "duration": 292,
    "start_time": "2021-07-24T22:12:16.667Z"
   },
   {
    "duration": 11,
    "start_time": "2021-07-24T22:12:16.962Z"
   },
   {
    "duration": 299,
    "start_time": "2021-07-24T22:12:17.592Z"
   },
   {
    "duration": 11,
    "start_time": "2021-07-24T22:12:17.893Z"
   },
   {
    "duration": 41,
    "start_time": "2021-07-24T22:12:18.490Z"
   },
   {
    "duration": 24,
    "start_time": "2021-07-24T22:12:19.431Z"
   },
   {
    "duration": 8,
    "start_time": "2021-07-24T22:12:19.949Z"
   },
   {
    "duration": 5,
    "start_time": "2021-07-24T22:12:20.474Z"
   },
   {
    "duration": 46,
    "start_time": "2021-07-24T22:12:20.987Z"
   },
   {
    "duration": 21,
    "start_time": "2021-07-24T22:12:21.470Z"
   },
   {
    "duration": 1145,
    "start_time": "2021-07-24T22:12:22.215Z"
   },
   {
    "duration": 31,
    "start_time": "2021-07-24T22:12:23.362Z"
   },
   {
    "duration": 397,
    "start_time": "2021-07-24T22:12:24.595Z"
   },
   {
    "duration": 10,
    "start_time": "2021-07-24T22:12:24.995Z"
   },
   {
    "duration": 7,
    "start_time": "2021-07-24T22:12:25.242Z"
   },
   {
    "duration": 39,
    "start_time": "2021-07-24T22:12:26.241Z"
   },
   {
    "duration": 37,
    "start_time": "2021-07-24T22:12:26.663Z"
   },
   {
    "duration": 524,
    "start_time": "2021-07-24T22:12:27.188Z"
   },
   {
    "duration": 47,
    "start_time": "2021-07-24T22:12:28.985Z"
   },
   {
    "duration": 32,
    "start_time": "2021-07-24T22:12:29.530Z"
   },
   {
    "duration": 17,
    "start_time": "2021-07-24T22:12:30.338Z"
   },
   {
    "duration": 89,
    "start_time": "2021-07-24T22:12:31.140Z"
   },
   {
    "duration": 386,
    "start_time": "2021-07-24T22:12:40.844Z"
   },
   {
    "duration": 379,
    "start_time": "2021-07-24T22:13:54.549Z"
   },
   {
    "duration": 398,
    "start_time": "2021-07-24T22:14:12.947Z"
   },
   {
    "duration": 3,
    "start_time": "2021-07-24T22:16:41.290Z"
   },
   {
    "duration": 327,
    "start_time": "2021-07-24T22:18:47.130Z"
   },
   {
    "duration": 426,
    "start_time": "2021-07-24T22:20:23.082Z"
   },
   {
    "duration": 365,
    "start_time": "2021-07-24T22:20:27.752Z"
   },
   {
    "duration": 397,
    "start_time": "2021-07-24T22:20:34.757Z"
   },
   {
    "duration": 80,
    "start_time": "2021-07-24T22:21:14.293Z"
   },
   {
    "duration": 379,
    "start_time": "2021-07-24T22:21:22.560Z"
   },
   {
    "duration": 18,
    "start_time": "2021-07-24T22:24:14.172Z"
   },
   {
    "duration": 18,
    "start_time": "2021-07-24T22:24:23.300Z"
   },
   {
    "duration": 383,
    "start_time": "2021-07-24T22:25:30.847Z"
   },
   {
    "duration": 6,
    "start_time": "2021-07-24T22:25:36.908Z"
   },
   {
    "duration": 7,
    "start_time": "2021-07-24T22:25:47.124Z"
   },
   {
    "duration": 6,
    "start_time": "2021-07-24T22:25:52.451Z"
   },
   {
    "duration": 7,
    "start_time": "2021-07-24T22:26:32.174Z"
   },
   {
    "duration": 654,
    "start_time": "2021-07-24T22:28:24.837Z"
   },
   {
    "duration": 362,
    "start_time": "2021-07-24T22:28:41.952Z"
   },
   {
    "duration": 33,
    "start_time": "2021-07-24T22:28:48.406Z"
   },
   {
    "duration": 406,
    "start_time": "2021-07-24T22:33:22.888Z"
   },
   {
    "duration": 391,
    "start_time": "2021-07-24T22:34:09.373Z"
   },
   {
    "duration": 399,
    "start_time": "2021-07-24T22:34:13.639Z"
   },
   {
    "duration": 43,
    "start_time": "2021-07-24T22:36:08.164Z"
   },
   {
    "duration": 16,
    "start_time": "2021-07-24T22:36:33.620Z"
   },
   {
    "duration": 7,
    "start_time": "2021-07-24T22:36:50.277Z"
   },
   {
    "duration": 395,
    "start_time": "2021-07-24T22:38:04.416Z"
   },
   {
    "duration": 1374,
    "start_time": "2021-07-25T01:54:56.711Z"
   },
   {
    "duration": 114,
    "start_time": "2021-07-25T01:54:58.088Z"
   },
   {
    "duration": 26,
    "start_time": "2021-07-25T01:54:58.205Z"
   },
   {
    "duration": 56,
    "start_time": "2021-07-25T01:54:58.235Z"
   },
   {
    "duration": 6,
    "start_time": "2021-07-25T01:54:58.294Z"
   },
   {
    "duration": 26,
    "start_time": "2021-07-25T01:54:58.304Z"
   },
   {
    "duration": 64,
    "start_time": "2021-07-25T01:54:58.333Z"
   },
   {
    "duration": 61,
    "start_time": "2021-07-25T01:54:58.404Z"
   },
   {
    "duration": 7,
    "start_time": "2021-07-25T01:54:58.487Z"
   },
   {
    "duration": 28,
    "start_time": "2021-07-25T01:54:58.496Z"
   },
   {
    "duration": 6,
    "start_time": "2021-07-25T01:54:58.526Z"
   },
   {
    "duration": 10,
    "start_time": "2021-07-25T01:54:58.535Z"
   },
   {
    "duration": 47,
    "start_time": "2021-07-25T01:54:58.547Z"
   },
   {
    "duration": 14,
    "start_time": "2021-07-25T01:54:58.596Z"
   },
   {
    "duration": 14,
    "start_time": "2021-07-25T01:54:58.612Z"
   },
   {
    "duration": 11,
    "start_time": "2021-07-25T01:54:58.628Z"
   },
   {
    "duration": 50,
    "start_time": "2021-07-25T01:54:58.641Z"
   },
   {
    "duration": 15,
    "start_time": "2021-07-25T01:54:58.694Z"
   },
   {
    "duration": 33,
    "start_time": "2021-07-25T01:54:58.711Z"
   },
   {
    "duration": 5,
    "start_time": "2021-07-25T01:54:58.747Z"
   },
   {
    "duration": 33,
    "start_time": "2021-07-25T01:54:58.755Z"
   },
   {
    "duration": 101,
    "start_time": "2021-07-25T01:54:58.791Z"
   },
   {
    "duration": 37,
    "start_time": "2021-07-25T01:54:58.898Z"
   },
   {
    "duration": 7,
    "start_time": "2021-07-25T01:54:58.938Z"
   },
   {
    "duration": 49,
    "start_time": "2021-07-25T01:54:58.948Z"
   },
   {
    "duration": 92,
    "start_time": "2021-07-25T01:54:59.000Z"
   },
   {
    "duration": 7,
    "start_time": "2021-07-25T01:54:59.095Z"
   },
   {
    "duration": 13,
    "start_time": "2021-07-25T01:54:59.105Z"
   },
   {
    "duration": 14,
    "start_time": "2021-07-25T01:54:59.121Z"
   },
   {
    "duration": 75,
    "start_time": "2021-07-25T01:54:59.137Z"
   },
   {
    "duration": 18,
    "start_time": "2021-07-25T01:54:59.214Z"
   },
   {
    "duration": 582,
    "start_time": "2021-07-25T01:54:59.235Z"
   },
   {
    "duration": 14,
    "start_time": "2021-07-25T01:54:59.819Z"
   },
   {
    "duration": 413,
    "start_time": "2021-07-25T01:54:59.836Z"
   },
   {
    "duration": 32,
    "start_time": "2021-07-25T01:55:00.253Z"
   },
   {
    "duration": 404,
    "start_time": "2021-07-25T01:55:00.287Z"
   },
   {
    "duration": 12,
    "start_time": "2021-07-25T01:55:00.693Z"
   },
   {
    "duration": 302,
    "start_time": "2021-07-25T01:55:00.707Z"
   },
   {
    "duration": 11,
    "start_time": "2021-07-25T01:55:01.012Z"
   },
   {
    "duration": 319,
    "start_time": "2021-07-25T01:55:01.026Z"
   },
   {
    "duration": 11,
    "start_time": "2021-07-25T01:55:01.348Z"
   },
   {
    "duration": 56,
    "start_time": "2021-07-25T01:55:01.362Z"
   },
   {
    "duration": 17,
    "start_time": "2021-07-25T01:55:01.420Z"
   },
   {
    "duration": 7,
    "start_time": "2021-07-25T01:55:01.439Z"
   },
   {
    "duration": 37,
    "start_time": "2021-07-25T01:55:01.449Z"
   },
   {
    "duration": 46,
    "start_time": "2021-07-25T01:55:01.489Z"
   },
   {
    "duration": 49,
    "start_time": "2021-07-25T01:55:01.537Z"
   },
   {
    "duration": 1117,
    "start_time": "2021-07-25T01:55:01.589Z"
   },
   {
    "duration": 29,
    "start_time": "2021-07-25T01:55:02.708Z"
   },
   {
    "duration": 406,
    "start_time": "2021-07-25T01:55:02.739Z"
   },
   {
    "duration": 12,
    "start_time": "2021-07-25T01:55:03.147Z"
   },
   {
    "duration": 26,
    "start_time": "2021-07-25T01:55:03.161Z"
   },
   {
    "duration": 41,
    "start_time": "2021-07-25T01:55:03.189Z"
   },
   {
    "duration": 58,
    "start_time": "2021-07-25T01:55:03.233Z"
   },
   {
    "duration": 527,
    "start_time": "2021-07-25T01:55:03.293Z"
   },
   {
    "duration": 44,
    "start_time": "2021-07-25T01:55:03.822Z"
   },
   {
    "duration": 31,
    "start_time": "2021-07-25T01:55:03.885Z"
   },
   {
    "duration": 16,
    "start_time": "2021-07-25T01:55:03.918Z"
   },
   {
    "duration": 21,
    "start_time": "2021-07-25T01:55:03.937Z"
   },
   {
    "duration": 429,
    "start_time": "2021-07-25T01:55:03.961Z"
   },
   {
    "duration": 401,
    "start_time": "2021-07-25T01:55:04.392Z"
   },
   {
    "duration": 370,
    "start_time": "2021-07-25T01:55:13.301Z"
   },
   {
    "duration": 133,
    "start_time": "2021-07-25T01:57:18.225Z"
   },
   {
    "duration": 7,
    "start_time": "2021-07-25T01:57:21.666Z"
   },
   {
    "duration": 38,
    "start_time": "2021-07-25T01:57:28.355Z"
   },
   {
    "duration": 6,
    "start_time": "2021-07-25T01:58:10.059Z"
   },
   {
    "duration": 6,
    "start_time": "2021-07-25T01:58:46.957Z"
   },
   {
    "duration": 14,
    "start_time": "2021-07-25T02:04:48.393Z"
   },
   {
    "duration": 11,
    "start_time": "2021-07-25T02:11:59.690Z"
   },
   {
    "duration": 13,
    "start_time": "2021-07-25T02:12:10.699Z"
   },
   {
    "duration": 14,
    "start_time": "2021-07-25T02:12:17.384Z"
   },
   {
    "duration": 13,
    "start_time": "2021-07-25T02:12:46.082Z"
   },
   {
    "duration": 540,
    "start_time": "2021-07-25T02:15:17.265Z"
   },
   {
    "duration": 301,
    "start_time": "2021-07-25T02:15:22.796Z"
   },
   {
    "duration": 294,
    "start_time": "2021-07-25T02:15:26.711Z"
   },
   {
    "duration": 287,
    "start_time": "2021-07-25T02:15:51.195Z"
   },
   {
    "duration": 368,
    "start_time": "2021-07-25T02:26:55.692Z"
   },
   {
    "duration": 401,
    "start_time": "2021-07-25T02:27:00.825Z"
   },
   {
    "duration": 411,
    "start_time": "2021-07-25T02:28:33.135Z"
   },
   {
    "duration": 380,
    "start_time": "2021-07-25T02:28:42.378Z"
   },
   {
    "duration": 379,
    "start_time": "2021-07-25T02:28:54.007Z"
   },
   {
    "duration": 405,
    "start_time": "2021-07-25T02:29:03.432Z"
   },
   {
    "duration": 11,
    "start_time": "2021-07-25T02:29:27.020Z"
   },
   {
    "duration": 11,
    "start_time": "2021-07-25T02:30:25.086Z"
   },
   {
    "duration": 11,
    "start_time": "2021-07-25T02:31:11.386Z"
   },
   {
    "duration": 12,
    "start_time": "2021-07-25T02:32:30.001Z"
   },
   {
    "duration": 13,
    "start_time": "2021-07-25T02:32:30.590Z"
   },
   {
    "duration": 16,
    "start_time": "2021-07-25T02:32:35.431Z"
   },
   {
    "duration": 12,
    "start_time": "2021-07-25T02:32:36.469Z"
   },
   {
    "duration": 4,
    "start_time": "2021-07-25T02:34:51.421Z"
   },
   {
    "duration": 372,
    "start_time": "2021-07-25T02:36:12.146Z"
   },
   {
    "duration": 398,
    "start_time": "2021-07-25T02:37:05.874Z"
   },
   {
    "duration": 11,
    "start_time": "2021-07-25T02:38:10.972Z"
   },
   {
    "duration": 44,
    "start_time": "2021-07-25T02:38:29.377Z"
   },
   {
    "duration": 28,
    "start_time": "2021-07-25T02:38:55.556Z"
   },
   {
    "duration": 32,
    "start_time": "2021-07-25T02:39:00.210Z"
   },
   {
    "duration": 819,
    "start_time": "2021-07-25T02:40:52.293Z"
   },
   {
    "duration": 829,
    "start_time": "2021-07-25T02:41:09.264Z"
   },
   {
    "duration": 1417,
    "start_time": "2021-07-25T03:04:11.738Z"
   },
   {
    "duration": 117,
    "start_time": "2021-07-25T03:04:13.158Z"
   },
   {
    "duration": 24,
    "start_time": "2021-07-25T03:04:13.278Z"
   },
   {
    "duration": 26,
    "start_time": "2021-07-25T03:04:13.305Z"
   },
   {
    "duration": 5,
    "start_time": "2021-07-25T03:04:13.334Z"
   },
   {
    "duration": 60,
    "start_time": "2021-07-25T03:04:13.341Z"
   },
   {
    "duration": 25,
    "start_time": "2021-07-25T03:04:13.404Z"
   },
   {
    "duration": 76,
    "start_time": "2021-07-25T03:04:13.433Z"
   },
   {
    "duration": 7,
    "start_time": "2021-07-25T03:04:13.512Z"
   },
   {
    "duration": 22,
    "start_time": "2021-07-25T03:04:13.521Z"
   },
   {
    "duration": 6,
    "start_time": "2021-07-25T03:04:13.545Z"
   },
   {
    "duration": 36,
    "start_time": "2021-07-25T03:04:13.553Z"
   },
   {
    "duration": 25,
    "start_time": "2021-07-25T03:04:13.592Z"
   },
   {
    "duration": 11,
    "start_time": "2021-07-25T03:04:13.619Z"
   },
   {
    "duration": 10,
    "start_time": "2021-07-25T03:04:13.632Z"
   },
   {
    "duration": 13,
    "start_time": "2021-07-25T03:04:13.645Z"
   },
   {
    "duration": 31,
    "start_time": "2021-07-25T03:04:13.686Z"
   },
   {
    "duration": 15,
    "start_time": "2021-07-25T03:04:13.720Z"
   },
   {
    "duration": 57,
    "start_time": "2021-07-25T03:04:13.737Z"
   },
   {
    "duration": 6,
    "start_time": "2021-07-25T03:04:13.796Z"
   },
   {
    "duration": 8,
    "start_time": "2021-07-25T03:04:13.805Z"
   },
   {
    "duration": 122,
    "start_time": "2021-07-25T03:04:13.816Z"
   },
   {
    "duration": 55,
    "start_time": "2021-07-25T03:04:13.944Z"
   },
   {
    "duration": 6,
    "start_time": "2021-07-25T03:04:14.003Z"
   },
   {
    "duration": 38,
    "start_time": "2021-07-25T03:04:14.011Z"
   },
   {
    "duration": 97,
    "start_time": "2021-07-25T03:04:14.052Z"
   },
   {
    "duration": 7,
    "start_time": "2021-07-25T03:04:14.152Z"
   },
   {
    "duration": 25,
    "start_time": "2021-07-25T03:04:14.161Z"
   },
   {
    "duration": 7,
    "start_time": "2021-07-25T03:04:14.189Z"
   },
   {
    "duration": 56,
    "start_time": "2021-07-25T03:04:14.199Z"
   },
   {
    "duration": 42,
    "start_time": "2021-07-25T03:04:14.257Z"
   },
   {
    "duration": 561,
    "start_time": "2021-07-25T03:04:14.301Z"
   },
   {
    "duration": 22,
    "start_time": "2021-07-25T03:04:14.864Z"
   },
   {
    "duration": 397,
    "start_time": "2021-07-25T03:04:14.888Z"
   },
   {
    "duration": 13,
    "start_time": "2021-07-25T03:04:15.288Z"
   },
   {
    "duration": 435,
    "start_time": "2021-07-25T03:04:15.304Z"
   },
   {
    "duration": 12,
    "start_time": "2021-07-25T03:04:15.742Z"
   },
   {
    "duration": 314,
    "start_time": "2021-07-25T03:04:15.756Z"
   },
   {
    "duration": 20,
    "start_time": "2021-07-25T03:04:16.073Z"
   },
   {
    "duration": 313,
    "start_time": "2021-07-25T03:04:16.095Z"
   },
   {
    "duration": 11,
    "start_time": "2021-07-25T03:04:16.411Z"
   },
   {
    "duration": 39,
    "start_time": "2021-07-25T03:04:16.424Z"
   },
   {
    "duration": 18,
    "start_time": "2021-07-25T03:04:16.486Z"
   },
   {
    "duration": 7,
    "start_time": "2021-07-25T03:04:16.506Z"
   },
   {
    "duration": 17,
    "start_time": "2021-07-25T03:04:16.515Z"
   },
   {
    "duration": 72,
    "start_time": "2021-07-25T03:04:16.534Z"
   },
   {
    "duration": 20,
    "start_time": "2021-07-25T03:04:16.608Z"
   },
   {
    "duration": 1190,
    "start_time": "2021-07-25T03:04:16.631Z"
   },
   {
    "duration": 30,
    "start_time": "2021-07-25T03:04:17.823Z"
   },
   {
    "duration": 433,
    "start_time": "2021-07-25T03:04:17.855Z"
   },
   {
    "duration": 11,
    "start_time": "2021-07-25T03:04:18.290Z"
   },
   {
    "duration": 8,
    "start_time": "2021-07-25T03:04:18.303Z"
   },
   {
    "duration": 42,
    "start_time": "2021-07-25T03:04:18.313Z"
   },
   {
    "duration": 30,
    "start_time": "2021-07-25T03:04:18.357Z"
   },
   {
    "duration": 40,
    "start_time": "2021-07-25T03:04:18.390Z"
   },
   {
    "duration": 553,
    "start_time": "2021-07-25T03:04:18.432Z"
   },
   {
    "duration": 44,
    "start_time": "2021-07-25T03:04:18.988Z"
   },
   {
    "duration": 52,
    "start_time": "2021-07-25T03:04:19.035Z"
   },
   {
    "duration": 16,
    "start_time": "2021-07-25T03:04:19.089Z"
   },
   {
    "duration": 10,
    "start_time": "2021-07-25T03:04:19.107Z"
   },
   {
    "duration": 435,
    "start_time": "2021-07-25T03:04:19.119Z"
   },
   {
    "duration": 414,
    "start_time": "2021-07-25T03:04:19.556Z"
   },
   {
    "duration": 22,
    "start_time": "2021-07-25T03:04:19.973Z"
   },
   {
    "duration": 11,
    "start_time": "2021-07-25T03:04:19.998Z"
   },
   {
    "duration": 43,
    "start_time": "2021-07-25T03:04:20.012Z"
   },
   {
    "duration": 867,
    "start_time": "2021-07-25T03:04:20.058Z"
   },
   {
    "duration": 816,
    "start_time": "2021-07-25T03:05:08.889Z"
   },
   {
    "duration": 796,
    "start_time": "2021-07-25T03:05:15.709Z"
   },
   {
    "duration": 812,
    "start_time": "2021-07-25T03:05:30.507Z"
   },
   {
    "duration": 794,
    "start_time": "2021-07-25T03:05:37.135Z"
   },
   {
    "duration": 759,
    "start_time": "2021-07-25T03:10:18.031Z"
   },
   {
    "duration": 919,
    "start_time": "2021-07-25T03:11:30.043Z"
   },
   {
    "duration": 829,
    "start_time": "2021-07-25T03:12:16.086Z"
   },
   {
    "duration": 805,
    "start_time": "2021-07-25T03:12:24.046Z"
   },
   {
    "duration": 860,
    "start_time": "2021-07-25T03:12:34.608Z"
   },
   {
    "duration": 879,
    "start_time": "2021-07-25T03:12:40.456Z"
   },
   {
    "duration": 833,
    "start_time": "2021-07-25T03:12:47.176Z"
   },
   {
    "duration": 824,
    "start_time": "2021-07-25T03:12:56.043Z"
   },
   {
    "duration": 765,
    "start_time": "2021-07-25T03:15:46.352Z"
   },
   {
    "duration": 357,
    "start_time": "2021-07-25T03:21:56.954Z"
   },
   {
    "duration": 392,
    "start_time": "2021-07-25T03:22:34.963Z"
   },
   {
    "duration": 390,
    "start_time": "2021-07-25T03:22:47.747Z"
   },
   {
    "duration": 449,
    "start_time": "2021-07-25T03:23:01.476Z"
   },
   {
    "duration": 276,
    "start_time": "2021-07-25T03:25:21.341Z"
   },
   {
    "duration": 533,
    "start_time": "2021-07-25T03:30:41.648Z"
   },
   {
    "duration": 553,
    "start_time": "2021-07-25T03:31:01.575Z"
   },
   {
    "duration": 678,
    "start_time": "2021-07-25T03:31:26.886Z"
   },
   {
    "duration": 652,
    "start_time": "2021-07-25T03:31:35.747Z"
   },
   {
    "duration": 588,
    "start_time": "2021-07-25T03:31:46.624Z"
   },
   {
    "duration": 792,
    "start_time": "2021-07-25T04:26:23.147Z"
   },
   {
    "duration": 1033,
    "start_time": "2021-07-25T04:26:47.844Z"
   },
   {
    "duration": 1439,
    "start_time": "2021-07-25T15:37:36.214Z"
   },
   {
    "duration": 125,
    "start_time": "2021-07-25T15:37:37.655Z"
   },
   {
    "duration": 26,
    "start_time": "2021-07-25T15:37:37.784Z"
   },
   {
    "duration": 53,
    "start_time": "2021-07-25T15:37:37.814Z"
   },
   {
    "duration": 5,
    "start_time": "2021-07-25T15:37:37.870Z"
   },
   {
    "duration": 25,
    "start_time": "2021-07-25T15:37:37.877Z"
   },
   {
    "duration": 66,
    "start_time": "2021-07-25T15:37:37.904Z"
   },
   {
    "duration": 56,
    "start_time": "2021-07-25T15:37:37.974Z"
   },
   {
    "duration": 34,
    "start_time": "2021-07-25T15:37:38.033Z"
   },
   {
    "duration": 23,
    "start_time": "2021-07-25T15:37:38.069Z"
   },
   {
    "duration": 7,
    "start_time": "2021-07-25T15:37:38.094Z"
   },
   {
    "duration": 7,
    "start_time": "2021-07-25T15:37:38.104Z"
   },
   {
    "duration": 69,
    "start_time": "2021-07-25T15:37:38.114Z"
   },
   {
    "duration": 7,
    "start_time": "2021-07-25T15:37:38.185Z"
   },
   {
    "duration": 11,
    "start_time": "2021-07-25T15:37:38.194Z"
   },
   {
    "duration": 7,
    "start_time": "2021-07-25T15:37:38.207Z"
   },
   {
    "duration": 72,
    "start_time": "2021-07-25T15:37:38.216Z"
   },
   {
    "duration": 15,
    "start_time": "2021-07-25T15:37:38.291Z"
   },
   {
    "duration": 62,
    "start_time": "2021-07-25T15:37:38.309Z"
   },
   {
    "duration": 5,
    "start_time": "2021-07-25T15:37:38.373Z"
   },
   {
    "duration": 7,
    "start_time": "2021-07-25T15:37:38.380Z"
   },
   {
    "duration": 110,
    "start_time": "2021-07-25T15:37:38.389Z"
   },
   {
    "duration": 39,
    "start_time": "2021-07-25T15:37:38.505Z"
   },
   {
    "duration": 23,
    "start_time": "2021-07-25T15:37:38.549Z"
   },
   {
    "duration": 25,
    "start_time": "2021-07-25T15:37:38.576Z"
   },
   {
    "duration": 121,
    "start_time": "2021-07-25T15:37:38.604Z"
   },
   {
    "duration": 8,
    "start_time": "2021-07-25T15:37:38.728Z"
   },
   {
    "duration": 29,
    "start_time": "2021-07-25T15:37:38.739Z"
   },
   {
    "duration": 8,
    "start_time": "2021-07-25T15:37:38.771Z"
   },
   {
    "duration": 54,
    "start_time": "2021-07-25T15:37:38.782Z"
   },
   {
    "duration": 45,
    "start_time": "2021-07-25T15:37:38.839Z"
   },
   {
    "duration": 985,
    "start_time": "2021-07-25T15:37:38.887Z"
   },
   {
    "duration": 16,
    "start_time": "2021-07-25T15:37:39.875Z"
   },
   {
    "duration": 697,
    "start_time": "2021-07-25T15:37:39.894Z"
   },
   {
    "duration": 16,
    "start_time": "2021-07-25T15:37:40.594Z"
   },
   {
    "duration": 747,
    "start_time": "2021-07-25T15:37:40.613Z"
   },
   {
    "duration": 15,
    "start_time": "2021-07-25T15:37:41.362Z"
   },
   {
    "duration": 326,
    "start_time": "2021-07-25T15:37:41.379Z"
   },
   {
    "duration": 11,
    "start_time": "2021-07-25T15:37:41.707Z"
   },
   {
    "duration": 334,
    "start_time": "2021-07-25T15:37:41.720Z"
   },
   {
    "duration": 18,
    "start_time": "2021-07-25T15:37:42.056Z"
   },
   {
    "duration": 40,
    "start_time": "2021-07-25T15:37:42.076Z"
   },
   {
    "duration": 17,
    "start_time": "2021-07-25T15:37:42.118Z"
   },
   {
    "duration": 7,
    "start_time": "2021-07-25T15:37:42.168Z"
   },
   {
    "duration": 8,
    "start_time": "2021-07-25T15:37:42.177Z"
   },
   {
    "duration": 50,
    "start_time": "2021-07-25T15:37:42.188Z"
   },
   {
    "duration": 24,
    "start_time": "2021-07-25T15:37:42.267Z"
   },
   {
    "duration": 1396,
    "start_time": "2021-07-25T15:37:42.293Z"
   },
   {
    "duration": 29,
    "start_time": "2021-07-25T15:37:43.692Z"
   },
   {
    "duration": 422,
    "start_time": "2021-07-25T15:37:43.723Z"
   },
   {
    "duration": 23,
    "start_time": "2021-07-25T15:37:44.147Z"
   },
   {
    "duration": 6,
    "start_time": "2021-07-25T15:37:44.173Z"
   },
   {
    "duration": 38,
    "start_time": "2021-07-25T15:37:44.181Z"
   },
   {
    "duration": 6,
    "start_time": "2021-07-25T15:37:44.221Z"
   },
   {
    "duration": 39,
    "start_time": "2021-07-25T15:37:44.268Z"
   },
   {
    "duration": 568,
    "start_time": "2021-07-25T15:37:44.310Z"
   },
   {
    "duration": 47,
    "start_time": "2021-07-25T15:37:44.881Z"
   },
   {
    "duration": 54,
    "start_time": "2021-07-25T15:37:44.930Z"
   },
   {
    "duration": 18,
    "start_time": "2021-07-25T15:37:44.987Z"
   },
   {
    "duration": 13,
    "start_time": "2021-07-25T15:37:45.008Z"
   },
   {
    "duration": 694,
    "start_time": "2021-07-25T15:37:45.025Z"
   },
   {
    "duration": 429,
    "start_time": "2021-07-25T15:37:45.723Z"
   },
   {
    "duration": 21,
    "start_time": "2021-07-25T15:37:46.155Z"
   },
   {
    "duration": 11,
    "start_time": "2021-07-25T15:37:46.178Z"
   },
   {
    "duration": 31,
    "start_time": "2021-07-25T15:37:46.192Z"
   },
   {
    "duration": 930,
    "start_time": "2021-07-25T15:37:46.225Z"
   },
   {
    "duration": 956,
    "start_time": "2021-07-25T15:37:47.157Z"
   },
   {
    "duration": 1302,
    "start_time": "2021-07-25T15:37:48.124Z"
   },
   {
    "duration": 645,
    "start_time": "2021-07-25T15:37:49.429Z"
   },
   {
    "duration": 506,
    "start_time": "2021-07-25T15:37:50.078Z"
   },
   {
    "duration": 1173,
    "start_time": "2021-07-25T15:37:50.587Z"
   },
   {
    "duration": 1418,
    "start_time": "2021-07-25T19:09:26.791Z"
   },
   {
    "duration": 121,
    "start_time": "2021-07-25T19:09:28.212Z"
   },
   {
    "duration": 33,
    "start_time": "2021-07-25T19:09:28.336Z"
   },
   {
    "duration": 27,
    "start_time": "2021-07-25T19:09:28.372Z"
   },
   {
    "duration": 6,
    "start_time": "2021-07-25T19:09:28.402Z"
   },
   {
    "duration": 68,
    "start_time": "2021-07-25T19:09:28.410Z"
   },
   {
    "duration": 26,
    "start_time": "2021-07-25T19:09:28.480Z"
   },
   {
    "duration": 90,
    "start_time": "2021-07-25T19:09:28.510Z"
   },
   {
    "duration": 8,
    "start_time": "2021-07-25T19:09:28.603Z"
   },
   {
    "duration": 23,
    "start_time": "2021-07-25T19:09:28.613Z"
   },
   {
    "duration": 33,
    "start_time": "2021-07-25T19:09:28.638Z"
   },
   {
    "duration": 8,
    "start_time": "2021-07-25T19:09:28.674Z"
   },
   {
    "duration": 25,
    "start_time": "2021-07-25T19:09:28.684Z"
   },
   {
    "duration": 7,
    "start_time": "2021-07-25T19:09:28.711Z"
   },
   {
    "duration": 55,
    "start_time": "2021-07-25T19:09:28.720Z"
   },
   {
    "duration": 8,
    "start_time": "2021-07-25T19:09:28.777Z"
   },
   {
    "duration": 33,
    "start_time": "2021-07-25T19:09:28.788Z"
   },
   {
    "duration": 52,
    "start_time": "2021-07-25T19:09:28.823Z"
   },
   {
    "duration": 35,
    "start_time": "2021-07-25T19:09:28.877Z"
   },
   {
    "duration": 5,
    "start_time": "2021-07-25T19:09:28.915Z"
   },
   {
    "duration": 44,
    "start_time": "2021-07-25T19:09:28.923Z"
   },
   {
    "duration": 108,
    "start_time": "2021-07-25T19:09:28.970Z"
   },
   {
    "duration": 38,
    "start_time": "2021-07-25T19:09:29.083Z"
   },
   {
    "duration": 7,
    "start_time": "2021-07-25T19:09:29.125Z"
   },
   {
    "duration": 53,
    "start_time": "2021-07-25T19:09:29.134Z"
   },
   {
    "duration": 110,
    "start_time": "2021-07-25T19:09:29.190Z"
   },
   {
    "duration": 6,
    "start_time": "2021-07-25T19:09:29.303Z"
   },
   {
    "duration": 9,
    "start_time": "2021-07-25T19:09:29.312Z"
   },
   {
    "duration": 44,
    "start_time": "2021-07-25T19:09:29.323Z"
   },
   {
    "duration": 51,
    "start_time": "2021-07-25T19:09:29.369Z"
   },
   {
    "duration": 46,
    "start_time": "2021-07-25T19:09:29.423Z"
   },
   {
    "duration": 601,
    "start_time": "2021-07-25T19:09:29.471Z"
   },
   {
    "duration": 12,
    "start_time": "2021-07-25T19:09:30.074Z"
   },
   {
    "duration": 440,
    "start_time": "2021-07-25T19:09:30.088Z"
   },
   {
    "duration": 11,
    "start_time": "2021-07-25T19:09:30.531Z"
   },
   {
    "duration": 464,
    "start_time": "2021-07-25T19:09:30.544Z"
   },
   {
    "duration": 10,
    "start_time": "2021-07-25T19:09:31.011Z"
   },
   {
    "duration": 334,
    "start_time": "2021-07-25T19:09:31.024Z"
   },
   {
    "duration": 15,
    "start_time": "2021-07-25T19:09:31.361Z"
   },
   {
    "duration": 349,
    "start_time": "2021-07-25T19:09:31.379Z"
   },
   {
    "duration": 11,
    "start_time": "2021-07-25T19:09:31.730Z"
   },
   {
    "duration": 64,
    "start_time": "2021-07-25T19:09:31.743Z"
   },
   {
    "duration": 17,
    "start_time": "2021-07-25T19:09:31.809Z"
   },
   {
    "duration": 8,
    "start_time": "2021-07-25T19:09:31.828Z"
   },
   {
    "duration": 12,
    "start_time": "2021-07-25T19:09:31.868Z"
   },
   {
    "duration": 59,
    "start_time": "2021-07-25T19:09:31.883Z"
   },
   {
    "duration": 44,
    "start_time": "2021-07-25T19:09:31.944Z"
   },
   {
    "duration": 1216,
    "start_time": "2021-07-25T19:09:31.991Z"
   },
   {
    "duration": 29,
    "start_time": "2021-07-25T19:09:33.210Z"
   },
   {
    "duration": 433,
    "start_time": "2021-07-25T19:09:33.241Z"
   },
   {
    "duration": 12,
    "start_time": "2021-07-25T19:09:33.677Z"
   },
   {
    "duration": 8,
    "start_time": "2021-07-25T19:09:33.692Z"
   },
   {
    "duration": 93,
    "start_time": "2021-07-25T19:09:33.703Z"
   },
   {
    "duration": 7,
    "start_time": "2021-07-25T19:09:33.800Z"
   },
   {
    "duration": 81,
    "start_time": "2021-07-25T19:09:33.810Z"
   },
   {
    "duration": 586,
    "start_time": "2021-07-25T19:09:33.894Z"
   },
   {
    "duration": 48,
    "start_time": "2021-07-25T19:09:34.483Z"
   },
   {
    "duration": 63,
    "start_time": "2021-07-25T19:09:34.534Z"
   },
   {
    "duration": 19,
    "start_time": "2021-07-25T19:09:34.600Z"
   },
   {
    "duration": 50,
    "start_time": "2021-07-25T19:09:34.622Z"
   },
   {
    "duration": 458,
    "start_time": "2021-07-25T19:09:34.675Z"
   },
   {
    "duration": 427,
    "start_time": "2021-07-25T19:09:35.136Z"
   },
   {
    "duration": 16,
    "start_time": "2021-07-25T19:09:35.568Z"
   },
   {
    "duration": 14,
    "start_time": "2021-07-25T19:09:35.587Z"
   },
   {
    "duration": 72,
    "start_time": "2021-07-25T19:09:35.604Z"
   },
   {
    "duration": 858,
    "start_time": "2021-07-25T19:09:35.679Z"
   },
   {
    "duration": 931,
    "start_time": "2021-07-25T19:09:36.540Z"
   },
   {
    "duration": 839,
    "start_time": "2021-07-25T19:09:37.478Z"
   },
   {
    "duration": 404,
    "start_time": "2021-07-25T19:09:38.320Z"
   },
   {
    "duration": 318,
    "start_time": "2021-07-25T19:09:38.727Z"
   },
   {
    "duration": 739,
    "start_time": "2021-07-25T19:09:39.049Z"
   },
   {
    "duration": 378,
    "start_time": "2021-07-25T19:12:18.359Z"
   },
   {
    "duration": 480,
    "start_time": "2021-07-25T19:12:23.301Z"
   },
   {
    "duration": 658,
    "start_time": "2021-07-26T07:55:25.780Z"
   },
   {
    "duration": 76,
    "start_time": "2021-07-26T07:55:26.440Z"
   },
   {
    "duration": 15,
    "start_time": "2021-07-26T07:55:26.518Z"
   },
   {
    "duration": 20,
    "start_time": "2021-07-26T07:55:26.535Z"
   },
   {
    "duration": 4,
    "start_time": "2021-07-26T07:55:26.556Z"
   },
   {
    "duration": 31,
    "start_time": "2021-07-26T07:55:26.561Z"
   },
   {
    "duration": 18,
    "start_time": "2021-07-26T07:55:26.593Z"
   },
   {
    "duration": 35,
    "start_time": "2021-07-26T07:55:26.614Z"
   },
   {
    "duration": 6,
    "start_time": "2021-07-26T07:55:26.651Z"
   },
   {
    "duration": 43,
    "start_time": "2021-07-26T07:55:26.659Z"
   },
   {
    "duration": 5,
    "start_time": "2021-07-26T07:55:26.704Z"
   },
   {
    "duration": 6,
    "start_time": "2021-07-26T07:55:26.711Z"
   },
   {
    "duration": 16,
    "start_time": "2021-07-26T07:55:26.719Z"
   },
   {
    "duration": 5,
    "start_time": "2021-07-26T07:55:26.737Z"
   },
   {
    "duration": 7,
    "start_time": "2021-07-26T07:55:26.744Z"
   },
   {
    "duration": 42,
    "start_time": "2021-07-26T07:55:26.752Z"
   },
   {
    "duration": 21,
    "start_time": "2021-07-26T07:55:26.796Z"
   },
   {
    "duration": 11,
    "start_time": "2021-07-26T07:55:26.818Z"
   },
   {
    "duration": 22,
    "start_time": "2021-07-26T07:55:26.830Z"
   },
   {
    "duration": 4,
    "start_time": "2021-07-26T07:55:26.854Z"
   },
   {
    "duration": 32,
    "start_time": "2021-07-26T07:55:26.859Z"
   },
   {
    "duration": 58,
    "start_time": "2021-07-26T07:55:26.893Z"
   },
   {
    "duration": 37,
    "start_time": "2021-07-26T07:55:26.956Z"
   },
   {
    "duration": 5,
    "start_time": "2021-07-26T07:55:26.996Z"
   },
   {
    "duration": 27,
    "start_time": "2021-07-26T07:55:27.003Z"
   },
   {
    "duration": 61,
    "start_time": "2021-07-26T07:55:27.031Z"
   },
   {
    "duration": 5,
    "start_time": "2021-07-26T07:55:27.094Z"
   },
   {
    "duration": 5,
    "start_time": "2021-07-26T07:55:27.101Z"
   },
   {
    "duration": 7,
    "start_time": "2021-07-26T07:55:27.108Z"
   },
   {
    "duration": 34,
    "start_time": "2021-07-26T07:55:27.117Z"
   },
   {
    "duration": 45,
    "start_time": "2021-07-26T07:55:27.153Z"
   },
   {
    "duration": 309,
    "start_time": "2021-07-26T07:55:27.200Z"
   },
   {
    "duration": 9,
    "start_time": "2021-07-26T07:55:27.511Z"
   },
   {
    "duration": 227,
    "start_time": "2021-07-26T07:55:27.522Z"
   },
   {
    "duration": 9,
    "start_time": "2021-07-26T07:55:27.751Z"
   },
   {
    "duration": 279,
    "start_time": "2021-07-26T07:55:27.762Z"
   },
   {
    "duration": 8,
    "start_time": "2021-07-26T07:55:28.043Z"
   },
   {
    "duration": 178,
    "start_time": "2021-07-26T07:55:28.053Z"
   },
   {
    "duration": 7,
    "start_time": "2021-07-26T07:55:28.233Z"
   },
   {
    "duration": 273,
    "start_time": "2021-07-26T07:55:28.241Z"
   },
   {
    "duration": 7,
    "start_time": "2021-07-26T07:55:28.516Z"
   },
   {
    "duration": 32,
    "start_time": "2021-07-26T07:55:28.524Z"
   },
   {
    "duration": 11,
    "start_time": "2021-07-26T07:55:28.557Z"
   },
   {
    "duration": 4,
    "start_time": "2021-07-26T07:55:28.570Z"
   },
   {
    "duration": 3,
    "start_time": "2021-07-26T07:55:28.591Z"
   },
   {
    "duration": 31,
    "start_time": "2021-07-26T07:55:28.596Z"
   },
   {
    "duration": 12,
    "start_time": "2021-07-26T07:55:28.629Z"
   },
   {
    "duration": 629,
    "start_time": "2021-07-26T07:55:28.643Z"
   },
   {
    "duration": 28,
    "start_time": "2021-07-26T07:55:29.274Z"
   },
   {
    "duration": 174,
    "start_time": "2021-07-26T07:55:29.304Z"
   },
   {
    "duration": 12,
    "start_time": "2021-07-26T07:55:29.480Z"
   },
   {
    "duration": 4,
    "start_time": "2021-07-26T07:55:29.494Z"
   },
   {
    "duration": 20,
    "start_time": "2021-07-26T07:55:29.500Z"
   },
   {
    "duration": 3,
    "start_time": "2021-07-26T07:55:29.522Z"
   },
   {
    "duration": 25,
    "start_time": "2021-07-26T07:55:29.526Z"
   },
   {
    "duration": 308,
    "start_time": "2021-07-26T07:55:29.553Z"
   },
   {
    "duration": 37,
    "start_time": "2021-07-26T07:55:29.863Z"
   },
   {
    "duration": 17,
    "start_time": "2021-07-26T07:55:29.902Z"
   },
   {
    "duration": 9,
    "start_time": "2021-07-26T07:55:29.921Z"
   },
   {
    "duration": 6,
    "start_time": "2021-07-26T07:55:29.932Z"
   },
   {
    "duration": 220,
    "start_time": "2021-07-26T07:55:29.940Z"
   },
   {
    "duration": 205,
    "start_time": "2021-07-26T07:55:30.161Z"
   },
   {
    "duration": 9,
    "start_time": "2021-07-26T07:55:30.367Z"
   },
   {
    "duration": 17,
    "start_time": "2021-07-26T07:55:30.377Z"
   },
   {
    "duration": 28,
    "start_time": "2021-07-26T07:55:30.396Z"
   },
   {
    "duration": 630,
    "start_time": "2021-07-26T07:55:30.426Z"
   },
   {
    "duration": 555,
    "start_time": "2021-07-26T07:55:31.057Z"
   },
   {
    "duration": 541,
    "start_time": "2021-07-26T07:55:31.616Z"
   },
   {
    "duration": 205,
    "start_time": "2021-07-26T07:55:32.159Z"
   },
   {
    "duration": 172,
    "start_time": "2021-07-26T07:55:32.366Z"
   },
   {
    "duration": 344,
    "start_time": "2021-07-26T07:55:32.539Z"
   },
   {
    "duration": 586,
    "start_time": "2021-07-26T07:55:45.547Z"
   },
   {
    "duration": 78,
    "start_time": "2021-07-26T07:55:46.134Z"
   },
   {
    "duration": 15,
    "start_time": "2021-07-26T07:55:46.216Z"
   },
   {
    "duration": 21,
    "start_time": "2021-07-26T07:55:46.232Z"
   },
   {
    "duration": 3,
    "start_time": "2021-07-26T07:55:46.254Z"
   },
   {
    "duration": 33,
    "start_time": "2021-07-26T07:55:46.259Z"
   },
   {
    "duration": 18,
    "start_time": "2021-07-26T07:55:46.294Z"
   },
   {
    "duration": 35,
    "start_time": "2021-07-26T07:55:46.313Z"
   },
   {
    "duration": 5,
    "start_time": "2021-07-26T07:55:46.349Z"
   },
   {
    "duration": 36,
    "start_time": "2021-07-26T07:55:46.355Z"
   },
   {
    "duration": 5,
    "start_time": "2021-07-26T07:55:46.393Z"
   },
   {
    "duration": 8,
    "start_time": "2021-07-26T07:55:46.399Z"
   },
   {
    "duration": 17,
    "start_time": "2021-07-26T07:55:46.408Z"
   },
   {
    "duration": 3,
    "start_time": "2021-07-26T07:55:46.427Z"
   },
   {
    "duration": 12,
    "start_time": "2021-07-26T07:55:46.432Z"
   },
   {
    "duration": 10,
    "start_time": "2021-07-26T07:55:46.446Z"
   },
   {
    "duration": 33,
    "start_time": "2021-07-26T07:55:46.458Z"
   },
   {
    "duration": 12,
    "start_time": "2021-07-26T07:55:46.493Z"
   },
   {
    "duration": 26,
    "start_time": "2021-07-26T07:55:46.506Z"
   },
   {
    "duration": 5,
    "start_time": "2021-07-26T07:55:46.533Z"
   },
   {
    "duration": 10,
    "start_time": "2021-07-26T07:55:46.539Z"
   },
   {
    "duration": 78,
    "start_time": "2021-07-26T07:55:46.554Z"
   },
   {
    "duration": 22,
    "start_time": "2021-07-26T07:55:46.635Z"
   },
   {
    "duration": 4,
    "start_time": "2021-07-26T07:55:46.659Z"
   },
   {
    "duration": 35,
    "start_time": "2021-07-26T07:55:46.665Z"
   },
   {
    "duration": 51,
    "start_time": "2021-07-26T07:55:46.702Z"
   },
   {
    "duration": 5,
    "start_time": "2021-07-26T07:55:46.756Z"
   },
   {
    "duration": 4,
    "start_time": "2021-07-26T07:55:46.791Z"
   },
   {
    "duration": 6,
    "start_time": "2021-07-26T07:55:46.797Z"
   },
   {
    "duration": 33,
    "start_time": "2021-07-26T07:55:46.804Z"
   },
   {
    "duration": 11,
    "start_time": "2021-07-26T07:55:46.838Z"
   },
   {
    "duration": 324,
    "start_time": "2021-07-26T07:55:46.850Z"
   },
   {
    "duration": 7,
    "start_time": "2021-07-26T07:55:47.175Z"
   },
   {
    "duration": 218,
    "start_time": "2021-07-26T07:55:47.192Z"
   },
   {
    "duration": 8,
    "start_time": "2021-07-26T07:55:47.411Z"
   },
   {
    "duration": 280,
    "start_time": "2021-07-26T07:55:47.420Z"
   },
   {
    "duration": 7,
    "start_time": "2021-07-26T07:55:47.702Z"
   },
   {
    "duration": 170,
    "start_time": "2021-07-26T07:55:47.711Z"
   },
   {
    "duration": 14,
    "start_time": "2021-07-26T07:55:47.882Z"
   },
   {
    "duration": 170,
    "start_time": "2021-07-26T07:55:47.898Z"
   },
   {
    "duration": 7,
    "start_time": "2021-07-26T07:55:48.070Z"
   },
   {
    "duration": 35,
    "start_time": "2021-07-26T07:55:48.079Z"
   },
   {
    "duration": 11,
    "start_time": "2021-07-26T07:55:48.116Z"
   },
   {
    "duration": 5,
    "start_time": "2021-07-26T07:55:48.129Z"
   },
   {
    "duration": 6,
    "start_time": "2021-07-26T07:55:48.135Z"
   },
   {
    "duration": 50,
    "start_time": "2021-07-26T07:55:48.142Z"
   },
   {
    "duration": 13,
    "start_time": "2021-07-26T07:55:48.194Z"
   },
   {
    "duration": 645,
    "start_time": "2021-07-26T07:55:48.208Z"
   },
   {
    "duration": 18,
    "start_time": "2021-07-26T07:55:48.855Z"
   },
   {
    "duration": 178,
    "start_time": "2021-07-26T07:55:48.875Z"
   },
   {
    "duration": 8,
    "start_time": "2021-07-26T07:55:49.059Z"
   },
   {
    "duration": 4,
    "start_time": "2021-07-26T07:55:49.068Z"
   },
   {
    "duration": 37,
    "start_time": "2021-07-26T07:55:49.074Z"
   },
   {
    "duration": 3,
    "start_time": "2021-07-26T07:55:49.113Z"
   },
   {
    "duration": 35,
    "start_time": "2021-07-26T07:55:49.117Z"
   },
   {
    "duration": 285,
    "start_time": "2021-07-26T07:55:49.154Z"
   },
   {
    "duration": 29,
    "start_time": "2021-07-26T07:55:49.441Z"
   },
   {
    "duration": 31,
    "start_time": "2021-07-26T07:55:49.471Z"
   },
   {
    "duration": 9,
    "start_time": "2021-07-26T07:55:49.504Z"
   },
   {
    "duration": 8,
    "start_time": "2021-07-26T07:55:49.515Z"
   },
   {
    "duration": 227,
    "start_time": "2021-07-26T07:55:49.525Z"
   },
   {
    "duration": 197,
    "start_time": "2021-07-26T07:55:49.754Z"
   },
   {
    "duration": 8,
    "start_time": "2021-07-26T07:55:49.953Z"
   },
   {
    "duration": 7,
    "start_time": "2021-07-26T07:55:49.962Z"
   },
   {
    "duration": 37,
    "start_time": "2021-07-26T07:55:49.970Z"
   },
   {
    "duration": 603,
    "start_time": "2021-07-26T07:55:50.008Z"
   },
   {
    "duration": 584,
    "start_time": "2021-07-26T07:55:50.616Z"
   },
   {
    "duration": 519,
    "start_time": "2021-07-26T07:55:51.202Z"
   },
   {
    "duration": 208,
    "start_time": "2021-07-26T07:55:51.722Z"
   },
   {
    "duration": 177,
    "start_time": "2021-07-26T07:55:51.932Z"
   },
   {
    "duration": 342,
    "start_time": "2021-07-26T07:55:52.110Z"
   },
   {
    "duration": 5,
    "start_time": "2021-07-26T08:10:34.175Z"
   },
   {
    "duration": 5,
    "start_time": "2021-07-26T08:11:11.272Z"
   },
   {
    "duration": 8,
    "start_time": "2021-07-26T08:11:47.442Z"
   },
   {
    "duration": 5,
    "start_time": "2021-07-26T08:12:27.762Z"
   },
   {
    "duration": 6,
    "start_time": "2021-07-26T08:12:51.572Z"
   },
   {
    "duration": 4,
    "start_time": "2021-07-28T17:43:48.786Z"
   },
   {
    "duration": 3,
    "start_time": "2021-07-28T17:45:44.069Z"
   },
   {
    "duration": 591,
    "start_time": "2021-07-28T17:45:54.041Z"
   },
   {
    "duration": 86,
    "start_time": "2021-07-28T17:45:56.653Z"
   },
   {
    "duration": 18,
    "start_time": "2021-07-28T17:46:03.137Z"
   },
   {
    "duration": 80,
    "start_time": "2021-07-28T17:50:43.394Z"
   },
   {
    "duration": 39,
    "start_time": "2021-07-28T18:09:46.858Z"
   },
   {
    "duration": 7,
    "start_time": "2021-07-28T18:09:49.199Z"
   },
   {
    "duration": 18,
    "start_time": "2021-07-28T18:09:52.471Z"
   },
   {
    "duration": 425,
    "start_time": "2021-07-28T18:12:01.233Z"
   },
   {
    "duration": 503,
    "start_time": "2021-07-28T18:12:21.015Z"
   },
   {
    "duration": 160,
    "start_time": "2021-07-28T18:12:27.616Z"
   },
   {
    "duration": 134,
    "start_time": "2021-07-28T18:12:33.468Z"
   },
   {
    "duration": 158,
    "start_time": "2021-07-28T18:12:59.527Z"
   },
   {
    "duration": 378,
    "start_time": "2021-07-28T18:15:34.019Z"
   },
   {
    "duration": 6,
    "start_time": "2021-07-28T18:18:53.517Z"
   },
   {
    "duration": 5,
    "start_time": "2021-07-28T18:19:08.448Z"
   },
   {
    "duration": 6,
    "start_time": "2021-07-28T18:19:09.123Z"
   },
   {
    "duration": 17,
    "start_time": "2021-07-28T18:19:09.791Z"
   },
   {
    "duration": 10,
    "start_time": "2021-07-28T18:27:53.255Z"
   },
   {
    "duration": 5,
    "start_time": "2021-07-28T18:27:54.927Z"
   },
   {
    "duration": 12,
    "start_time": "2021-07-28T18:28:11.112Z"
   },
   {
    "duration": 29,
    "start_time": "2021-07-28T18:29:52.658Z"
   },
   {
    "duration": 5,
    "start_time": "2021-07-28T18:30:03.407Z"
   },
   {
    "duration": 54,
    "start_time": "2021-07-28T18:30:08.320Z"
   },
   {
    "duration": 211,
    "start_time": "2021-07-28T18:30:20.516Z"
   },
   {
    "duration": 58,
    "start_time": "2021-07-28T18:30:27.352Z"
   },
   {
    "duration": 58,
    "start_time": "2021-07-28T18:30:47.840Z"
   },
   {
    "duration": 4439,
    "start_time": "2021-07-28T18:38:30.886Z"
   },
   {
    "duration": 6,
    "start_time": "2021-07-28T18:38:39.876Z"
   },
   {
    "duration": 5,
    "start_time": "2021-07-28T18:38:41.332Z"
   },
   {
    "duration": 5,
    "start_time": "2021-07-28T18:38:56.642Z"
   },
   {
    "duration": 4,
    "start_time": "2021-07-28T18:39:00.484Z"
   },
   {
    "duration": 58,
    "start_time": "2021-07-28T18:39:01.751Z"
   },
   {
    "duration": 9,
    "start_time": "2021-07-28T18:39:36.368Z"
   },
   {
    "duration": 10,
    "start_time": "2021-07-28T18:39:43.570Z"
   },
   {
    "duration": 42,
    "start_time": "2021-07-28T18:40:36.696Z"
   },
   {
    "duration": 16,
    "start_time": "2021-07-28T18:42:14.603Z"
   },
   {
    "duration": 5,
    "start_time": "2021-07-28T18:42:42.675Z"
   },
   {
    "duration": 4,
    "start_time": "2021-07-28T18:42:56.099Z"
   },
   {
    "duration": 6,
    "start_time": "2021-07-28T18:42:56.991Z"
   },
   {
    "duration": 43,
    "start_time": "2021-07-28T18:42:59.895Z"
   },
   {
    "duration": 15,
    "start_time": "2021-07-28T18:44:35.173Z"
   },
   {
    "duration": 356,
    "start_time": "2021-07-28T18:44:49.937Z"
   },
   {
    "duration": 10,
    "start_time": "2021-07-28T18:44:50.796Z"
   },
   {
    "duration": 322,
    "start_time": "2021-07-28T18:44:54.196Z"
   },
   {
    "duration": 9,
    "start_time": "2021-07-28T18:44:56.609Z"
   },
   {
    "duration": 274,
    "start_time": "2021-07-28T18:44:59.610Z"
   },
   {
    "duration": 9,
    "start_time": "2021-07-28T18:45:02.380Z"
   },
   {
    "duration": 188,
    "start_time": "2021-07-28T18:45:07.508Z"
   },
   {
    "duration": 12,
    "start_time": "2021-07-28T18:45:10.552Z"
   },
   {
    "duration": 1145,
    "start_time": "2021-07-28T18:45:55.697Z"
   },
   {
    "duration": 86,
    "start_time": "2021-07-28T18:45:56.844Z"
   },
   {
    "duration": 18,
    "start_time": "2021-07-28T18:45:56.932Z"
   },
   {
    "duration": 35,
    "start_time": "2021-07-28T18:45:56.952Z"
   },
   {
    "duration": 4,
    "start_time": "2021-07-28T18:45:56.989Z"
   },
   {
    "duration": 25,
    "start_time": "2021-07-28T18:45:56.994Z"
   },
   {
    "duration": 20,
    "start_time": "2021-07-28T18:45:57.020Z"
   },
   {
    "duration": 61,
    "start_time": "2021-07-28T18:45:57.042Z"
   },
   {
    "duration": 6,
    "start_time": "2021-07-28T18:45:57.105Z"
   },
   {
    "duration": 19,
    "start_time": "2021-07-28T18:45:57.112Z"
   },
   {
    "duration": 161,
    "start_time": "2021-07-28T18:45:57.133Z"
   },
   {
    "duration": 5,
    "start_time": "2021-07-28T18:45:57.295Z"
   },
   {
    "duration": 9,
    "start_time": "2021-07-28T18:45:57.301Z"
   },
   {
    "duration": 21,
    "start_time": "2021-07-28T18:45:57.311Z"
   },
   {
    "duration": 5,
    "start_time": "2021-07-28T18:45:57.334Z"
   },
   {
    "duration": 10,
    "start_time": "2021-07-28T18:45:57.341Z"
   },
   {
    "duration": 33,
    "start_time": "2021-07-28T18:45:57.352Z"
   },
   {
    "duration": 23,
    "start_time": "2021-07-28T18:45:57.386Z"
   },
   {
    "duration": 12,
    "start_time": "2021-07-28T18:45:57.410Z"
   },
   {
    "duration": 74,
    "start_time": "2021-07-28T18:45:57.424Z"
   },
   {
    "duration": 3,
    "start_time": "2021-07-28T18:45:57.500Z"
   },
   {
    "duration": 12,
    "start_time": "2021-07-28T18:45:57.504Z"
   },
   {
    "duration": 6,
    "start_time": "2021-07-28T18:45:57.520Z"
   },
   {
    "duration": 75,
    "start_time": "2021-07-28T18:45:57.529Z"
   },
   {
    "duration": 13,
    "start_time": "2021-07-28T18:45:57.606Z"
   },
   {
    "duration": 10,
    "start_time": "2021-07-28T18:45:57.621Z"
   },
   {
    "duration": 7,
    "start_time": "2021-07-28T18:45:57.633Z"
   },
   {
    "duration": 8,
    "start_time": "2021-07-28T18:45:57.642Z"
   },
   {
    "duration": 67,
    "start_time": "2021-07-28T18:45:57.651Z"
   },
   {
    "duration": 13,
    "start_time": "2021-07-28T18:45:57.719Z"
   },
   {
    "duration": 368,
    "start_time": "2021-07-28T18:45:57.734Z"
   },
   {
    "duration": 9,
    "start_time": "2021-07-28T18:45:58.104Z"
   },
   {
    "duration": 273,
    "start_time": "2021-07-28T18:45:58.114Z"
   },
   {
    "duration": 9,
    "start_time": "2021-07-28T18:45:58.389Z"
   },
   {
    "duration": 269,
    "start_time": "2021-07-28T18:45:58.400Z"
   },
   {
    "duration": 15,
    "start_time": "2021-07-28T18:45:58.671Z"
   },
   {
    "duration": 208,
    "start_time": "2021-07-28T18:45:58.688Z"
   },
   {
    "duration": 10,
    "start_time": "2021-07-28T18:45:58.898Z"
   },
   {
    "duration": 217,
    "start_time": "2021-07-28T18:45:58.911Z"
   },
   {
    "duration": 10,
    "start_time": "2021-07-28T18:45:59.130Z"
   },
   {
    "duration": 48,
    "start_time": "2021-07-28T18:45:59.142Z"
   },
   {
    "duration": 14,
    "start_time": "2021-07-28T18:45:59.192Z"
   },
   {
    "duration": 6,
    "start_time": "2021-07-28T18:45:59.208Z"
   },
   {
    "duration": 12,
    "start_time": "2021-07-28T18:45:59.216Z"
   },
   {
    "duration": 129,
    "start_time": "2021-07-28T18:45:59.230Z"
   },
   {
    "duration": 28,
    "start_time": "2021-07-28T18:45:59.361Z"
   },
   {
    "duration": 757,
    "start_time": "2021-07-28T18:45:59.391Z"
   },
   {
    "duration": 22,
    "start_time": "2021-07-28T18:46:00.150Z"
   },
   {
    "duration": 215,
    "start_time": "2021-07-28T18:46:00.185Z"
   },
   {
    "duration": 9,
    "start_time": "2021-07-28T18:46:00.402Z"
   },
   {
    "duration": 15,
    "start_time": "2021-07-28T18:46:00.412Z"
   },
   {
    "duration": 36,
    "start_time": "2021-07-28T18:46:00.429Z"
   },
   {
    "duration": 4,
    "start_time": "2021-07-28T18:46:00.467Z"
   },
   {
    "duration": 38,
    "start_time": "2021-07-28T18:46:00.473Z"
   },
   {
    "duration": 337,
    "start_time": "2021-07-28T18:46:00.513Z"
   },
   {
    "duration": 41,
    "start_time": "2021-07-28T18:46:00.851Z"
   },
   {
    "duration": 21,
    "start_time": "2021-07-28T18:46:00.894Z"
   },
   {
    "duration": 17,
    "start_time": "2021-07-28T18:46:00.917Z"
   },
   {
    "duration": 27,
    "start_time": "2021-07-28T18:46:00.936Z"
   },
   {
    "duration": 250,
    "start_time": "2021-07-28T18:46:00.965Z"
   },
   {
    "duration": 239,
    "start_time": "2021-07-28T18:46:01.217Z"
   },
   {
    "duration": 11,
    "start_time": "2021-07-28T18:46:01.458Z"
   },
   {
    "duration": 21,
    "start_time": "2021-07-28T18:46:01.471Z"
   },
   {
    "duration": 25,
    "start_time": "2021-07-28T18:46:01.494Z"
   },
   {
    "duration": 615,
    "start_time": "2021-07-28T18:46:01.520Z"
   },
   {
    "duration": 620,
    "start_time": "2021-07-28T18:46:02.137Z"
   },
   {
    "duration": 811,
    "start_time": "2021-07-28T18:46:02.759Z"
   },
   {
    "duration": 328,
    "start_time": "2021-07-28T18:46:03.575Z"
   },
   {
    "duration": 206,
    "start_time": "2021-07-28T18:46:03.904Z"
   },
   {
    "duration": 581,
    "start_time": "2021-07-28T18:46:04.111Z"
   },
   {
    "duration": 36,
    "start_time": "2021-07-28T18:52:42.002Z"
   },
   {
    "duration": 17,
    "start_time": "2021-07-28T18:52:55.947Z"
   },
   {
    "duration": 12,
    "start_time": "2021-07-28T18:53:01.518Z"
   },
   {
    "duration": 6,
    "start_time": "2021-07-28T18:53:13.846Z"
   },
   {
    "duration": 238,
    "start_time": "2021-07-28T18:53:17.012Z"
   },
   {
    "duration": 231,
    "start_time": "2021-07-28T18:53:20.554Z"
   },
   {
    "duration": 9,
    "start_time": "2021-07-28T18:55:13.494Z"
   },
   {
    "duration": 19,
    "start_time": "2021-07-28T18:55:27.711Z"
   },
   {
    "duration": 259,
    "start_time": "2021-07-28T18:56:03.437Z"
   },
   {
    "duration": 270,
    "start_time": "2021-07-28T18:56:09.491Z"
   },
   {
    "duration": 21,
    "start_time": "2021-07-28T18:56:19.472Z"
   },
   {
    "duration": 21,
    "start_time": "2021-07-28T18:57:02.678Z"
   },
   {
    "duration": 526,
    "start_time": "2021-07-28T19:30:22.868Z"
   },
   {
    "duration": 1212,
    "start_time": "2021-07-28T19:30:31.874Z"
   },
   {
    "duration": 91,
    "start_time": "2021-07-28T19:30:33.089Z"
   },
   {
    "duration": 20,
    "start_time": "2021-07-28T19:30:33.182Z"
   },
   {
    "duration": 36,
    "start_time": "2021-07-28T19:30:33.204Z"
   },
   {
    "duration": 3,
    "start_time": "2021-07-28T19:30:33.242Z"
   },
   {
    "duration": 22,
    "start_time": "2021-07-28T19:30:33.247Z"
   },
   {
    "duration": 34,
    "start_time": "2021-07-28T19:30:33.271Z"
   },
   {
    "duration": 49,
    "start_time": "2021-07-28T19:30:33.309Z"
   },
   {
    "duration": 5,
    "start_time": "2021-07-28T19:30:33.360Z"
   },
   {
    "duration": 30,
    "start_time": "2021-07-28T19:30:33.367Z"
   },
   {
    "duration": 154,
    "start_time": "2021-07-28T19:30:33.400Z"
   },
   {
    "duration": 5,
    "start_time": "2021-07-28T19:30:33.556Z"
   },
   {
    "duration": 10,
    "start_time": "2021-07-28T19:30:33.562Z"
   },
   {
    "duration": 35,
    "start_time": "2021-07-28T19:30:33.573Z"
   },
   {
    "duration": 23,
    "start_time": "2021-07-28T19:30:33.610Z"
   },
   {
    "duration": 25,
    "start_time": "2021-07-28T19:30:33.634Z"
   },
   {
    "duration": 5,
    "start_time": "2021-07-28T19:30:33.661Z"
   },
   {
    "duration": 33,
    "start_time": "2021-07-28T19:30:33.667Z"
   },
   {
    "duration": 15,
    "start_time": "2021-07-28T19:30:33.702Z"
   },
   {
    "duration": 67,
    "start_time": "2021-07-28T19:30:33.719Z"
   },
   {
    "duration": 5,
    "start_time": "2021-07-28T19:30:33.789Z"
   },
   {
    "duration": 17,
    "start_time": "2021-07-28T19:30:33.796Z"
   },
   {
    "duration": 6,
    "start_time": "2021-07-28T19:30:33.818Z"
   },
   {
    "duration": 70,
    "start_time": "2021-07-28T19:30:33.827Z"
   },
   {
    "duration": 15,
    "start_time": "2021-07-28T19:30:33.899Z"
   },
   {
    "duration": 13,
    "start_time": "2021-07-28T19:30:33.916Z"
   },
   {
    "duration": 12,
    "start_time": "2021-07-28T19:30:33.930Z"
   },
   {
    "duration": 14,
    "start_time": "2021-07-28T19:30:33.944Z"
   },
   {
    "duration": 52,
    "start_time": "2021-07-28T19:30:33.960Z"
   },
   {
    "duration": 14,
    "start_time": "2021-07-28T19:30:34.014Z"
   },
   {
    "duration": 393,
    "start_time": "2021-07-28T19:30:34.030Z"
   },
   {
    "duration": 9,
    "start_time": "2021-07-28T19:30:34.425Z"
   },
   {
    "duration": 285,
    "start_time": "2021-07-28T19:30:34.436Z"
   },
   {
    "duration": 11,
    "start_time": "2021-07-28T19:30:34.723Z"
   },
   {
    "duration": 304,
    "start_time": "2021-07-28T19:30:34.736Z"
   },
   {
    "duration": 9,
    "start_time": "2021-07-28T19:30:35.042Z"
   },
   {
    "duration": 220,
    "start_time": "2021-07-28T19:30:35.052Z"
   },
   {
    "duration": 19,
    "start_time": "2021-07-28T19:30:35.274Z"
   },
   {
    "duration": 222,
    "start_time": "2021-07-28T19:30:35.296Z"
   },
   {
    "duration": 9,
    "start_time": "2021-07-28T19:30:35.520Z"
   },
   {
    "duration": 31,
    "start_time": "2021-07-28T19:30:35.531Z"
   },
   {
    "duration": 27,
    "start_time": "2021-07-28T19:30:35.564Z"
   },
   {
    "duration": 17,
    "start_time": "2021-07-28T19:30:35.594Z"
   },
   {
    "duration": 7,
    "start_time": "2021-07-28T19:30:35.614Z"
   },
   {
    "duration": 128,
    "start_time": "2021-07-28T19:30:35.623Z"
   },
   {
    "duration": 17,
    "start_time": "2021-07-28T19:30:35.753Z"
   },
   {
    "duration": 819,
    "start_time": "2021-07-28T19:30:35.786Z"
   },
   {
    "duration": 23,
    "start_time": "2021-07-28T19:30:36.608Z"
   },
   {
    "duration": 238,
    "start_time": "2021-07-28T19:30:36.633Z"
   },
   {
    "duration": 20,
    "start_time": "2021-07-28T19:30:36.873Z"
   },
   {
    "duration": 6,
    "start_time": "2021-07-28T19:30:36.895Z"
   },
   {
    "duration": 30,
    "start_time": "2021-07-28T19:30:36.903Z"
   },
   {
    "duration": 5,
    "start_time": "2021-07-28T19:30:36.935Z"
   },
   {
    "duration": 46,
    "start_time": "2021-07-28T19:30:36.941Z"
   },
   {
    "duration": 368,
    "start_time": "2021-07-28T19:30:36.989Z"
   },
   {
    "duration": 41,
    "start_time": "2021-07-28T19:30:37.359Z"
   },
   {
    "duration": 18,
    "start_time": "2021-07-28T19:30:37.402Z"
   },
   {
    "duration": 15,
    "start_time": "2021-07-28T19:30:37.422Z"
   },
   {
    "duration": 12,
    "start_time": "2021-07-28T19:30:37.441Z"
   },
   {
    "duration": 289,
    "start_time": "2021-07-28T19:30:37.455Z"
   },
   {
    "duration": 285,
    "start_time": "2021-07-28T19:30:37.746Z"
   },
   {
    "duration": 9,
    "start_time": "2021-07-28T19:30:38.033Z"
   },
   {
    "duration": 29,
    "start_time": "2021-07-28T19:30:38.044Z"
   },
   {
    "duration": 505,
    "start_time": "2021-07-28T19:30:38.085Z"
   },
   {
    "duration": 543,
    "start_time": "2021-07-28T19:30:38.592Z"
   },
   {
    "duration": 532,
    "start_time": "2021-07-28T19:30:39.137Z"
   },
   {
    "duration": 381,
    "start_time": "2021-07-28T19:30:39.671Z"
   },
   {
    "duration": 228,
    "start_time": "2021-07-28T19:30:40.057Z"
   },
   {
    "duration": 443,
    "start_time": "2021-07-28T19:30:40.288Z"
   },
   {
    "duration": 4,
    "start_time": "2021-07-28T19:33:52.681Z"
   },
   {
    "duration": 6,
    "start_time": "2021-07-28T19:34:02.202Z"
   },
   {
    "duration": 7,
    "start_time": "2021-07-28T19:34:16.266Z"
   },
   {
    "duration": 22,
    "start_time": "2021-07-28T19:34:23.294Z"
   },
   {
    "duration": 14,
    "start_time": "2021-07-28T19:35:46.486Z"
   },
   {
    "duration": 355,
    "start_time": "2021-07-28T19:41:06.502Z"
   },
   {
    "duration": 459,
    "start_time": "2021-07-28T19:43:51.618Z"
   },
   {
    "duration": 386,
    "start_time": "2021-07-28T19:44:02.272Z"
   },
   {
    "duration": 453,
    "start_time": "2021-07-28T19:44:20.414Z"
   },
   {
    "duration": 30,
    "start_time": "2021-07-28T19:44:54.907Z"
   },
   {
    "duration": 384,
    "start_time": "2021-07-28T19:46:47.793Z"
   },
   {
    "duration": 673,
    "start_time": "2021-07-28T19:47:16.033Z"
   },
   {
    "duration": 1325,
    "start_time": "2021-07-28T19:52:37.811Z"
   },
   {
    "duration": 369,
    "start_time": "2021-07-28T19:53:36.725Z"
   },
   {
    "duration": 23,
    "start_time": "2021-07-28T19:54:39.469Z"
   },
   {
    "duration": 10,
    "start_time": "2021-07-28T19:54:48.542Z"
   },
   {
    "duration": 3,
    "start_time": "2021-07-28T19:54:57.276Z"
   },
   {
    "duration": 487,
    "start_time": "2021-07-28T19:56:36.440Z"
   },
   {
    "duration": 394,
    "start_time": "2021-07-28T19:56:56.556Z"
   },
   {
    "duration": 3,
    "start_time": "2021-07-28T19:57:44.128Z"
   },
   {
    "duration": 6,
    "start_time": "2021-07-28T19:58:58.652Z"
   },
   {
    "duration": 7,
    "start_time": "2021-07-28T19:59:05.170Z"
   },
   {
    "duration": 9,
    "start_time": "2021-07-28T19:59:12.829Z"
   },
   {
    "duration": 6,
    "start_time": "2021-07-28T19:59:20.552Z"
   },
   {
    "duration": 6,
    "start_time": "2021-07-28T19:59:26.410Z"
   },
   {
    "duration": 86,
    "start_time": "2021-07-28T20:10:45.433Z"
   },
   {
    "duration": 60,
    "start_time": "2021-07-28T20:11:03.434Z"
   },
   {
    "duration": 8,
    "start_time": "2021-07-28T20:11:10.549Z"
   },
   {
    "duration": 761,
    "start_time": "2021-07-28T20:20:25.921Z"
   },
   {
    "duration": 10,
    "start_time": "2021-07-28T20:21:20.042Z"
   },
   {
    "duration": 763,
    "start_time": "2021-07-28T20:21:27.998Z"
   },
   {
    "duration": 735,
    "start_time": "2021-07-28T20:21:36.917Z"
   },
   {
    "duration": 705,
    "start_time": "2021-07-28T20:23:45.689Z"
   },
   {
    "duration": 9,
    "start_time": "2021-07-28T20:24:09.172Z"
   },
   {
    "duration": 238,
    "start_time": "2021-07-28T20:24:45.698Z"
   },
   {
    "duration": 239,
    "start_time": "2021-07-28T20:25:26.078Z"
   },
   {
    "duration": 291,
    "start_time": "2021-07-28T20:32:06.036Z"
   },
   {
    "duration": 188,
    "start_time": "2021-07-28T20:32:30.381Z"
   },
   {
    "duration": 412,
    "start_time": "2021-07-28T20:34:30.336Z"
   },
   {
    "duration": 400,
    "start_time": "2021-07-28T20:34:54.191Z"
   },
   {
    "duration": 1104,
    "start_time": "2021-07-28T20:42:10.415Z"
   },
   {
    "duration": 87,
    "start_time": "2021-07-28T20:42:11.521Z"
   },
   {
    "duration": 16,
    "start_time": "2021-07-28T20:42:11.610Z"
   },
   {
    "duration": 18,
    "start_time": "2021-07-28T20:42:11.628Z"
   },
   {
    "duration": 4,
    "start_time": "2021-07-28T20:42:11.647Z"
   },
   {
    "duration": 47,
    "start_time": "2021-07-28T20:42:11.652Z"
   },
   {
    "duration": 18,
    "start_time": "2021-07-28T20:42:11.701Z"
   },
   {
    "duration": 36,
    "start_time": "2021-07-28T20:42:11.722Z"
   },
   {
    "duration": 26,
    "start_time": "2021-07-28T20:42:11.760Z"
   },
   {
    "duration": 15,
    "start_time": "2021-07-28T20:42:11.787Z"
   },
   {
    "duration": 154,
    "start_time": "2021-07-28T20:42:11.803Z"
   },
   {
    "duration": 5,
    "start_time": "2021-07-28T20:42:11.959Z"
   },
   {
    "duration": 6,
    "start_time": "2021-07-28T20:42:11.965Z"
   },
   {
    "duration": 26,
    "start_time": "2021-07-28T20:42:11.973Z"
   },
   {
    "duration": 4,
    "start_time": "2021-07-28T20:42:12.001Z"
   },
   {
    "duration": 7,
    "start_time": "2021-07-28T20:42:12.007Z"
   },
   {
    "duration": 7,
    "start_time": "2021-07-28T20:42:12.016Z"
   },
   {
    "duration": 60,
    "start_time": "2021-07-28T20:42:12.025Z"
   },
   {
    "duration": 13,
    "start_time": "2021-07-28T20:42:12.087Z"
   },
   {
    "duration": 52,
    "start_time": "2021-07-28T20:42:12.101Z"
   },
   {
    "duration": 4,
    "start_time": "2021-07-28T20:42:12.155Z"
   },
   {
    "duration": 27,
    "start_time": "2021-07-28T20:42:12.160Z"
   },
   {
    "duration": 3,
    "start_time": "2021-07-28T20:42:12.192Z"
   },
   {
    "duration": 62,
    "start_time": "2021-07-28T20:42:12.198Z"
   },
   {
    "duration": 34,
    "start_time": "2021-07-28T20:42:12.261Z"
   },
   {
    "duration": 6,
    "start_time": "2021-07-28T20:42:12.297Z"
   },
   {
    "duration": 4,
    "start_time": "2021-07-28T20:42:12.305Z"
   },
   {
    "duration": 6,
    "start_time": "2021-07-28T20:42:12.311Z"
   },
   {
    "duration": 72,
    "start_time": "2021-07-28T20:42:12.318Z"
   },
   {
    "duration": 12,
    "start_time": "2021-07-28T20:42:12.392Z"
   },
   {
    "duration": 381,
    "start_time": "2021-07-28T20:42:12.406Z"
   },
   {
    "duration": 9,
    "start_time": "2021-07-28T20:42:12.788Z"
   },
   {
    "duration": 272,
    "start_time": "2021-07-28T20:42:12.799Z"
   },
   {
    "duration": 16,
    "start_time": "2021-07-28T20:42:13.073Z"
   },
   {
    "duration": 256,
    "start_time": "2021-07-28T20:42:13.091Z"
   },
   {
    "duration": 8,
    "start_time": "2021-07-28T20:42:13.349Z"
   },
   {
    "duration": 199,
    "start_time": "2021-07-28T20:42:13.359Z"
   },
   {
    "duration": 8,
    "start_time": "2021-07-28T20:42:13.559Z"
   },
   {
    "duration": 206,
    "start_time": "2021-07-28T20:42:13.568Z"
   },
   {
    "duration": 8,
    "start_time": "2021-07-28T20:42:13.784Z"
   },
   {
    "duration": 27,
    "start_time": "2021-07-28T20:42:13.794Z"
   },
   {
    "duration": 12,
    "start_time": "2021-07-28T20:42:13.823Z"
   },
   {
    "duration": 4,
    "start_time": "2021-07-28T20:42:13.837Z"
   },
   {
    "duration": 5,
    "start_time": "2021-07-28T20:42:13.843Z"
   },
   {
    "duration": 119,
    "start_time": "2021-07-28T20:42:13.885Z"
   },
   {
    "duration": 16,
    "start_time": "2021-07-28T20:42:14.006Z"
   },
   {
    "duration": 736,
    "start_time": "2021-07-28T20:42:14.024Z"
   },
   {
    "duration": 29,
    "start_time": "2021-07-28T20:42:14.761Z"
   },
   {
    "duration": 202,
    "start_time": "2021-07-28T20:42:14.791Z"
   },
   {
    "duration": 10,
    "start_time": "2021-07-28T20:42:14.994Z"
   },
   {
    "duration": 6,
    "start_time": "2021-07-28T20:42:15.006Z"
   },
   {
    "duration": 25,
    "start_time": "2021-07-28T20:42:15.013Z"
   },
   {
    "duration": 4,
    "start_time": "2021-07-28T20:42:15.040Z"
   },
   {
    "duration": 59,
    "start_time": "2021-07-28T20:42:15.046Z"
   },
   {
    "duration": 325,
    "start_time": "2021-07-28T20:42:15.107Z"
   },
   {
    "duration": 23,
    "start_time": "2021-07-28T20:42:15.433Z"
   },
   {
    "duration": 30,
    "start_time": "2021-07-28T20:42:15.458Z"
   },
   {
    "duration": 10,
    "start_time": "2021-07-28T20:42:15.489Z"
   },
   {
    "duration": 5,
    "start_time": "2021-07-28T20:42:15.501Z"
   },
   {
    "duration": 273,
    "start_time": "2021-07-28T20:42:15.508Z"
   },
   {
    "duration": 269,
    "start_time": "2021-07-28T20:42:15.785Z"
   },
   {
    "duration": 9,
    "start_time": "2021-07-28T20:42:16.056Z"
   },
   {
    "duration": 34,
    "start_time": "2021-07-28T20:42:16.066Z"
   },
   {
    "duration": 12,
    "start_time": "2021-07-28T20:42:16.102Z"
   },
   {
    "duration": 3,
    "start_time": "2021-07-28T20:42:16.116Z"
   },
   {
    "duration": 777,
    "start_time": "2021-07-28T20:42:16.121Z"
   },
   {
    "duration": 8,
    "start_time": "2021-07-28T20:42:16.900Z"
   },
   {
    "duration": 815,
    "start_time": "2021-07-28T20:42:16.912Z"
   },
   {
    "duration": 8,
    "start_time": "2021-07-28T20:42:17.729Z"
   },
   {
    "duration": 850,
    "start_time": "2021-07-28T20:42:17.739Z"
   },
   {
    "duration": 242,
    "start_time": "2021-07-28T20:42:18.591Z"
   },
   {
    "duration": 235,
    "start_time": "2021-07-28T20:42:18.834Z"
   },
   {
    "duration": 200,
    "start_time": "2021-07-28T20:42:19.070Z"
   },
   {
    "duration": 225,
    "start_time": "2021-07-28T20:42:19.271Z"
   },
   {
    "duration": 401,
    "start_time": "2021-07-28T20:42:19.497Z"
   },
   {
    "duration": 398,
    "start_time": "2021-07-28T20:42:19.900Z"
   },
   {
    "duration": 1417,
    "start_time": "2021-07-29T07:54:01.296Z"
   },
   {
    "duration": 115,
    "start_time": "2021-07-29T07:54:02.716Z"
   },
   {
    "duration": 33,
    "start_time": "2021-07-29T07:54:02.835Z"
   },
   {
    "duration": 49,
    "start_time": "2021-07-29T07:54:02.871Z"
   },
   {
    "duration": 29,
    "start_time": "2021-07-29T07:54:02.922Z"
   },
   {
    "duration": 37,
    "start_time": "2021-07-29T07:54:02.953Z"
   },
   {
    "duration": 29,
    "start_time": "2021-07-29T07:54:02.992Z"
   },
   {
    "duration": 61,
    "start_time": "2021-07-29T07:54:03.025Z"
   },
   {
    "duration": 8,
    "start_time": "2021-07-29T07:54:03.089Z"
   },
   {
    "duration": 34,
    "start_time": "2021-07-29T07:54:03.099Z"
   },
   {
    "duration": 208,
    "start_time": "2021-07-29T07:54:03.135Z"
   },
   {
    "duration": 15,
    "start_time": "2021-07-29T07:54:03.345Z"
   },
   {
    "duration": 20,
    "start_time": "2021-07-29T07:54:03.362Z"
   },
   {
    "duration": 31,
    "start_time": "2021-07-29T07:54:03.385Z"
   },
   {
    "duration": 13,
    "start_time": "2021-07-29T07:54:03.419Z"
   },
   {
    "duration": 23,
    "start_time": "2021-07-29T07:54:03.434Z"
   },
   {
    "duration": 19,
    "start_time": "2021-07-29T07:54:03.459Z"
   },
   {
    "duration": 36,
    "start_time": "2021-07-29T07:54:03.481Z"
   },
   {
    "duration": 17,
    "start_time": "2021-07-29T07:54:03.519Z"
   },
   {
    "duration": 88,
    "start_time": "2021-07-29T07:54:03.539Z"
   },
   {
    "duration": 5,
    "start_time": "2021-07-29T07:54:03.630Z"
   },
   {
    "duration": 28,
    "start_time": "2021-07-29T07:54:03.638Z"
   },
   {
    "duration": 6,
    "start_time": "2021-07-29T07:54:03.674Z"
   },
   {
    "duration": 100,
    "start_time": "2021-07-29T07:54:03.684Z"
   },
   {
    "duration": 23,
    "start_time": "2021-07-29T07:54:03.786Z"
   },
   {
    "duration": 10,
    "start_time": "2021-07-29T07:54:03.811Z"
   },
   {
    "duration": 33,
    "start_time": "2021-07-29T07:54:03.823Z"
   },
   {
    "duration": 6,
    "start_time": "2021-07-29T07:54:03.858Z"
   },
   {
    "duration": 64,
    "start_time": "2021-07-29T07:54:03.866Z"
   },
   {
    "duration": 33,
    "start_time": "2021-07-29T07:54:03.932Z"
   },
   {
    "duration": 549,
    "start_time": "2021-07-29T07:54:03.968Z"
   },
   {
    "duration": 10,
    "start_time": "2021-07-29T07:54:04.519Z"
   },
   {
    "duration": 392,
    "start_time": "2021-07-29T07:54:04.532Z"
   },
   {
    "duration": 10,
    "start_time": "2021-07-29T07:54:04.927Z"
   },
   {
    "duration": 392,
    "start_time": "2021-07-29T07:54:04.939Z"
   },
   {
    "duration": 28,
    "start_time": "2021-07-29T07:54:05.333Z"
   },
   {
    "duration": 309,
    "start_time": "2021-07-29T07:54:05.364Z"
   },
   {
    "duration": 10,
    "start_time": "2021-07-29T07:54:05.675Z"
   },
   {
    "duration": 312,
    "start_time": "2021-07-29T07:54:05.687Z"
   },
   {
    "duration": 10,
    "start_time": "2021-07-29T07:54:06.001Z"
   },
   {
    "duration": 61,
    "start_time": "2021-07-29T07:54:06.014Z"
   },
   {
    "duration": 16,
    "start_time": "2021-07-29T07:54:06.077Z"
   },
   {
    "duration": 8,
    "start_time": "2021-07-29T07:54:06.095Z"
   },
   {
    "duration": 8,
    "start_time": "2021-07-29T07:54:06.106Z"
   },
   {
    "duration": 150,
    "start_time": "2021-07-29T07:54:06.116Z"
   },
   {
    "duration": 22,
    "start_time": "2021-07-29T07:54:06.268Z"
   },
   {
    "duration": 1326,
    "start_time": "2021-07-29T07:54:06.293Z"
   },
   {
    "duration": 41,
    "start_time": "2021-07-29T07:54:07.621Z"
   },
   {
    "duration": 307,
    "start_time": "2021-07-29T07:54:07.664Z"
   },
   {
    "duration": 10,
    "start_time": "2021-07-29T07:54:07.973Z"
   },
   {
    "duration": 17,
    "start_time": "2021-07-29T07:54:07.986Z"
   },
   {
    "duration": 54,
    "start_time": "2021-07-29T07:54:08.005Z"
   },
   {
    "duration": 6,
    "start_time": "2021-07-29T07:54:08.062Z"
   },
   {
    "duration": 53,
    "start_time": "2021-07-29T07:54:08.070Z"
   },
   {
    "duration": 500,
    "start_time": "2021-07-29T07:54:08.126Z"
   },
   {
    "duration": 52,
    "start_time": "2021-07-29T07:54:08.629Z"
   },
   {
    "duration": 21,
    "start_time": "2021-07-29T07:54:08.683Z"
   },
   {
    "duration": 18,
    "start_time": "2021-07-29T07:54:08.706Z"
   },
   {
    "duration": 30,
    "start_time": "2021-07-29T07:54:08.727Z"
   },
   {
    "duration": 396,
    "start_time": "2021-07-29T07:54:08.759Z"
   },
   {
    "duration": 386,
    "start_time": "2021-07-29T07:54:09.158Z"
   },
   {
    "duration": 16,
    "start_time": "2021-07-29T07:54:09.547Z"
   },
   {
    "duration": 31,
    "start_time": "2021-07-29T07:54:09.566Z"
   },
   {
    "duration": 15,
    "start_time": "2021-07-29T07:54:09.600Z"
   },
   {
    "duration": 1122,
    "start_time": "2021-07-29T07:54:09.617Z"
   },
   {
    "duration": 15,
    "start_time": "2021-07-29T07:54:10.747Z"
   },
   {
    "duration": 1068,
    "start_time": "2021-07-29T07:54:10.765Z"
   },
   {
    "duration": 19,
    "start_time": "2021-07-29T07:54:11.840Z"
   },
   {
    "duration": 1125,
    "start_time": "2021-07-29T07:54:11.862Z"
   },
   {
    "duration": 373,
    "start_time": "2021-07-29T07:54:12.990Z"
   },
   {
    "duration": 397,
    "start_time": "2021-07-29T07:54:13.365Z"
   },
   {
    "duration": 291,
    "start_time": "2021-07-29T07:54:13.764Z"
   },
   {
    "duration": 290,
    "start_time": "2021-07-29T07:54:14.057Z"
   },
   {
    "duration": 584,
    "start_time": "2021-07-29T07:54:14.356Z"
   },
   {
    "duration": 599,
    "start_time": "2021-07-29T07:54:14.943Z"
   }
  ],
  "kernelspec": {
   "display_name": "Python 3",
   "language": "python",
   "name": "python3"
  },
  "language_info": {
   "codemirror_mode": {
    "name": "ipython",
    "version": 3
   },
   "file_extension": ".py",
   "mimetype": "text/x-python",
   "name": "python",
   "nbconvert_exporter": "python",
   "pygments_lexer": "ipython3",
   "version": "3.8.3"
  },
  "toc": {
   "base_numbering": 1,
   "nav_menu": {},
   "number_sections": true,
   "sideBar": true,
   "skip_h1_title": true,
   "title_cell": "Table of Contents",
   "title_sidebar": "Contents",
   "toc_cell": true,
   "toc_position": {
    "height": "calc(100% - 180px)",
    "left": "10px",
    "top": "150px",
    "width": "383.391px"
   },
   "toc_section_display": true,
   "toc_window_display": false
  }
 },
 "nbformat": 4,
 "nbformat_minor": 4
}
